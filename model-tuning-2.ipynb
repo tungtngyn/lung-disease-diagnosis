{
 "cells": [
  {
   "cell_type": "markdown",
   "metadata": {},
   "source": [
    "# Lung Disease Diagnosis - Model Tuning\n",
    "\n",
    "Developer: Tung Nguyen\n",
    "\n",
    "This notebook is a continuation of model-tuning-1.ipynb and experiments with larger deep learning architectures for the [lung disease diagnosis dataset](https://www.kaggle.com/datasets/nih-chest-xrays/data)."
   ]
  },
  {
   "cell_type": "markdown",
   "metadata": {},
   "source": [
    "The best performing models from model-tuning-1.ipynb were model-1 (baseline), model-2 (untrained weights), and model-3 ('stratified' sampling - minority classes are sampled with replacement to combat class imbalance).\n",
    "\n",
    "This notebook attempts to scale up and trains an Xception and DenseNet169 model.Due to resource constraints (training locally), model-2 (training from scratch) will not be pursued for these larger models.\n",
    "<br>\n",
    "<br>\n",
    "\n",
    "__MODEL SUMMARY TABLE__\n",
    "|  | 8 | 9 | 10 | 11 | 12 |\n",
    "| --- | --- | --- | --- | --- | --- |\n",
    "| Loss | BCE | BCE | BCE | BCE | Weighted BCE |\n",
    "| Base Model | Xception | Xception | DenseNet169 | DenseNet169 | DenseNet169 |\n",
    "| Model Weights | ImageNet | ImageNet | ImageNet | ImageNet | ImageNet |\n",
    "| Data Sampling | Stratified Sampling | Random | Stratified Sampling | Random | Random |\n",
    "| Blocks Frozen | Default | Default | Default | Default | Default |\n",
    "| Pooling Operation | GlobalAvg2D | GlobalAvg2D | GlobalAvg2D | GlobalAvg2D | GlobalAvg2D |\n",
    "\n",
    "* BCE = Binary Cross Entropy"
   ]
  },
  {
   "cell_type": "markdown",
   "metadata": {},
   "source": [
    "## Data Prep\n",
    "---"
   ]
  },
  {
   "cell_type": "code",
   "execution_count": 1,
   "metadata": {},
   "outputs": [],
   "source": [
    "import pandas as pd\n",
    "import numpy as np\n",
    "import matplotlib.pyplot as plt\n",
    "\n",
    "from sklearn.preprocessing import MultiLabelBinarizer\n",
    "from sklearn.utils.class_weight import compute_class_weight\n",
    "\n",
    "from tensorflow.keras.applications.xception import Xception\n",
    "from tensorflow.keras.applications.xception import preprocess_input as preprocess_input_Xception\n",
    "\n",
    "from tensorflow.keras.applications import DenseNet169\n",
    "from tensorflow.keras.applications.densenet import preprocess_input as preprocess_input_densenet\n",
    "\n",
    "from tensorflow.keras import Sequential, Model\n",
    "from tensorflow.keras.layers import Dense, Flatten, GlobalAveragePooling2D\n",
    "from tensorflow.keras.callbacks import ModelCheckpoint, EarlyStopping, ReduceLROnPlateau\n",
    "from tensorflow.keras.preprocessing.image import ImageDataGenerator\n",
    "from tensorflow.keras.metrics import AUC\n",
    "from tensorflow.keras import backend as K\n",
    "from tensorflow import cast, float32\n",
    "\n",
    "from sklearn.metrics import roc_curve, precision_recall_curve, auc\n",
    "from sklearn.model_selection import train_test_split"
   ]
  },
  {
   "cell_type": "code",
   "execution_count": 2,
   "metadata": {},
   "outputs": [],
   "source": [
    "df = pd.read_csv('../chest-x-ray-data/Data_Entry_2017.csv')\n",
    "df = df.drop(['OriginalImage[Width', 'Height]', 'OriginalImagePixelSpacing[x', 'y]', 'Unnamed: 11'], axis=1, inplace=False)\n",
    "\n",
    "mlb = MultiLabelBinarizer()\n",
    "lbl_bins = mlb.fit_transform(df['Finding Labels'].str.split(\"|\"))\n",
    "df_bin = df.join(pd.DataFrame(lbl_bins, columns=mlb.classes_))\n",
    "\n",
    "with open('../chest-x-ray-data/train_val_list.txt', 'r') as f:\n",
    "    train_list = f.read().split('\\n')\n",
    "\n",
    "with open('../chest-x-ray-data/test_list.txt', 'r') as f:\n",
    "    test_list = f.read().split('\\n')\n",
    "\n",
    "df_train_val = df_bin[df_bin['Image Index'].isin(train_list)]\n",
    "df_test = df_bin[df_bin['Image Index'].isin(test_list)]\n",
    "\n",
    "df_train, df_val = train_test_split(df_train_val, test_size=0.2, random_state=1)"
   ]
  },
  {
   "cell_type": "code",
   "execution_count": 3,
   "metadata": {},
   "outputs": [],
   "source": [
    "def plot_df_freq(df, labels, title=''):\n",
    "    df_pos = df[labels].sum()\n",
    "\n",
    "    ax = df_pos.plot(kind='bar', figsize=(15, 7), rot=20);\n",
    "    ax.set_title(title);\n",
    "    ax.set_xlabel('Labels');\n",
    "    ax.set_ylabel('Frequency');\n",
    "    ax.bar_label(ax.containers[0])\n",
    "    \n",
    "    return df_pos"
   ]
  },
  {
   "cell_type": "markdown",
   "metadata": {},
   "source": [
    "### Data Sampling"
   ]
  },
  {
   "cell_type": "code",
   "execution_count": 4,
   "metadata": {},
   "outputs": [],
   "source": [
    "# Random Sampling\n",
    "sampled_df_train = df_train.sample(20000, random_state=1)\n",
    "\n",
    "sampled_df_val = df_val.sample(2000, random_state=1)"
   ]
  },
  {
   "cell_type": "code",
   "execution_count": 5,
   "metadata": {},
   "outputs": [],
   "source": [
    "# Stratified Sampling for Data Augmentation\n",
    "stratified_sampled_df_train = pd.DataFrame([])\n",
    "\n",
    "n = 1500\n",
    "\n",
    "# Sample each label\n",
    "for lbl in mlb.classes_:\n",
    "    temp = df_train[df_train[lbl] == 1].sample(\n",
    "        n,\n",
    "        replace=True,\n",
    "        random_state=1\n",
    "    )\n",
    "    \n",
    "    stratified_sampled_df_train = pd.concat([stratified_sampled_df_train, temp])"
   ]
  },
  {
   "cell_type": "markdown",
   "metadata": {},
   "source": [
    "### Weighted Loss"
   ]
  },
  {
   "cell_type": "code",
   "execution_count": 6,
   "metadata": {},
   "outputs": [],
   "source": [
    "labels = [lbl for lbl in mlb.classes_ if lbl != 'No Finding']"
   ]
  },
  {
   "cell_type": "code",
   "execution_count": 7,
   "metadata": {},
   "outputs": [],
   "source": [
    "weights = []\n",
    "for i, lbl in enumerate(labels):\n",
    "    weights.append(dict(enumerate(compute_class_weight(class_weight='balanced', classes=[0., 1.], y=sampled_df_train[lbl]))))\n",
    "    \n",
    "# Class Weights\n",
    "pos = np.array([])\n",
    "neg = np.array([])\n",
    "for d in weights:\n",
    "    pos = np.append(pos, d[1])\n",
    "    neg = np.append(neg, d[0])"
   ]
  },
  {
   "cell_type": "code",
   "execution_count": 8,
   "metadata": {},
   "outputs": [],
   "source": [
    "def get_weighted_loss(pos, neg, eps=1e-7):\n",
    "    def weighted_loss(y_true, y_pred):\n",
    "\n",
    "        # Cast y_true as float for calculations\n",
    "        y_true = cast(y_true, float32)\n",
    "\n",
    "        # Initialize loss\n",
    "        loss = 0.0\n",
    "\n",
    "        # Calculate weighted binary cross entropy loss\n",
    "        for i in range(len(pos)):\n",
    "            loss += -1 * K.mean(pos[i] * y_true[:, i] * K.log(y_pred[:, i] + eps))\n",
    "            loss += -1 * K.mean(neg[i] * (1 - y_true[:, i]) * K.log(1 - y_pred[:, i] + eps))\n",
    "\n",
    "        return loss\n",
    "    return weighted_loss"
   ]
  },
  {
   "cell_type": "markdown",
   "metadata": {},
   "source": [
    "### Helper Functions"
   ]
  },
  {
   "cell_type": "code",
   "execution_count": 9,
   "metadata": {},
   "outputs": [],
   "source": [
    "def plot_losses(model_history, figsize=(15, 10)):\n",
    "    fig, ax = plt.subplots(1, 1, figsize=figsize)\n",
    "    ax.plot(model_history.history['val_loss'], 'r-o')\n",
    "    ax.plot(model_history.history['loss'], 'b-o')\n",
    "    ax.set_title('Training vs. Validation Loss')\n",
    "    ax.legend(['Validation Loss', 'Training Loss'])\n",
    "    ax.set_xlabel('Epoch')\n",
    "    ax.set_ylabel('Loss')"
   ]
  },
  {
   "cell_type": "code",
   "execution_count": 10,
   "metadata": {},
   "outputs": [],
   "source": [
    "def datagen_from_df(df, x_col, y_cols, data_dir, preproc_func=None, target_size=(256, 256), shuffle=False, batch_size=64, color_mode='rgb', random_state=1):\n",
    "\n",
    "    datagen = ImageDataGenerator(\n",
    "        preprocessing_function=preproc_func,\n",
    "        horizontal_flip=True,\n",
    "        vertical_flip=False,\n",
    "        height_shift_range=0.05,\n",
    "        width_shift_range=0.1,\n",
    "        rotation_range=5,\n",
    "        shear_range=0.1,\n",
    "        fill_mode='reflect',\n",
    "        zoom_range=0.15,\n",
    "    )\n",
    "\n",
    "    img_generator = datagen.flow_from_dataframe(\n",
    "        df,\n",
    "        data_dir,\n",
    "        shuffle=shuffle,\n",
    "        batch_size=batch_size,\n",
    "        class_mode='raw',\n",
    "        color_mode=color_mode,\n",
    "        target_size=target_size,\n",
    "        x_col=x_col,\n",
    "        y_col=y_cols,\n",
    "        seed=random_state\n",
    "    )\n",
    "\n",
    "    return img_generator"
   ]
  },
  {
   "cell_type": "code",
   "execution_count": 11,
   "metadata": {},
   "outputs": [],
   "source": [
    "# Callbacks\n",
    "early = EarlyStopping(\n",
    "    monitor=\"val_loss\",\n",
    "    mode=\"min\", \n",
    "    patience=8\n",
    ")\n",
    "\n",
    "reduce_lr = ReduceLROnPlateau(\n",
    "    monitor='val_loss', \n",
    "    factor=0.2,\n",
    "    patience=4, \n",
    "    min_lr=0.00001\n",
    ")\n",
    "\n",
    "chkpt = {}    \n",
    "base_path = './models/'\n",
    "\n",
    "for i in np.arange(8, 14):\n",
    "\n",
    "    chkpt[i] = ModelCheckpoint(\n",
    "        base_path + 'model-' + str(i) + '.h5', \n",
    "        monitor='val_loss',\n",
    "        verbose=1, \n",
    "        save_best_only=True, \n",
    "        mode='min', \n",
    "    )"
   ]
  },
  {
   "cell_type": "markdown",
   "metadata": {},
   "source": [
    "## Models\n",
    "---"
   ]
  },
  {
   "cell_type": "markdown",
   "metadata": {},
   "source": [
    "### DataGenerators"
   ]
  },
  {
   "cell_type": "code",
   "execution_count": 15,
   "metadata": {},
   "outputs": [],
   "source": [
    "data_dir = '../chest-x-ray-data/imgs/'"
   ]
  },
  {
   "cell_type": "code",
   "execution_count": 16,
   "metadata": {},
   "outputs": [
    {
     "name": "stdout",
     "output_type": "stream",
     "text": [
      "Found 2000 validated image filenames.\n",
      "Found 2000 validated image filenames.\n",
      "Found 2000 validated image filenames.\n",
      "Found 2000 validated image filenames.\n",
      "Found 2000 validated image filenames.\n",
      "Found 22500 validated image filenames.\n",
      "Found 20000 validated image filenames.\n",
      "Found 22500 validated image filenames.\n",
      "Found 20000 validated image filenames.\n",
      "Found 20000 validated image filenames.\n"
     ]
    }
   ],
   "source": [
    "train_gen = {}\n",
    "val_gen = {}\n",
    "\n",
    "for i in [8, 9]:\n",
    "    val_gen[i] = datagen_from_df(\n",
    "        sampled_df_val, \n",
    "        x_col = 'Image Index', \n",
    "        y_cols = labels, \n",
    "        data_dir = data_dir, \n",
    "        preproc_func = preprocess_input_Xception, \n",
    "        target_size = (256, 256), \n",
    "        shuffle=False,\n",
    "        batch_size = 64, \n",
    "        color_mode = 'rgb', \n",
    "        random_state = 1\n",
    "        )\n",
    "\n",
    "for i in [10, 11, 12]:\n",
    "    val_gen[i] = datagen_from_df(\n",
    "        sampled_df_val, \n",
    "        x_col = 'Image Index', \n",
    "        y_cols = labels, \n",
    "        data_dir = data_dir, \n",
    "        preproc_func = preprocess_input_densenet, \n",
    "        target_size = (256, 256), \n",
    "        shuffle=False,\n",
    "        batch_size = 64, \n",
    "        color_mode = 'rgb', \n",
    "        random_state = 1\n",
    "        )\n",
    "\n",
    "# Xception models\n",
    "train_gen[8] = datagen_from_df(\n",
    "    stratified_sampled_df_train, \n",
    "    x_col = 'Image Index', \n",
    "    y_cols = labels, \n",
    "    data_dir = data_dir, \n",
    "    preproc_func = preprocess_input_Xception, \n",
    "    target_size = (256, 256), \n",
    "    shuffle=True,\n",
    "    batch_size = 64, \n",
    "    color_mode = 'rgb', \n",
    "    random_state = 1\n",
    "    )\n",
    "\n",
    "train_gen[9] = datagen_from_df(\n",
    "    sampled_df_train, \n",
    "    x_col = 'Image Index', \n",
    "    y_cols = labels, \n",
    "    data_dir = data_dir, \n",
    "    preproc_func = preprocess_input_Xception, \n",
    "    target_size = (256, 256), \n",
    "    shuffle=True,\n",
    "    batch_size = 64, \n",
    "    color_mode = 'rgb', \n",
    "    random_state = 1\n",
    "    )\n",
    "\n",
    "# DenseNet models\n",
    "train_gen[10] = datagen_from_df(\n",
    "    stratified_sampled_df_train, \n",
    "    x_col = 'Image Index', \n",
    "    y_cols = labels, \n",
    "    data_dir = data_dir, \n",
    "    preproc_func = preprocess_input_densenet, \n",
    "    target_size = (256, 256), \n",
    "    shuffle=True,\n",
    "    batch_size = 64, \n",
    "    color_mode = 'rgb', \n",
    "    random_state = 1\n",
    "    )\n",
    "\n",
    "train_gen[11] = datagen_from_df(\n",
    "    sampled_df_train, \n",
    "    x_col = 'Image Index', \n",
    "    y_cols = labels, \n",
    "    data_dir = data_dir, \n",
    "    preproc_func = preprocess_input_densenet, \n",
    "    target_size = (256, 256), \n",
    "    shuffle=True,\n",
    "    batch_size = 64, \n",
    "    color_mode = 'rgb', \n",
    "    random_state = 1\n",
    "    )\n",
    "\n",
    "train_gen[12] = datagen_from_df(\n",
    "    sampled_df_train, \n",
    "    x_col = 'Image Index', \n",
    "    y_cols = labels, \n",
    "    data_dir = data_dir, \n",
    "    preproc_func = preprocess_input_densenet, \n",
    "    target_size = (256, 256), \n",
    "    shuffle=True,\n",
    "    batch_size = 64, \n",
    "    color_mode = 'rgb', \n",
    "    random_state = 1\n",
    "    )"
   ]
  },
  {
   "cell_type": "code",
   "execution_count": 17,
   "metadata": {},
   "outputs": [],
   "source": [
    "history = {}"
   ]
  },
  {
   "cell_type": "markdown",
   "metadata": {},
   "source": [
    "### Model 8"
   ]
  },
  {
   "cell_type": "code",
   "execution_count": 36,
   "metadata": {},
   "outputs": [],
   "source": [
    "# Base Models\n",
    "base_model_Xc_1 = Xception(\n",
    "    include_top=False,\n",
    "    weights=\"imagenet\",\n",
    "    pooling=\"max\",\n",
    "    input_shape=(256, 256, 3)\n",
    ")\n",
    "\n",
    "output_layer_Xc_1 = Dense(len(labels), activation='sigmoid')(base_model_Xc_1.output)\n",
    "model_Xc_1 = Model(base_model_Xc_1.input, output_layer_Xc_1)\n",
    "\n",
    "for layer in model_Xc_1.layers:\n",
    "    layer.trainable = True"
   ]
  },
  {
   "cell_type": "code",
   "execution_count": 37,
   "metadata": {},
   "outputs": [],
   "source": [
    "model_Xc_1.compile(\n",
    "    optimizer='adam',\n",
    "    loss='binary_crossentropy',\n",
    "    metrics = [\n",
    "        AUC(curve='PR', multi_label=True, num_labels=len(labels)), \n",
    "        AUC(curve='ROC', multi_label=True, num_labels=len(labels))\n",
    "        ]\n",
    ")"
   ]
  },
  {
   "cell_type": "code",
   "execution_count": 38,
   "metadata": {},
   "outputs": [
    {
     "name": "stdout",
     "output_type": "stream",
     "text": [
      "Epoch 1/40\n"
     ]
    },
    {
     "name": "stderr",
     "output_type": "stream",
     "text": [
      "2022-06-05 20:10:58.560822: I tensorflow/core/grappler/optimizers/custom_graph_optimizer_registry.cc:113] Plugin optimizer for device_type GPU is enabled.\n"
     ]
    },
    {
     "name": "stdout",
     "output_type": "stream",
     "text": [
      "352/352 [==============================] - ETA: 0s - loss: 0.3368 - auc_2: 0.3057 - auc_3: 0.7175"
     ]
    },
    {
     "name": "stderr",
     "output_type": "stream",
     "text": [
      "2022-06-05 20:18:41.934388: I tensorflow/core/grappler/optimizers/custom_graph_optimizer_registry.cc:113] Plugin optimizer for device_type GPU is enabled.\n"
     ]
    },
    {
     "name": "stdout",
     "output_type": "stream",
     "text": [
      "\n",
      "Epoch 1: val_loss improved from inf to 0.22133, saving model to ./models/model-8.h5\n",
      "352/352 [==============================] - 498s 1s/step - loss: 0.3368 - auc_2: 0.3057 - auc_3: 0.7175 - val_loss: 0.2213 - val_auc_2: 0.2032 - val_auc_3: 0.7545 - lr: 0.0010\n",
      "Epoch 2/40\n",
      "352/352 [==============================] - ETA: 0s - loss: 0.2957 - auc_2: 0.4411 - auc_3: 0.8011\n",
      "Epoch 2: val_loss improved from 0.22133 to 0.17927, saving model to ./models/model-8.h5\n",
      "352/352 [==============================] - 464s 1s/step - loss: 0.2957 - auc_2: 0.4411 - auc_3: 0.8011 - val_loss: 0.1793 - val_auc_2: 0.1857 - val_auc_3: 0.7719 - lr: 0.0010\n",
      "Epoch 3/40\n",
      "352/352 [==============================] - ETA: 0s - loss: 0.2743 - auc_2: 0.5133 - auc_3: 0.8358\n",
      "Epoch 3: val_loss did not improve from 0.17927\n",
      "352/352 [==============================] - 465s 1s/step - loss: 0.2743 - auc_2: 0.5133 - auc_3: 0.8358 - val_loss: 0.2090 - val_auc_2: 0.1942 - val_auc_3: 0.7682 - lr: 0.0010\n",
      "Epoch 4/40\n",
      "352/352 [==============================] - ETA: 0s - loss: 0.2556 - auc_2: 0.5731 - auc_3: 0.8614\n",
      "Epoch 4: val_loss did not improve from 0.17927\n",
      "352/352 [==============================] - 463s 1s/step - loss: 0.2556 - auc_2: 0.5731 - auc_3: 0.8614 - val_loss: 0.2158 - val_auc_2: 0.1791 - val_auc_3: 0.7756 - lr: 0.0010\n",
      "Epoch 5/40\n",
      "352/352 [==============================] - ETA: 0s - loss: 0.2372 - auc_2: 0.6324 - auc_3: 0.8839\n",
      "Epoch 5: val_loss did not improve from 0.17927\n",
      "352/352 [==============================] - 463s 1s/step - loss: 0.2372 - auc_2: 0.6324 - auc_3: 0.8839 - val_loss: 0.1895 - val_auc_2: 0.1895 - val_auc_3: 0.7836 - lr: 0.0010\n",
      "Epoch 6/40\n",
      "352/352 [==============================] - ETA: 0s - loss: 0.2156 - auc_2: 0.6967 - auc_3: 0.9066\n",
      "Epoch 6: val_loss did not improve from 0.17927\n",
      "352/352 [==============================] - 464s 1s/step - loss: 0.2156 - auc_2: 0.6967 - auc_3: 0.9066 - val_loss: 0.2040 - val_auc_2: 0.2187 - val_auc_3: 0.7423 - lr: 0.0010\n",
      "Epoch 7/40\n",
      "352/352 [==============================] - ETA: 0s - loss: 0.1578 - auc_2: 0.8344 - auc_3: 0.9505\n",
      "Epoch 7: val_loss did not improve from 0.17927\n",
      "352/352 [==============================] - 463s 1s/step - loss: 0.1578 - auc_2: 0.8344 - auc_3: 0.9505 - val_loss: 0.1830 - val_auc_2: 0.2132 - val_auc_3: 0.7717 - lr: 2.0000e-04\n",
      "Epoch 8/40\n",
      "352/352 [==============================] - ETA: 0s - loss: 0.1236 - auc_2: 0.8949 - auc_3: 0.9689\n",
      "Epoch 8: val_loss did not improve from 0.17927\n",
      "352/352 [==============================] - 462s 1s/step - loss: 0.1236 - auc_2: 0.8949 - auc_3: 0.9689 - val_loss: 0.2095 - val_auc_2: 0.2143 - val_auc_3: 0.7639 - lr: 2.0000e-04\n",
      "Epoch 9/40\n",
      "352/352 [==============================] - ETA: 0s - loss: 0.1012 - auc_2: 0.9271 - auc_3: 0.9788\n",
      "Epoch 9: val_loss did not improve from 0.17927\n",
      "352/352 [==============================] - 463s 1s/step - loss: 0.1012 - auc_2: 0.9271 - auc_3: 0.9788 - val_loss: 0.2234 - val_auc_2: 0.2111 - val_auc_3: 0.7550 - lr: 2.0000e-04\n",
      "Epoch 10/40\n",
      "352/352 [==============================] - ETA: 0s - loss: 0.0825 - auc_2: 0.9499 - auc_3: 0.9857\n",
      "Epoch 10: val_loss did not improve from 0.17927\n",
      "352/352 [==============================] - 463s 1s/step - loss: 0.0825 - auc_2: 0.9499 - auc_3: 0.9857 - val_loss: 0.2322 - val_auc_2: 0.2206 - val_auc_3: 0.7454 - lr: 2.0000e-04\n"
     ]
    }
   ],
   "source": [
    "m = 8\n",
    "\n",
    "history[m] = model_Xc_1.fit(\n",
    "    train_gen[m], \n",
    "    validation_data=val_gen[m],\n",
    "    epochs = 40,\n",
    "    callbacks = [chkpt[m], early, reduce_lr]\n",
    ")"
   ]
  },
  {
   "cell_type": "code",
   "execution_count": 39,
   "metadata": {},
   "outputs": [
    {
     "data": {
      "image/png": "[encoded data removed]",
      "text/plain": [
       "<Figure size 1080x720 with 1 Axes>"
      ]
     },
     "metadata": {
      "needs_background": "light"
     },
     "output_type": "display_data"
    }
   ],
   "source": [
    "plot_losses(history[m])"
   ]
  },
  {
   "cell_type": "markdown",
   "metadata": {},
   "source": [
    "### Model 9"
   ]
  },
  {
   "cell_type": "code",
   "execution_count": 40,
   "metadata": {},
   "outputs": [],
   "source": [
    "# Base Models\n",
    "base_model_Xc_2 = Xception(\n",
    "    include_top=False,\n",
    "    weights=\"imagenet\",\n",
    "    pooling=\"max\",\n",
    "    input_shape=(256, 256, 3)\n",
    ")\n",
    "\n",
    "output_layer_Xc_2 = Dense(len(labels), activation='sigmoid')(base_model_Xc_2.output)\n",
    "model_Xc_2 = Model(base_model_Xc_2.input, output_layer_Xc_2)\n",
    "\n",
    "for layer in model_Xc_2.layers:\n",
    "    layer.trainable = True"
   ]
  },
  {
   "cell_type": "code",
   "execution_count": 41,
   "metadata": {},
   "outputs": [],
   "source": [
    "model_Xc_2.compile(\n",
    "    optimizer='adam',\n",
    "    loss='binary_crossentropy',\n",
    "    metrics = [\n",
    "        AUC(curve='PR', multi_label=True, num_labels=len(labels)), \n",
    "        AUC(curve='ROC', multi_label=True, num_labels=len(labels))\n",
    "        ]\n",
    ")"
   ]
  },
  {
   "cell_type": "code",
   "execution_count": 42,
   "metadata": {},
   "outputs": [
    {
     "name": "stdout",
     "output_type": "stream",
     "text": [
      "Epoch 1/40\n"
     ]
    },
    {
     "name": "stderr",
     "output_type": "stream",
     "text": [
      "2022-06-05 21:28:48.530070: I tensorflow/core/grappler/optimizers/custom_graph_optimizer_registry.cc:113] Plugin optimizer for device_type GPU is enabled.\n"
     ]
    },
    {
     "name": "stdout",
     "output_type": "stream",
     "text": [
      "313/313 [==============================] - ETA: 0s - loss: 0.1583 - auc_4: 0.0877 - auc_5: 0.6604"
     ]
    },
    {
     "name": "stderr",
     "output_type": "stream",
     "text": [
      "2022-06-05 21:35:17.533381: I tensorflow/core/grappler/optimizers/custom_graph_optimizer_registry.cc:113] Plugin optimizer for device_type GPU is enabled.\n"
     ]
    },
    {
     "name": "stdout",
     "output_type": "stream",
     "text": [
      "\n",
      "Epoch 1: val_loss improved from inf to 0.16350, saving model to ./models/model-9.h5\n",
      "313/313 [==============================] - 423s 1s/step - loss: 0.1583 - auc_4: 0.0877 - auc_5: 0.6604 - val_loss: 0.1635 - val_auc_4: 0.1125 - val_auc_5: 0.6903 - lr: 0.0010\n",
      "Epoch 2/40\n",
      "313/313 [==============================] - ETA: 0s - loss: 0.1459 - auc_4: 0.1258 - auc_5: 0.7298\n",
      "Epoch 2: val_loss improved from 0.16350 to 0.15009, saving model to ./models/model-9.h5\n",
      "313/313 [==============================] - 417s 1s/step - loss: 0.1459 - auc_4: 0.1258 - auc_5: 0.7298 - val_loss: 0.1501 - val_auc_4: 0.1286 - val_auc_5: 0.7583 - lr: 0.0010\n",
      "Epoch 3/40\n",
      "313/313 [==============================] - ETA: 0s - loss: 0.1420 - auc_4: 0.1454 - auc_5: 0.7559\n",
      "Epoch 3: val_loss improved from 0.15009 to 0.14606, saving model to ./models/model-9.h5\n",
      "313/313 [==============================] - 417s 1s/step - loss: 0.1420 - auc_4: 0.1454 - auc_5: 0.7559 - val_loss: 0.1461 - val_auc_4: 0.1629 - val_auc_5: 0.7450 - lr: 0.0010\n",
      "Epoch 4/40\n",
      "313/313 [==============================] - ETA: 0s - loss: 0.1386 - auc_4: 0.1683 - auc_5: 0.7751\n",
      "Epoch 4: val_loss improved from 0.14606 to 0.14536, saving model to ./models/model-9.h5\n",
      "313/313 [==============================] - 417s 1s/step - loss: 0.1386 - auc_4: 0.1683 - auc_5: 0.7751 - val_loss: 0.1454 - val_auc_4: 0.1571 - val_auc_5: 0.7618 - lr: 0.0010\n",
      "Epoch 5/40\n",
      "313/313 [==============================] - ETA: 0s - loss: 0.1362 - auc_4: 0.1844 - auc_5: 0.7920\n",
      "Epoch 5: val_loss did not improve from 0.14536\n",
      "313/313 [==============================] - 417s 1s/step - loss: 0.1362 - auc_4: 0.1844 - auc_5: 0.7920 - val_loss: 0.1538 - val_auc_4: 0.1638 - val_auc_5: 0.7404 - lr: 0.0010\n",
      "Epoch 6/40\n",
      "313/313 [==============================] - ETA: 0s - loss: 0.1339 - auc_4: 0.1970 - auc_5: 0.8000\n",
      "Epoch 6: val_loss did not improve from 0.14536\n",
      "313/313 [==============================] - 416s 1s/step - loss: 0.1339 - auc_4: 0.1970 - auc_5: 0.8000 - val_loss: 0.1516 - val_auc_4: 0.1617 - val_auc_5: 0.7695 - lr: 0.0010\n",
      "Epoch 7/40\n",
      "313/313 [==============================] - ETA: 0s - loss: 0.1323 - auc_4: 0.2083 - auc_5: 0.8076\n",
      "Epoch 7: val_loss did not improve from 0.14536\n",
      "313/313 [==============================] - 416s 1s/step - loss: 0.1323 - auc_4: 0.2083 - auc_5: 0.8076 - val_loss: 0.1530 - val_auc_4: 0.1653 - val_auc_5: 0.7503 - lr: 0.0010\n",
      "Epoch 8/40\n",
      "313/313 [==============================] - ETA: 0s - loss: 0.1302 - auc_4: 0.2260 - auc_5: 0.8216\n",
      "Epoch 8: val_loss did not improve from 0.14536\n",
      "313/313 [==============================] - 417s 1s/step - loss: 0.1302 - auc_4: 0.2260 - auc_5: 0.8216 - val_loss: 0.1474 - val_auc_4: 0.1790 - val_auc_5: 0.7498 - lr: 0.0010\n",
      "Epoch 9/40\n",
      "313/313 [==============================] - ETA: 0s - loss: 0.1199 - auc_4: 0.2956 - auc_5: 0.8598\n",
      "Epoch 9: val_loss improved from 0.14536 to 0.13567, saving model to ./models/model-9.h5\n",
      "313/313 [==============================] - 417s 1s/step - loss: 0.1199 - auc_4: 0.2956 - auc_5: 0.8598 - val_loss: 0.1357 - val_auc_4: 0.2010 - val_auc_5: 0.8000 - lr: 2.0000e-04\n",
      "Epoch 10/40\n",
      "313/313 [==============================] - ETA: 0s - loss: 0.1139 - auc_4: 0.3375 - auc_5: 0.8798\n",
      "Epoch 10: val_loss did not improve from 0.13567\n",
      "313/313 [==============================] - 417s 1s/step - loss: 0.1139 - auc_4: 0.3375 - auc_5: 0.8798 - val_loss: 0.1402 - val_auc_4: 0.2134 - val_auc_5: 0.7771 - lr: 2.0000e-04\n",
      "Epoch 11/40\n",
      "313/313 [==============================] - ETA: 0s - loss: 0.1095 - auc_4: 0.3794 - auc_5: 0.8936\n",
      "Epoch 11: val_loss did not improve from 0.13567\n",
      "313/313 [==============================] - 416s 1s/step - loss: 0.1095 - auc_4: 0.3794 - auc_5: 0.8936 - val_loss: 0.1393 - val_auc_4: 0.2211 - val_auc_5: 0.8003 - lr: 2.0000e-04\n",
      "Epoch 12/40\n",
      "313/313 [==============================] - ETA: 0s - loss: 0.1039 - auc_4: 0.4153 - auc_5: 0.9082\n",
      "Epoch 12: val_loss did not improve from 0.13567\n",
      "313/313 [==============================] - 417s 1s/step - loss: 0.1039 - auc_4: 0.4153 - auc_5: 0.9082 - val_loss: 0.1471 - val_auc_4: 0.2163 - val_auc_5: 0.7829 - lr: 2.0000e-04\n",
      "Epoch 13/40\n",
      "313/313 [==============================] - ETA: 0s - loss: 0.0983 - auc_4: 0.4620 - auc_5: 0.9190\n",
      "Epoch 13: val_loss did not improve from 0.13567\n",
      "313/313 [==============================] - 416s 1s/step - loss: 0.0983 - auc_4: 0.4620 - auc_5: 0.9190 - val_loss: 0.1529 - val_auc_4: 0.1846 - val_auc_5: 0.7750 - lr: 2.0000e-04\n",
      "Epoch 14/40\n",
      "313/313 [==============================] - ETA: 0s - loss: 0.0858 - auc_4: 0.5734 - auc_5: 0.9425\n",
      "Epoch 14: val_loss did not improve from 0.13567\n",
      "313/313 [==============================] - 418s 1s/step - loss: 0.0858 - auc_4: 0.5734 - auc_5: 0.9425 - val_loss: 0.1593 - val_auc_4: 0.2064 - val_auc_5: 0.7670 - lr: 4.0000e-05\n",
      "Epoch 15/40\n",
      "313/313 [==============================] - ETA: 0s - loss: 0.0804 - auc_4: 0.6062 - auc_5: 0.9486\n",
      "Epoch 15: val_loss did not improve from 0.13567\n",
      "313/313 [==============================] - 417s 1s/step - loss: 0.0804 - auc_4: 0.6062 - auc_5: 0.9486 - val_loss: 0.1635 - val_auc_4: 0.1834 - val_auc_5: 0.7671 - lr: 4.0000e-05\n",
      "Epoch 16/40\n",
      "313/313 [==============================] - ETA: 0s - loss: 0.0763 - auc_4: 0.6339 - auc_5: 0.9530\n",
      "Epoch 16: val_loss did not improve from 0.13567\n",
      "313/313 [==============================] - 417s 1s/step - loss: 0.0763 - auc_4: 0.6339 - auc_5: 0.9530 - val_loss: 0.1710 - val_auc_4: 0.2099 - val_auc_5: 0.7377 - lr: 4.0000e-05\n",
      "Epoch 17/40\n",
      "313/313 [==============================] - ETA: 0s - loss: 0.0723 - auc_4: 0.6598 - auc_5: 0.9599\n",
      "Epoch 17: val_loss did not improve from 0.13567\n",
      "313/313 [==============================] - 416s 1s/step - loss: 0.0723 - auc_4: 0.6598 - auc_5: 0.9599 - val_loss: 0.1783 - val_auc_4: 0.1948 - val_auc_5: 0.7449 - lr: 4.0000e-05\n"
     ]
    }
   ],
   "source": [
    "m = 9\n",
    "\n",
    "history[m] = model_Xc_2.fit(\n",
    "    train_gen[m], \n",
    "    validation_data=val_gen[m],\n",
    "    epochs = 40,\n",
    "    callbacks = [chkpt[m], early, reduce_lr]\n",
    ")"
   ]
  },
  {
   "cell_type": "code",
   "execution_count": 43,
   "metadata": {},
   "outputs": [
    {
     "data": {
      "image/png": "[encoded data removed]",
      "text/plain": [
       "<Figure size 1080x720 with 1 Axes>"
      ]
     },
     "metadata": {
      "needs_background": "light"
     },
     "output_type": "display_data"
    }
   ],
   "source": [
    "plot_losses(history[m])"
   ]
  },
  {
   "cell_type": "markdown",
   "metadata": {},
   "source": [
    "### Model 10"
   ]
  },
  {
   "cell_type": "code",
   "execution_count": 44,
   "metadata": {},
   "outputs": [
    {
     "name": "stdout",
     "output_type": "stream",
     "text": [
      "Downloading data from https://storage.googleapis.com/tensorflow/keras-applications/densenet/densenet169_weights_tf_dim_ordering_tf_kernels_notop.h5\n",
      "51877672/51877672 [==============================] - 12s 0us/step\n"
     ]
    }
   ],
   "source": [
    "# Base Models\n",
    "base_model_dn169_1 = DenseNet169(\n",
    "    include_top=False,\n",
    "    weights=\"imagenet\",\n",
    "    pooling=\"max\",\n",
    "    input_shape=(256, 256, 3)\n",
    ")\n",
    "\n",
    "output_layer_dn_1 = Dense(len(labels), activation='sigmoid')(base_model_dn169_1.output)\n",
    "model_dn_1 = Model(base_model_dn169_1.input, output_layer_dn_1)\n",
    "\n",
    "for layer in model_dn_1.layers:\n",
    "    layer.trainable = True"
   ]
  },
  {
   "cell_type": "code",
   "execution_count": 45,
   "metadata": {},
   "outputs": [],
   "source": [
    "model_dn_1.compile(\n",
    "    optimizer='adam',\n",
    "    loss='binary_crossentropy',\n",
    "    metrics = [\n",
    "        AUC(curve='PR', multi_label=True, num_labels=len(labels)), \n",
    "        AUC(curve='ROC', multi_label=True, num_labels=len(labels))\n",
    "        ]\n",
    ")"
   ]
  },
  {
   "cell_type": "code",
   "execution_count": 46,
   "metadata": {},
   "outputs": [
    {
     "name": "stdout",
     "output_type": "stream",
     "text": [
      "Epoch 1/40\n"
     ]
    },
    {
     "name": "stderr",
     "output_type": "stream",
     "text": [
      "2022-06-05 23:27:18.752274: I tensorflow/core/grappler/optimizers/custom_graph_optimizer_registry.cc:113] Plugin optimizer for device_type GPU is enabled.\n"
     ]
    },
    {
     "name": "stdout",
     "output_type": "stream",
     "text": [
      "352/352 [==============================] - ETA: 0s - loss: 0.3813 - auc_6: 0.2266 - auc_7: 0.6511"
     ]
    },
    {
     "name": "stderr",
     "output_type": "stream",
     "text": [
      "2022-06-05 23:35:39.482753: I tensorflow/core/grappler/optimizers/custom_graph_optimizer_registry.cc:113] Plugin optimizer for device_type GPU is enabled.\n"
     ]
    },
    {
     "name": "stdout",
     "output_type": "stream",
     "text": [
      "\n",
      "Epoch 1: val_loss improved from inf to 0.22448, saving model to ./models/model-10.h5\n",
      "352/352 [==============================] - 543s 1s/step - loss: 0.3813 - auc_6: 0.2266 - auc_7: 0.6511 - val_loss: 0.2245 - val_auc_6: 0.1683 - val_auc_7: 0.7320 - lr: 0.0010\n",
      "Epoch 2/40\n",
      "352/352 [==============================] - ETA: 0s - loss: 0.3322 - auc_6: 0.3436 - auc_7: 0.7347\n",
      "Epoch 2: val_loss improved from 0.22448 to 0.19454, saving model to ./models/model-10.h5\n",
      "352/352 [==============================] - 518s 1s/step - loss: 0.3322 - auc_6: 0.3436 - auc_7: 0.7347 - val_loss: 0.1945 - val_auc_6: 0.1682 - val_auc_7: 0.7595 - lr: 0.0010\n",
      "Epoch 3/40\n",
      "352/352 [==============================] - ETA: 0s - loss: 0.3148 - auc_6: 0.3958 - auc_7: 0.7693\n",
      "Epoch 3: val_loss did not improve from 0.19454\n",
      "352/352 [==============================] - 515s 1s/step - loss: 0.3148 - auc_6: 0.3958 - auc_7: 0.7693 - val_loss: 0.1978 - val_auc_6: 0.2011 - val_auc_7: 0.7650 - lr: 0.0010\n",
      "Epoch 4/40\n",
      "352/352 [==============================] - ETA: 0s - loss: 0.3049 - auc_6: 0.4293 - auc_7: 0.7871\n",
      "Epoch 4: val_loss did not improve from 0.19454\n",
      "352/352 [==============================] - 514s 1s/step - loss: 0.3049 - auc_6: 0.4293 - auc_7: 0.7871 - val_loss: 0.2017 - val_auc_6: 0.2152 - val_auc_7: 0.7937 - lr: 0.0010\n",
      "Epoch 5/40\n",
      "352/352 [==============================] - ETA: 0s - loss: 0.2955 - auc_6: 0.4592 - auc_7: 0.8056\n",
      "Epoch 5: val_loss did not improve from 0.19454\n",
      "352/352 [==============================] - 514s 1s/step - loss: 0.2955 - auc_6: 0.4592 - auc_7: 0.8056 - val_loss: 0.2027 - val_auc_6: 0.2085 - val_auc_7: 0.7579 - lr: 0.0010\n",
      "Epoch 6/40\n",
      "352/352 [==============================] - ETA: 0s - loss: 0.2884 - auc_6: 0.4825 - auc_7: 0.8162\n",
      "Epoch 6: val_loss improved from 0.19454 to 0.17134, saving model to ./models/model-10.h5\n",
      "352/352 [==============================] - 513s 1s/step - loss: 0.2884 - auc_6: 0.4825 - auc_7: 0.8162 - val_loss: 0.1713 - val_auc_6: 0.2222 - val_auc_7: 0.7645 - lr: 0.0010\n",
      "Epoch 7/40\n",
      "352/352 [==============================] - ETA: 0s - loss: 0.2783 - auc_6: 0.5137 - auc_7: 0.8319\n",
      "Epoch 7: val_loss did not improve from 0.17134\n",
      "352/352 [==============================] - 517s 1s/step - loss: 0.2783 - auc_6: 0.5137 - auc_7: 0.8319 - val_loss: 0.1948 - val_auc_6: 0.1951 - val_auc_7: 0.7391 - lr: 0.0010\n",
      "Epoch 8/40\n",
      "352/352 [==============================] - ETA: 0s - loss: 0.2697 - auc_6: 0.5407 - auc_7: 0.8452\n",
      "Epoch 8: val_loss did not improve from 0.17134\n",
      "352/352 [==============================] - 515s 1s/step - loss: 0.2697 - auc_6: 0.5407 - auc_7: 0.8452 - val_loss: 0.2554 - val_auc_6: 0.2144 - val_auc_7: 0.7831 - lr: 0.0010\n",
      "Epoch 9/40\n",
      "352/352 [==============================] - ETA: 0s - loss: 0.2594 - auc_6: 0.5743 - auc_7: 0.8586\n",
      "Epoch 9: val_loss did not improve from 0.17134\n",
      "352/352 [==============================] - 514s 1s/step - loss: 0.2594 - auc_6: 0.5743 - auc_7: 0.8586 - val_loss: 0.2453 - val_auc_6: 0.1474 - val_auc_7: 0.7300 - lr: 0.0010\n",
      "Epoch 10/40\n",
      "352/352 [==============================] - ETA: 0s - loss: 0.2527 - auc_6: 0.5958 - auc_7: 0.8675\n",
      "Epoch 10: val_loss did not improve from 0.17134\n",
      "352/352 [==============================] - 514s 1s/step - loss: 0.2527 - auc_6: 0.5958 - auc_7: 0.8675 - val_loss: 0.2181 - val_auc_6: 0.1952 - val_auc_7: 0.7556 - lr: 0.0010\n",
      "Epoch 11/40\n",
      "352/352 [==============================] - ETA: 0s - loss: 0.1989 - auc_6: 0.7416 - auc_7: 0.9218\n",
      "Epoch 11: val_loss did not improve from 0.17134\n",
      "352/352 [==============================] - 512s 1s/step - loss: 0.1989 - auc_6: 0.7416 - auc_7: 0.9218 - val_loss: 0.1823 - val_auc_6: 0.2456 - val_auc_7: 0.7721 - lr: 2.0000e-04\n",
      "Epoch 12/40\n",
      "352/352 [==============================] - ETA: 0s - loss: 0.1758 - auc_6: 0.7982 - auc_7: 0.9389\n",
      "Epoch 12: val_loss did not improve from 0.17134\n",
      "352/352 [==============================] - 516s 1s/step - loss: 0.1758 - auc_6: 0.7982 - auc_7: 0.9389 - val_loss: 0.1925 - val_auc_6: 0.2247 - val_auc_7: 0.7762 - lr: 2.0000e-04\n",
      "Epoch 13/40\n",
      "352/352 [==============================] - ETA: 0s - loss: 0.1586 - auc_6: 0.8352 - auc_7: 0.9506\n",
      "Epoch 13: val_loss did not improve from 0.17134\n",
      "352/352 [==============================] - 515s 1s/step - loss: 0.1586 - auc_6: 0.8352 - auc_7: 0.9506 - val_loss: 0.1899 - val_auc_6: 0.2162 - val_auc_7: 0.7702 - lr: 2.0000e-04\n",
      "Epoch 14/40\n",
      "352/352 [==============================] - ETA: 0s - loss: 0.1415 - auc_6: 0.8677 - auc_7: 0.9610\n",
      "Epoch 14: val_loss did not improve from 0.17134\n",
      "352/352 [==============================] - 512s 1s/step - loss: 0.1415 - auc_6: 0.8677 - auc_7: 0.9610 - val_loss: 0.2028 - val_auc_6: 0.2273 - val_auc_7: 0.7503 - lr: 2.0000e-04\n"
     ]
    }
   ],
   "source": [
    "m = 10 \n",
    "\n",
    "history[m] = model_dn_1.fit(\n",
    "    train_gen[m], \n",
    "    validation_data=val_gen[m],\n",
    "    epochs = 40,\n",
    "    callbacks = [chkpt[m], early, reduce_lr]\n",
    ")"
   ]
  },
  {
   "cell_type": "code",
   "execution_count": 47,
   "metadata": {},
   "outputs": [
    {
     "data": {
      "image/png": "[encoded data removed]",
      "text/plain": [
       "<Figure size 1080x720 with 1 Axes>"
      ]
     },
     "metadata": {
      "needs_background": "light"
     },
     "output_type": "display_data"
    }
   ],
   "source": [
    "plot_losses(history[m])"
   ]
  },
  {
   "cell_type": "markdown",
   "metadata": {},
   "source": [
    "### Model 11"
   ]
  },
  {
   "cell_type": "code",
   "execution_count": 15,
   "metadata": {},
   "outputs": [
    {
     "name": "stdout",
     "output_type": "stream",
     "text": [
      "Metal device set to: Apple M1 Max\n",
      "\n",
      "systemMemory: 32.00 GB\n",
      "maxCacheSize: 10.67 GB\n",
      "\n"
     ]
    },
    {
     "name": "stderr",
     "output_type": "stream",
     "text": [
      "2022-06-06 07:32:03.563953: I tensorflow/core/common_runtime/pluggable_device/pluggable_device_factory.cc:305] Could not identify NUMA node of platform GPU ID 0, defaulting to 0. Your kernel may not have been built with NUMA support.\n",
      "2022-06-06 07:32:03.564097: I tensorflow/core/common_runtime/pluggable_device/pluggable_device_factory.cc:271] Created TensorFlow device (/job:localhost/replica:0/task:0/device:GPU:0 with 0 MB memory) -> physical PluggableDevice (device: 0, name: METAL, pci bus id: <undefined>)\n"
     ]
    }
   ],
   "source": [
    "# Base Models\n",
    "base_model_dn169_2 = DenseNet169(\n",
    "    include_top=False,\n",
    "    weights=\"imagenet\",\n",
    "    pooling=\"max\",\n",
    "    input_shape=(256, 256, 3)\n",
    ")\n",
    "\n",
    "output_layer_dn_2 = Dense(len(labels), activation='sigmoid')(base_model_dn169_2.output)\n",
    "model_dn_2 = Model(base_model_dn169_2.input, output_layer_dn_2)\n",
    "\n",
    "for layer in model_dn_2.layers:\n",
    "    layer.trainable = True"
   ]
  },
  {
   "cell_type": "code",
   "execution_count": 16,
   "metadata": {},
   "outputs": [],
   "source": [
    "model_dn_2.compile(\n",
    "    optimizer='adam',\n",
    "    loss='binary_crossentropy',\n",
    "    metrics = [\n",
    "        AUC(curve='PR', multi_label=True, num_labels=len(labels)), \n",
    "        AUC(curve='ROC', multi_label=True, num_labels=len(labels))\n",
    "        ]\n",
    ")"
   ]
  },
  {
   "cell_type": "code",
   "execution_count": 17,
   "metadata": {},
   "outputs": [
    {
     "name": "stdout",
     "output_type": "stream",
     "text": [
      "Epoch 1/40\n"
     ]
    },
    {
     "name": "stderr",
     "output_type": "stream",
     "text": [
      "2022-06-06 07:32:11.082935: W tensorflow/core/platform/profile_utils/cpu_utils.cc:128] Failed to get CPU frequency: 0 Hz\n",
      "2022-06-06 07:32:17.164999: I tensorflow/core/grappler/optimizers/custom_graph_optimizer_registry.cc:113] Plugin optimizer for device_type GPU is enabled.\n"
     ]
    },
    {
     "name": "stdout",
     "output_type": "stream",
     "text": [
      "313/313 [==============================] - ETA: 0s - loss: 0.1824 - auc: 0.0704 - auc_1: 0.6026"
     ]
    },
    {
     "name": "stderr",
     "output_type": "stream",
     "text": [
      "2022-06-06 07:39:38.932221: I tensorflow/core/grappler/optimizers/custom_graph_optimizer_registry.cc:113] Plugin optimizer for device_type GPU is enabled.\n"
     ]
    },
    {
     "name": "stdout",
     "output_type": "stream",
     "text": [
      "\n",
      "Epoch 1: val_loss improved from inf to 0.16696, saving model to ./models/model-11.h5\n",
      "313/313 [==============================] - 482s 1s/step - loss: 0.1824 - auc: 0.0704 - auc_1: 0.6026 - val_loss: 0.1670 - val_auc: 0.0958 - val_auc_1: 0.6686 - lr: 0.0010\n",
      "Epoch 2/40\n",
      "313/313 [==============================] - ETA: 0s - loss: 0.1572 - auc: 0.0951 - auc_1: 0.6633\n",
      "Epoch 2: val_loss improved from 0.16696 to 0.15691, saving model to ./models/model-11.h5\n",
      "313/313 [==============================] - 465s 1s/step - loss: 0.1572 - auc: 0.0951 - auc_1: 0.6633 - val_loss: 0.1569 - val_auc: 0.1110 - val_auc_1: 0.6853 - lr: 0.0010\n",
      "Epoch 3/40\n",
      "313/313 [==============================] - ETA: 0s - loss: 0.1520 - auc: 0.1127 - auc_1: 0.7012\n",
      "Epoch 3: val_loss improved from 0.15691 to 0.15379, saving model to ./models/model-11.h5\n",
      "313/313 [==============================] - 464s 1s/step - loss: 0.1520 - auc: 0.1127 - auc_1: 0.7012 - val_loss: 0.1538 - val_auc: 0.1346 - val_auc_1: 0.7538 - lr: 0.0010\n",
      "Epoch 4/40\n",
      "313/313 [==============================] - ETA: 0s - loss: 0.1537 - auc: 0.1118 - auc_1: 0.7016\n",
      "Epoch 4: val_loss did not improve from 0.15379\n",
      "313/313 [==============================] - 463s 1s/step - loss: 0.1537 - auc: 0.1118 - auc_1: 0.7016 - val_loss: 0.1574 - val_auc: 0.0770 - val_auc_1: 0.6269 - lr: 0.0010\n",
      "Epoch 5/40\n",
      "313/313 [==============================] - ETA: 0s - loss: 0.1536 - auc: 0.1041 - auc_1: 0.6868\n",
      "Epoch 5: val_loss did not improve from 0.15379\n",
      "313/313 [==============================] - 462s 1s/step - loss: 0.1536 - auc: 0.1041 - auc_1: 0.6868 - val_loss: 74.8019 - val_auc: 0.0438 - val_auc_1: 0.5053 - lr: 0.0010\n",
      "Epoch 6/40\n",
      "313/313 [==============================] - ETA: 0s - loss: 0.1649 - auc: 0.0696 - auc_1: 0.5998\n",
      "Epoch 6: val_loss did not improve from 0.15379\n",
      "313/313 [==============================] - 463s 1s/step - loss: 0.1649 - auc: 0.0696 - auc_1: 0.5998 - val_loss: 75.1107 - val_auc: 0.0439 - val_auc_1: 0.4997 - lr: 0.0010\n",
      "Epoch 7/40\n",
      "313/313 [==============================] - ETA: 0s - loss: 0.1682 - auc: 0.0614 - auc_1: 0.5748\n",
      "Epoch 7: val_loss did not improve from 0.15379\n",
      "313/313 [==============================] - 463s 1s/step - loss: 0.1682 - auc: 0.0614 - auc_1: 0.5748 - val_loss: 3.5818 - val_auc: 0.0484 - val_auc_1: 0.5219 - lr: 0.0010\n",
      "Epoch 8/40\n",
      "313/313 [==============================] - ETA: 0s - loss: 0.1597 - auc: 0.0698 - auc_1: 0.6099\n",
      "Epoch 8: val_loss did not improve from 0.15379\n",
      "313/313 [==============================] - 461s 1s/step - loss: 0.1597 - auc: 0.0698 - auc_1: 0.6099 - val_loss: 0.1596 - val_auc: 0.0712 - val_auc_1: 0.6100 - lr: 2.0000e-04\n",
      "Epoch 9/40\n",
      "313/313 [==============================] - ETA: 0s - loss: 0.1578 - auc: 0.0766 - auc_1: 0.6303\n",
      "Epoch 9: val_loss did not improve from 0.15379\n",
      "313/313 [==============================] - 463s 1s/step - loss: 0.1578 - auc: 0.0766 - auc_1: 0.6303 - val_loss: 0.1651 - val_auc: 0.0772 - val_auc_1: 0.6275 - lr: 2.0000e-04\n",
      "Epoch 10/40\n",
      "313/313 [==============================] - ETA: 0s - loss: 0.1563 - auc: 0.0835 - auc_1: 0.6469\n",
      "Epoch 10: val_loss did not improve from 0.15379\n",
      "313/313 [==============================] - 461s 1s/step - loss: 0.1563 - auc: 0.0835 - auc_1: 0.6469 - val_loss: 0.1601 - val_auc: 0.0852 - val_auc_1: 0.6411 - lr: 2.0000e-04\n",
      "Epoch 11/40\n",
      "313/313 [==============================] - ETA: 0s - loss: 0.1549 - auc: 0.0885 - auc_1: 0.6626\n",
      "Epoch 11: val_loss did not improve from 0.15379\n",
      "313/313 [==============================] - 459s 1s/step - loss: 0.1549 - auc: 0.0885 - auc_1: 0.6626 - val_loss: 0.1614 - val_auc: 0.0918 - val_auc_1: 0.6793 - lr: 2.0000e-04\n"
     ]
    }
   ],
   "source": [
    "m = 11\n",
    "\n",
    "history[m] = model_dn_2.fit(\n",
    "    train_gen[m], \n",
    "    validation_data=val_gen[m],\n",
    "    epochs = 40,\n",
    "    callbacks = [chkpt[m], early, reduce_lr]\n",
    ")"
   ]
  },
  {
   "cell_type": "code",
   "execution_count": 18,
   "metadata": {},
   "outputs": [
    {
     "data": {
      "image/png": "[encoded data removed]",
      "text/plain": [
       "<Figure size 1080x720 with 1 Axes>"
      ]
     },
     "metadata": {
      "needs_background": "light"
     },
     "output_type": "display_data"
    }
   ],
   "source": [
    "plot_losses(history[m])"
   ]
  },
  {
   "cell_type": "markdown",
   "metadata": {},
   "source": [
    "### Model 12"
   ]
  },
  {
   "cell_type": "code",
   "execution_count": 18,
   "metadata": {},
   "outputs": [],
   "source": [
    "# Base Models\n",
    "base_model_dn169_3 = DenseNet169(\n",
    "    include_top=False,\n",
    "    weights=\"imagenet\",\n",
    "    pooling=\"max\",\n",
    "    input_shape=(256, 256, 3)\n",
    ")\n",
    "\n",
    "output_layer_dn_3 = Dense(len(labels), activation='sigmoid')(base_model_dn169_3.output)\n",
    "model_dn_3 = Model(base_model_dn169_3.input, output_layer_dn_3)\n",
    "\n",
    "for layer in model_dn_3.layers:\n",
    "    layer.trainable = True"
   ]
  },
  {
   "cell_type": "code",
   "execution_count": 19,
   "metadata": {},
   "outputs": [],
   "source": [
    "model_dn_3.compile(\n",
    "    optimizer='adam',\n",
    "    loss=get_weighted_loss(pos, neg),\n",
    "    metrics = [\n",
    "        AUC(curve='PR', multi_label=True, num_labels=len(labels)), \n",
    "        AUC(curve='ROC', multi_label=True, num_labels=len(labels))\n",
    "        ]\n",
    ")"
   ]
  },
  {
   "cell_type": "code",
   "execution_count": 20,
   "metadata": {},
   "outputs": [
    {
     "name": "stdout",
     "output_type": "stream",
     "text": [
      "Epoch 1/40\n"
     ]
    },
    {
     "name": "stderr",
     "output_type": "stream",
     "text": [
      "2022-06-06 09:29:40.947910: W tensorflow/core/platform/profile_utils/cpu_utils.cc:128] Failed to get CPU frequency: 0 Hz\n",
      "2022-06-06 09:29:48.159139: I tensorflow/core/grappler/optimizers/custom_graph_optimizer_registry.cc:113] Plugin optimizer for device_type GPU is enabled.\n"
     ]
    },
    {
     "name": "stdout",
     "output_type": "stream",
     "text": [
      "313/313 [==============================] - ETA: 0s - loss: 12.6347 - auc_2: 0.0491 - auc_3: 0.5349"
     ]
    },
    {
     "name": "stderr",
     "output_type": "stream",
     "text": [
      "2022-06-06 09:37:11.296571: I tensorflow/core/grappler/optimizers/custom_graph_optimizer_registry.cc:113] Plugin optimizer for device_type GPU is enabled.\n"
     ]
    },
    {
     "name": "stdout",
     "output_type": "stream",
     "text": [
      "\n",
      "Epoch 1: val_loss improved from inf to 10.01705, saving model to ./models/model-12.h5\n",
      "313/313 [==============================] - 487s 2s/step - loss: 12.6347 - auc_2: 0.0491 - auc_3: 0.5349 - val_loss: 10.0171 - val_auc_2: 0.0486 - val_auc_3: 0.5273 - lr: 0.0010\n",
      "Epoch 2/40\n",
      "313/313 [==============================] - ETA: 0s - loss: 12.1686 - auc_2: 0.0477 - auc_3: 0.5157\n",
      "Epoch 2: val_loss did not improve from 10.01705\n",
      "313/313 [==============================] - 456s 1s/step - loss: 12.1686 - auc_2: 0.0477 - auc_3: 0.5157 - val_loss: 98.1917 - val_auc_2: 0.0447 - val_auc_3: 0.5168 - lr: 0.0010\n",
      "Epoch 3/40\n",
      "313/313 [==============================] - ETA: 0s - loss: 11.8772 - auc_2: 0.0500 - auc_3: 0.5292\n",
      "Epoch 3: val_loss did not improve from 10.01705\n",
      "313/313 [==============================] - 460s 1s/step - loss: 11.8772 - auc_2: 0.0500 - auc_3: 0.5292 - val_loss: 42.8979 - val_auc_2: 0.0459 - val_auc_3: 0.5182 - lr: 0.0010\n",
      "Epoch 4/40\n",
      "313/313 [==============================] - ETA: 0s - loss: 11.9519 - auc_2: 0.0525 - auc_3: 0.5419\n",
      "Epoch 4: val_loss improved from 10.01705 to 9.47078, saving model to ./models/model-12.h5\n",
      "313/313 [==============================] - 458s 1s/step - loss: 11.9519 - auc_2: 0.0525 - auc_3: 0.5419 - val_loss: 9.4708 - val_auc_2: 0.0589 - val_auc_3: 0.5806 - lr: 0.0010\n",
      "Epoch 5/40\n",
      "313/313 [==============================] - ETA: 0s - loss: 11.5370 - auc_2: 0.0554 - auc_3: 0.5593\n",
      "Epoch 5: val_loss did not improve from 9.47078\n",
      "313/313 [==============================] - 462s 1s/step - loss: 11.5370 - auc_2: 0.0554 - auc_3: 0.5593 - val_loss: 10.9908 - val_auc_2: 0.0562 - val_auc_3: 0.5830 - lr: 0.0010\n",
      "Epoch 6/40\n",
      "313/313 [==============================] - ETA: 0s - loss: 11.3666 - auc_2: 0.0593 - auc_3: 0.5790\n",
      "Epoch 6: val_loss did not improve from 9.47078\n",
      "313/313 [==============================] - 460s 1s/step - loss: 11.3666 - auc_2: 0.0593 - auc_3: 0.5790 - val_loss: 9.6270 - val_auc_2: 0.0624 - val_auc_3: 0.6094 - lr: 0.0010\n",
      "Epoch 7/40\n",
      "313/313 [==============================] - ETA: 0s - loss: 11.2282 - auc_2: 0.0560 - auc_3: 0.5655\n",
      "Epoch 7: val_loss did not improve from 9.47078\n",
      "313/313 [==============================] - 460s 1s/step - loss: 11.2282 - auc_2: 0.0560 - auc_3: 0.5655 - val_loss: 91.5273 - val_auc_2: 0.0454 - val_auc_3: 0.5102 - lr: 0.0010\n",
      "Epoch 8/40\n",
      "313/313 [==============================] - ETA: 0s - loss: 11.0525 - auc_2: 0.0618 - auc_3: 0.5764\n",
      "Epoch 8: val_loss did not improve from 9.47078\n",
      "313/313 [==============================] - 464s 1s/step - loss: 11.0525 - auc_2: 0.0618 - auc_3: 0.5764 - val_loss: 10.1615 - val_auc_2: 0.0648 - val_auc_3: 0.6108 - lr: 0.0010\n",
      "Epoch 9/40\n",
      "313/313 [==============================] - ETA: 0s - loss: 11.1041 - auc_2: 0.0664 - auc_3: 0.5989\n",
      "Epoch 9: val_loss did not improve from 9.47078\n",
      "313/313 [==============================] - 465s 1s/step - loss: 11.1041 - auc_2: 0.0664 - auc_3: 0.5989 - val_loss: 9.9989 - val_auc_2: 0.0692 - val_auc_3: 0.6148 - lr: 2.0000e-04\n",
      "Epoch 10/40\n",
      "313/313 [==============================] - ETA: 0s - loss: 11.2404 - auc_2: 0.0588 - auc_3: 0.5693\n",
      "Epoch 10: val_loss did not improve from 9.47078\n",
      "313/313 [==============================] - 459s 1s/step - loss: 11.2404 - auc_2: 0.0588 - auc_3: 0.5693 - val_loss: 13.3959 - val_auc_2: 0.0621 - val_auc_3: 0.6003 - lr: 2.0000e-04\n",
      "Epoch 11/40\n",
      "313/313 [==============================] - ETA: 0s - loss: 11.1699 - auc_2: 0.0655 - auc_3: 0.5950\n",
      "Epoch 11: val_loss did not improve from 9.47078\n",
      "313/313 [==============================] - 460s 1s/step - loss: 11.1699 - auc_2: 0.0655 - auc_3: 0.5950 - val_loss: 10.9051 - val_auc_2: 0.0544 - val_auc_3: 0.5489 - lr: 2.0000e-04\n",
      "Epoch 12/40\n",
      "313/313 [==============================] - ETA: 0s - loss: 11.2784 - auc_2: 0.0547 - auc_3: 0.5521\n",
      "Epoch 12: val_loss did not improve from 9.47078\n",
      "313/313 [==============================] - 457s 1s/step - loss: 11.2784 - auc_2: 0.0547 - auc_3: 0.5521 - val_loss: 10.1530 - val_auc_2: 0.0598 - val_auc_3: 0.5719 - lr: 2.0000e-04\n"
     ]
    }
   ],
   "source": [
    "m = 12\n",
    "\n",
    "history[m] = model_dn_3.fit(\n",
    "    train_gen[m], \n",
    "    validation_data=val_gen[m],\n",
    "    epochs = 40,\n",
    "    callbacks = [chkpt[m], early, reduce_lr]\n",
    ")"
   ]
  },
  {
   "cell_type": "code",
   "execution_count": 21,
   "metadata": {},
   "outputs": [
    {
     "data": {
      "image/png": "[encoded data removed]",
      "text/plain": [
       "<Figure size 1080x720 with 1 Axes>"
      ]
     },
     "metadata": {
      "needs_background": "light"
     },
     "output_type": "display_data"
    }
   ],
   "source": [
    "plot_losses(history[m])"
   ]
  },
  {
   "cell_type": "markdown",
   "metadata": {},
   "source": [
    "## Model Evaluation\n",
    "---"
   ]
  },
  {
   "cell_type": "code",
   "execution_count": 22,
   "metadata": {},
   "outputs": [],
   "source": [
    "import csv\n",
    "from tensorflow.keras.models import load_model"
   ]
  },
  {
   "cell_type": "code",
   "execution_count": 23,
   "metadata": {},
   "outputs": [],
   "source": [
    "def plot_roc_auc(y_true, y_pred, labels, model_name, file_path, csv_writer, figsize=(15, 10)):\n",
    "    \n",
    "    csv_writer.writerow(['label', 'fpr', 'tpr', 'threshold'])\n",
    "    areas = {}\n",
    "\n",
    "    fig, ax = plt.subplots(1, 1, figsize=figsize)\n",
    "    for i, lbl in enumerate(labels):\n",
    "        fpr, tpr, thresholds = roc_curve(y_true[:, i], y_pred[:, i])\n",
    "        areas[lbl] = auc(fpr, tpr)\n",
    "        ax.plot(fpr, tpr, label = 'Score = %s (AUC: %0.5f)'  % (lbl, areas[lbl]))\n",
    "        csv_writer.writerows(zip([lbl] * len(fpr), fpr, tpr, thresholds))\n",
    "\n",
    "    ax.legend()\n",
    "    ax.set_title('ROC Curves - ' + model_name);\n",
    "    ax.set_xlabel('False Positive Rate (FPR)');\n",
    "    ax.set_ylabel('True Positive Rate (TPR)');\n",
    "    fig.savefig(file_path)\n",
    "    plt.close(fig)\n",
    "\n",
    "    return areas\n",
    "\n",
    "def plot_precision_recall_auc(y_true, y_pred, labels, model_name, file_path, csv_writer, figsize=(15, 10)):\n",
    "\n",
    "    csv_writer.writerow(['pr', 'rc', 'threshold'])\n",
    "    areas = {}\n",
    "\n",
    "    fig, ax = plt.subplots(1, 1, figsize=figsize)\n",
    "    for i, lbl in enumerate(labels):\n",
    "        pr, rc, thresholds = precision_recall_curve(y_true[:, i], y_pred[:, i])\n",
    "        areas[lbl] = auc(rc, pr)\n",
    "        ax.plot(rc, pr, label = 'Score = %s (AUC: %0.5f)'  % (lbl, areas[lbl]))\n",
    "        csv_writer.writerows(zip([lbl] * len(pr), pr, rc, thresholds))\n",
    "\n",
    "    ax.legend()\n",
    "    ax.set_title('Precision-Recall Curve - ' + model_name);\n",
    "    ax.set_xlabel('Recall');\n",
    "    ax.set_ylabel('Precision');\n",
    "    fig.savefig(file_path)\n",
    "    plt.close(fig)\n",
    "\n",
    "    return areas"
   ]
  },
  {
   "cell_type": "code",
   "execution_count": 24,
   "metadata": {},
   "outputs": [
    {
     "name": "stderr",
     "output_type": "stream",
     "text": [
      "2022-06-06 18:34:02.521782: I tensorflow/core/grappler/optimizers/custom_graph_optimizer_registry.cc:113] Plugin optimizer for device_type GPU is enabled.\n"
     ]
    },
    {
     "name": "stdout",
     "output_type": "stream",
     "text": [
      "32/32 [==============================] - 32s 965ms/step\n"
     ]
    },
    {
     "name": "stderr",
     "output_type": "stream",
     "text": [
      "2022-06-06 18:34:36.392776: I tensorflow/core/grappler/optimizers/custom_graph_optimizer_registry.cc:113] Plugin optimizer for device_type GPU is enabled.\n"
     ]
    },
    {
     "name": "stdout",
     "output_type": "stream",
     "text": [
      "32/32 [==============================] - 32s 965ms/step\n"
     ]
    },
    {
     "name": "stderr",
     "output_type": "stream",
     "text": [
      "2022-06-06 18:35:11.720153: I tensorflow/core/grappler/optimizers/custom_graph_optimizer_registry.cc:113] Plugin optimizer for device_type GPU is enabled.\n"
     ]
    },
    {
     "name": "stdout",
     "output_type": "stream",
     "text": [
      "32/32 [==============================] - 36s 1s/step\n"
     ]
    },
    {
     "name": "stderr",
     "output_type": "stream",
     "text": [
      "2022-06-06 18:35:51.072236: I tensorflow/core/grappler/optimizers/custom_graph_optimizer_registry.cc:113] Plugin optimizer for device_type GPU is enabled.\n"
     ]
    },
    {
     "name": "stdout",
     "output_type": "stream",
     "text": [
      "32/32 [==============================] - 35s 1s/step\n"
     ]
    },
    {
     "name": "stderr",
     "output_type": "stream",
     "text": [
      "2022-06-06 18:36:29.856076: I tensorflow/core/grappler/optimizers/custom_graph_optimizer_registry.cc:113] Plugin optimizer for device_type GPU is enabled.\n"
     ]
    },
    {
     "name": "stdout",
     "output_type": "stream",
     "text": [
      "32/32 [==============================] - 35s 1s/step\n"
     ]
    }
   ],
   "source": [
    "for i in np.arange(8, 13):\n",
    "    model_name = 'model-' + str(i)\n",
    "\n",
    "    roc_jpg = './results/roc-' + model_name + '.jpg'\n",
    "    roc_csv = './results/roc-' + model_name + '.csv'\n",
    "    auroc_csv = './results/auroc-' + model_name + '.csv'\n",
    "    pr_jpg = './results/pr-' + model_name + '.jpg'\n",
    "    pr_csv = './results/pr-' + model_name + '.csv'\n",
    "    aupr_csv= './results/aupr-' + model_name + '.csv'\n",
    "    \n",
    "    model = load_model('./models/' + model_name + '.h5', compile=False)\n",
    "\n",
    "    val_gen[i].reset()\n",
    "    y_true = val_gen[i].labels\n",
    "    y_pred = model.predict(val_gen[i], batch_size=64, verbose=True)\n",
    "\n",
    "    with open(roc_csv, 'w') as f:\n",
    "        csv_writer = csv.writer(f)\n",
    "        areas = plot_roc_auc(y_true, y_pred, labels, model_name, roc_jpg, csv_writer, figsize=(15, 10))\n",
    "    \n",
    "    with open(auroc_csv, 'w') as f:\n",
    "        dict_writer = csv.DictWriter(f, fieldnames=labels)\n",
    "        dict_writer.writeheader()\n",
    "        dict_writer.writerow(areas)\n",
    "\n",
    "    with open(pr_csv, 'w') as f:\n",
    "        csv_writer = csv.writer(f)\n",
    "        areas = plot_precision_recall_auc(y_true, y_pred, labels, model_name, pr_jpg, csv_writer, figsize=(15, 10))\n",
    "\n",
    "    with open(aupr_csv, 'w') as f:\n",
    "        dict_writer = csv.DictWriter(f, fieldnames=labels)\n",
    "        dict_writer.writeheader()\n",
    "        dict_writer.writerow(areas)"
   ]
  },
  {
   "cell_type": "markdown",
   "metadata": {},
   "source": [
    "For reference, the model summary table from the beginning of the notebook is copied below.\n",
    "\n",
    "<br>\n",
    "\n",
    "__MODEL SUMMARY TABLE__\n",
    "|  | 8 | 9 | 10 | 11 | 12 |\n",
    "| --- | --- | --- | --- | --- | --- |\n",
    "| Loss | BCE | BCE | BCE | BCE | Weighted BCE |\n",
    "| Base Model | Xception | Xception | DenseNet169 | DenseNet169 | DenseNet169 |\n",
    "| Model Weights | ImageNet | ImageNet | ImageNet | ImageNet | ImageNet |\n",
    "| Data Sampling | Stratified Sampling | Random | Stratified Sampling | Random | Random |\n",
    "| Blocks Frozen | Default | Default | Default | Default | Default |\n",
    "| Pooling Operation | GlobalAvg2D | GlobalAvg2D | GlobalAvg2D | GlobalAvg2D | GlobalAvg2D |\n",
    "\n",
    "* BCE = Binary Cross Entropy"
   ]
  },
  {
   "cell_type": "markdown",
   "metadata": {},
   "source": [
    "### Area Under ROC Curve"
   ]
  },
  {
   "cell_type": "code",
   "execution_count": 29,
   "metadata": {},
   "outputs": [
    {
     "data": {
      "text/html": [
       "<style type=\"text/css\">\n",
       "#T_9f6b6_row0_col4, #T_9f6b6_row1_col5, #T_9f6b6_row2_col4, #T_9f6b6_row3_col3, #T_9f6b6_row4_col4, #T_9f6b6_row5_col3, #T_9f6b6_row6_col4, #T_9f6b6_row7_col3, #T_9f6b6_row8_col4, #T_9f6b6_row9_col4, #T_9f6b6_row10_col4, #T_9f6b6_row11_col4, #T_9f6b6_row12_col4, #T_9f6b6_row13_col4 {\n",
       "  color: darkgreen;\n",
       "  background-color: lightgreen;\n",
       "}\n",
       "#T_9f6b6_row0_col7, #T_9f6b6_row1_col0, #T_9f6b6_row2_col7, #T_9f6b6_row3_col7, #T_9f6b6_row4_col7, #T_9f6b6_row5_col7, #T_9f6b6_row6_col7, #T_9f6b6_row7_col0, #T_9f6b6_row8_col7, #T_9f6b6_row9_col7, #T_9f6b6_row10_col7, #T_9f6b6_row11_col7, #T_9f6b6_row12_col7, #T_9f6b6_row13_col7 {\n",
       "  color: darkred;\n",
       "  background-color: salmon;\n",
       "}\n",
       "</style>\n",
       "<table id=\"T_9f6b6\">\n",
       "  <caption>SUMMARY - Area Under ROC Curve</caption>\n",
       "  <thead>\n",
       "    <tr>\n",
       "      <th class=\"index_name level0\" >File</th>\n",
       "      <th id=\"T_9f6b6_level0_col0\" class=\"col_heading level0 col0\" >auroc-model-1.csv</th>\n",
       "      <th id=\"T_9f6b6_level0_col1\" class=\"col_heading level0 col1\" >auroc-model-2.csv</th>\n",
       "      <th id=\"T_9f6b6_level0_col2\" class=\"col_heading level0 col2\" >auroc-model-3.csv</th>\n",
       "      <th id=\"T_9f6b6_level0_col3\" class=\"col_heading level0 col3\" >auroc-model-8.csv</th>\n",
       "      <th id=\"T_9f6b6_level0_col4\" class=\"col_heading level0 col4\" >auroc-model-9.csv</th>\n",
       "      <th id=\"T_9f6b6_level0_col5\" class=\"col_heading level0 col5\" >auroc-model-10.csv</th>\n",
       "      <th id=\"T_9f6b6_level0_col6\" class=\"col_heading level0 col6\" >auroc-model-11.csv</th>\n",
       "      <th id=\"T_9f6b6_level0_col7\" class=\"col_heading level0 col7\" >auroc-model-12.csv</th>\n",
       "    </tr>\n",
       "  </thead>\n",
       "  <tbody>\n",
       "    <tr>\n",
       "      <th id=\"T_9f6b6_level0_row0\" class=\"row_heading level0 row0\" >Atelectasis</th>\n",
       "      <td id=\"T_9f6b6_row0_col0\" class=\"data row0 col0\" >0.702118</td>\n",
       "      <td id=\"T_9f6b6_row0_col1\" class=\"data row0 col1\" >0.723808</td>\n",
       "      <td id=\"T_9f6b6_row0_col2\" class=\"data row0 col2\" >0.701123</td>\n",
       "      <td id=\"T_9f6b6_row0_col3\" class=\"data row0 col3\" >0.720173</td>\n",
       "      <td id=\"T_9f6b6_row0_col4\" class=\"data row0 col4\" >0.800596</td>\n",
       "      <td id=\"T_9f6b6_row0_col5\" class=\"data row0 col5\" >0.711074</td>\n",
       "      <td id=\"T_9f6b6_row0_col6\" class=\"data row0 col6\" >0.743094</td>\n",
       "      <td id=\"T_9f6b6_row0_col7\" class=\"data row0 col7\" >0.568979</td>\n",
       "    </tr>\n",
       "    <tr>\n",
       "      <th id=\"T_9f6b6_level0_row1\" class=\"row_heading level0 row1\" >Cardiomegaly</th>\n",
       "      <td id=\"T_9f6b6_row1_col0\" class=\"data row1 col0\" >0.598420</td>\n",
       "      <td id=\"T_9f6b6_row1_col1\" class=\"data row1 col1\" >0.784200</td>\n",
       "      <td id=\"T_9f6b6_row1_col2\" class=\"data row1 col2\" >0.627678</td>\n",
       "      <td id=\"T_9f6b6_row1_col3\" class=\"data row1 col3\" >0.836840</td>\n",
       "      <td id=\"T_9f6b6_row1_col4\" class=\"data row1 col4\" >0.836931</td>\n",
       "      <td id=\"T_9f6b6_row1_col5\" class=\"data row1 col5\" >0.881103</td>\n",
       "      <td id=\"T_9f6b6_row1_col6\" class=\"data row1 col6\" >0.800318</td>\n",
       "      <td id=\"T_9f6b6_row1_col7\" class=\"data row1 col7\" >0.605536</td>\n",
       "    </tr>\n",
       "    <tr>\n",
       "      <th id=\"T_9f6b6_level0_row2\" class=\"row_heading level0 row2\" >Consolidation</th>\n",
       "      <td id=\"T_9f6b6_row2_col0\" class=\"data row2 col0\" >0.773982</td>\n",
       "      <td id=\"T_9f6b6_row2_col1\" class=\"data row2 col1\" >0.764722</td>\n",
       "      <td id=\"T_9f6b6_row2_col2\" class=\"data row2 col2\" >0.798216</td>\n",
       "      <td id=\"T_9f6b6_row2_col3\" class=\"data row2 col3\" >0.723360</td>\n",
       "      <td id=\"T_9f6b6_row2_col4\" class=\"data row2 col4\" >0.812583</td>\n",
       "      <td id=\"T_9f6b6_row2_col5\" class=\"data row2 col5\" >0.752931</td>\n",
       "      <td id=\"T_9f6b6_row2_col6\" class=\"data row2 col6\" >0.781799</td>\n",
       "      <td id=\"T_9f6b6_row2_col7\" class=\"data row2 col7\" >0.673175</td>\n",
       "    </tr>\n",
       "    <tr>\n",
       "      <th id=\"T_9f6b6_level0_row3\" class=\"row_heading level0 row3\" >Edema</th>\n",
       "      <td id=\"T_9f6b6_row3_col0\" class=\"data row3 col0\" >0.814848</td>\n",
       "      <td id=\"T_9f6b6_row3_col1\" class=\"data row3 col1\" >0.883571</td>\n",
       "      <td id=\"T_9f6b6_row3_col2\" class=\"data row3 col2\" >0.866344</td>\n",
       "      <td id=\"T_9f6b6_row3_col3\" class=\"data row3 col3\" >0.894645</td>\n",
       "      <td id=\"T_9f6b6_row3_col4\" class=\"data row3 col4\" >0.889893</td>\n",
       "      <td id=\"T_9f6b6_row3_col5\" class=\"data row3 col5\" >0.891859</td>\n",
       "      <td id=\"T_9f6b6_row3_col6\" class=\"data row3 col6\" >0.849980</td>\n",
       "      <td id=\"T_9f6b6_row3_col7\" class=\"data row3 col7\" >0.718304</td>\n",
       "    </tr>\n",
       "    <tr>\n",
       "      <th id=\"T_9f6b6_level0_row4\" class=\"row_heading level0 row4\" >Effusion</th>\n",
       "      <td id=\"T_9f6b6_row4_col0\" class=\"data row4 col0\" >0.842635</td>\n",
       "      <td id=\"T_9f6b6_row4_col1\" class=\"data row4 col1\" >0.839346</td>\n",
       "      <td id=\"T_9f6b6_row4_col2\" class=\"data row4 col2\" >0.842761</td>\n",
       "      <td id=\"T_9f6b6_row4_col3\" class=\"data row4 col3\" >0.843800</td>\n",
       "      <td id=\"T_9f6b6_row4_col4\" class=\"data row4 col4\" >0.900372</td>\n",
       "      <td id=\"T_9f6b6_row4_col5\" class=\"data row4 col5\" >0.849912</td>\n",
       "      <td id=\"T_9f6b6_row4_col6\" class=\"data row4 col6\" >0.877012</td>\n",
       "      <td id=\"T_9f6b6_row4_col7\" class=\"data row4 col7\" >0.599884</td>\n",
       "    </tr>\n",
       "    <tr>\n",
       "      <th id=\"T_9f6b6_level0_row5\" class=\"row_heading level0 row5\" >Emphysema</th>\n",
       "      <td id=\"T_9f6b6_row5_col0\" class=\"data row5 col0\" >0.711032</td>\n",
       "      <td id=\"T_9f6b6_row5_col1\" class=\"data row5 col1\" >0.598359</td>\n",
       "      <td id=\"T_9f6b6_row5_col2\" class=\"data row5 col2\" >0.753283</td>\n",
       "      <td id=\"T_9f6b6_row5_col3\" class=\"data row5 col3\" >0.854298</td>\n",
       "      <td id=\"T_9f6b6_row5_col4\" class=\"data row5 col4\" >0.845685</td>\n",
       "      <td id=\"T_9f6b6_row5_col5\" class=\"data row5 col5\" >0.751235</td>\n",
       "      <td id=\"T_9f6b6_row5_col6\" class=\"data row5 col6\" >0.681810</td>\n",
       "      <td id=\"T_9f6b6_row5_col7\" class=\"data row5 col7\" >0.546599</td>\n",
       "    </tr>\n",
       "    <tr>\n",
       "      <th id=\"T_9f6b6_level0_row6\" class=\"row_heading level0 row6\" >Fibrosis</th>\n",
       "      <td id=\"T_9f6b6_row6_col0\" class=\"data row6 col0\" >0.686561</td>\n",
       "      <td id=\"T_9f6b6_row6_col1\" class=\"data row6 col1\" >0.679107</td>\n",
       "      <td id=\"T_9f6b6_row6_col2\" class=\"data row6 col2\" >0.669490</td>\n",
       "      <td id=\"T_9f6b6_row6_col3\" class=\"data row6 col3\" >0.735694</td>\n",
       "      <td id=\"T_9f6b6_row6_col4\" class=\"data row6 col4\" >0.769197</td>\n",
       "      <td id=\"T_9f6b6_row6_col5\" class=\"data row6 col5\" >0.725520</td>\n",
       "      <td id=\"T_9f6b6_row6_col6\" class=\"data row6 col6\" >0.697833</td>\n",
       "      <td id=\"T_9f6b6_row6_col7\" class=\"data row6 col7\" >0.607792</td>\n",
       "    </tr>\n",
       "    <tr>\n",
       "      <th id=\"T_9f6b6_level0_row7\" class=\"row_heading level0 row7\" >Hernia</th>\n",
       "      <td id=\"T_9f6b6_row7_col0\" class=\"data row7 col0\" >0.791354</td>\n",
       "      <td id=\"T_9f6b6_row7_col1\" class=\"data row7 col1\" >0.945752</td>\n",
       "      <td id=\"T_9f6b6_row7_col2\" class=\"data row7 col2\" >0.905692</td>\n",
       "      <td id=\"T_9f6b6_row7_col3\" class=\"data row7 col3\" >0.999666</td>\n",
       "      <td id=\"T_9f6b6_row7_col4\" class=\"data row7 col4\" >0.949424</td>\n",
       "      <td id=\"T_9f6b6_row7_col5\" class=\"data row7 col5\" >0.999165</td>\n",
       "      <td id=\"T_9f6b6_row7_col6\" class=\"data row7 col6\" >0.831080</td>\n",
       "      <td id=\"T_9f6b6_row7_col7\" class=\"data row7 col7\" >0.845769</td>\n",
       "    </tr>\n",
       "    <tr>\n",
       "      <th id=\"T_9f6b6_level0_row8\" class=\"row_heading level0 row8\" >Infiltration</th>\n",
       "      <td id=\"T_9f6b6_row8_col0\" class=\"data row8 col0\" >0.634464</td>\n",
       "      <td id=\"T_9f6b6_row8_col1\" class=\"data row8 col1\" >0.670350</td>\n",
       "      <td id=\"T_9f6b6_row8_col2\" class=\"data row8 col2\" >0.615125</td>\n",
       "      <td id=\"T_9f6b6_row8_col3\" class=\"data row8 col3\" >0.644691</td>\n",
       "      <td id=\"T_9f6b6_row8_col4\" class=\"data row8 col4\" >0.697875</td>\n",
       "      <td id=\"T_9f6b6_row8_col5\" class=\"data row8 col5\" >0.627593</td>\n",
       "      <td id=\"T_9f6b6_row8_col6\" class=\"data row8 col6\" >0.675921</td>\n",
       "      <td id=\"T_9f6b6_row8_col7\" class=\"data row8 col7\" >0.582063</td>\n",
       "    </tr>\n",
       "    <tr>\n",
       "      <th id=\"T_9f6b6_level0_row9\" class=\"row_heading level0 row9\" >Mass</th>\n",
       "      <td id=\"T_9f6b6_row9_col0\" class=\"data row9 col0\" >0.648182</td>\n",
       "      <td id=\"T_9f6b6_row9_col1\" class=\"data row9 col1\" >0.732572</td>\n",
       "      <td id=\"T_9f6b6_row9_col2\" class=\"data row9 col2\" >0.635370</td>\n",
       "      <td id=\"T_9f6b6_row9_col3\" class=\"data row9 col3\" >0.705289</td>\n",
       "      <td id=\"T_9f6b6_row9_col4\" class=\"data row9 col4\" >0.849935</td>\n",
       "      <td id=\"T_9f6b6_row9_col5\" class=\"data row9 col5\" >0.778637</td>\n",
       "      <td id=\"T_9f6b6_row9_col6\" class=\"data row9 col6\" >0.737319</td>\n",
       "      <td id=\"T_9f6b6_row9_col7\" class=\"data row9 col7\" >0.483867</td>\n",
       "    </tr>\n",
       "    <tr>\n",
       "      <th id=\"T_9f6b6_level0_row10\" class=\"row_heading level0 row10\" >Nodule</th>\n",
       "      <td id=\"T_9f6b6_row10_col0\" class=\"data row10 col0\" >0.574052</td>\n",
       "      <td id=\"T_9f6b6_row10_col1\" class=\"data row10 col1\" >0.598381</td>\n",
       "      <td id=\"T_9f6b6_row10_col2\" class=\"data row10 col2\" >0.584197</td>\n",
       "      <td id=\"T_9f6b6_row10_col3\" class=\"data row10 col3\" >0.662009</td>\n",
       "      <td id=\"T_9f6b6_row10_col4\" class=\"data row10 col4\" >0.734400</td>\n",
       "      <td id=\"T_9f6b6_row10_col5\" class=\"data row10 col5\" >0.667866</td>\n",
       "      <td id=\"T_9f6b6_row10_col6\" class=\"data row10 col6\" >0.652228</td>\n",
       "      <td id=\"T_9f6b6_row10_col7\" class=\"data row10 col7\" >0.510676</td>\n",
       "    </tr>\n",
       "    <tr>\n",
       "      <th id=\"T_9f6b6_level0_row11\" class=\"row_heading level0 row11\" >Pleural_Thickening</th>\n",
       "      <td id=\"T_9f6b6_row11_col0\" class=\"data row11 col0\" >0.711114</td>\n",
       "      <td id=\"T_9f6b6_row11_col1\" class=\"data row11 col1\" >0.741617</td>\n",
       "      <td id=\"T_9f6b6_row11_col2\" class=\"data row11 col2\" >0.710882</td>\n",
       "      <td id=\"T_9f6b6_row11_col3\" class=\"data row11 col3\" >0.781587</td>\n",
       "      <td id=\"T_9f6b6_row11_col4\" class=\"data row11 col4\" >0.783841</td>\n",
       "      <td id=\"T_9f6b6_row11_col5\" class=\"data row11 col5\" >0.733066</td>\n",
       "      <td id=\"T_9f6b6_row11_col6\" class=\"data row11 col6\" >0.738559</td>\n",
       "      <td id=\"T_9f6b6_row11_col7\" class=\"data row11 col7\" >0.500277</td>\n",
       "    </tr>\n",
       "    <tr>\n",
       "      <th id=\"T_9f6b6_level0_row12\" class=\"row_heading level0 row12\" >Pneumonia</th>\n",
       "      <td id=\"T_9f6b6_row12_col0\" class=\"data row12 col0\" >0.692566</td>\n",
       "      <td id=\"T_9f6b6_row12_col1\" class=\"data row12 col1\" >0.719503</td>\n",
       "      <td id=\"T_9f6b6_row12_col2\" class=\"data row12 col2\" >0.603711</td>\n",
       "      <td id=\"T_9f6b6_row12_col3\" class=\"data row12 col3\" >0.679140</td>\n",
       "      <td id=\"T_9f6b6_row12_col4\" class=\"data row12 col4\" >0.794512</td>\n",
       "      <td id=\"T_9f6b6_row12_col5\" class=\"data row12 col5\" >0.728221</td>\n",
       "      <td id=\"T_9f6b6_row12_col6\" class=\"data row12 col6\" >0.743357</td>\n",
       "      <td id=\"T_9f6b6_row12_col7\" class=\"data row12 col7\" >0.413247</td>\n",
       "    </tr>\n",
       "    <tr>\n",
       "      <th id=\"T_9f6b6_level0_row13\" class=\"row_heading level0 row13\" >Pneumothorax</th>\n",
       "      <td id=\"T_9f6b6_row13_col0\" class=\"data row13 col0\" >0.737191</td>\n",
       "      <td id=\"T_9f6b6_row13_col1\" class=\"data row13 col1\" >0.737070</td>\n",
       "      <td id=\"T_9f6b6_row13_col2\" class=\"data row13 col2\" >0.703136</td>\n",
       "      <td id=\"T_9f6b6_row13_col3\" class=\"data row13 col3\" >0.764510</td>\n",
       "      <td id=\"T_9f6b6_row13_col4\" class=\"data row13 col4\" >0.790945</td>\n",
       "      <td id=\"T_9f6b6_row13_col5\" class=\"data row13 col5\" >0.717801</td>\n",
       "      <td id=\"T_9f6b6_row13_col6\" class=\"data row13 col6\" >0.773686</td>\n",
       "      <td id=\"T_9f6b6_row13_col7\" class=\"data row13 col7\" >0.579287</td>\n",
       "    </tr>\n",
       "  </tbody>\n",
       "</table>\n"
      ],
      "text/plain": [
       "<pandas.io.formats.style.Styler at 0x2e2bdddf0>"
      ]
     },
     "execution_count": 29,
     "metadata": {},
     "output_type": "execute_result"
    }
   ],
   "source": [
    "import os\n",
    "\n",
    "def highlight_max(s, props=''):\n",
    "    return np.where(s == np.max(s.values), props, '')\n",
    "\n",
    "def highlight_min(s, props=''):\n",
    "    return np.where(s == np.min(s.values), props, '')\n",
    "\n",
    "results_dir = r'./results/'\n",
    "csv_files = sorted([x for x in os.listdir(results_dir) if 'csv' in x and 'auroc' in x])\n",
    "\n",
    "df_list = [pd.read_csv(results_dir + file).assign(File=file) for file in csv_files]\n",
    "\n",
    "df = pd.concat(df_list, ignore_index=True)\n",
    "df = df.set_index('File')\n",
    "df = df.transpose()\n",
    "df = df[['auroc-model-' + str(x) + '.csv' for x in np.append(np.arange(1, 4), np.arange(8, 13))]]\n",
    "\n",
    "df.style.apply(\n",
    "    highlight_max, props='color:darkgreen;background-color:lightgreen', axis=1\n",
    "        ).apply(\n",
    "    highlight_min, props='color:darkred;background-color:salmon', axis=1\n",
    "        ).set_caption('SUMMARY - Area Under ROC Curve')"
   ]
  },
  {
   "cell_type": "code",
   "execution_count": 30,
   "metadata": {},
   "outputs": [
    {
     "name": "stdout",
     "output_type": "stream",
     "text": [
      "Average AUROC:\n",
      "auroc-model-1.csv: 0.708466\n",
      "auroc-model-2.csv: 0.744168\n",
      "auroc-model-3.csv: 0.715501\n",
      "auroc-model-8.csv: 0.774693\n",
      "auroc-model-9.csv: 0.818299\n",
      "auroc-model-10.csv: 0.772570\n",
      "auroc-model-11.csv: 0.756000\n",
      "auroc-model-12.csv: 0.588247\n"
     ]
    }
   ],
   "source": [
    "print('Average AUROC:')\n",
    "for ind, col in df.iteritems():\n",
    "    print('%s: %0.6f' % (ind, col.mean()))"
   ]
  },
  {
   "cell_type": "markdown",
   "metadata": {},
   "source": [
    "### Area Under PR Curve"
   ]
  },
  {
   "cell_type": "code",
   "execution_count": 31,
   "metadata": {},
   "outputs": [
    {
     "data": {
      "text/html": [
       "<style type=\"text/css\">\n",
       "#T_21532_row0_col4, #T_21532_row1_col5, #T_21532_row2_col0, #T_21532_row3_col5, #T_21532_row4_col4, #T_21532_row5_col4, #T_21532_row6_col3, #T_21532_row7_col3, #T_21532_row8_col4, #T_21532_row9_col4, #T_21532_row10_col4, #T_21532_row11_col4, #T_21532_row12_col5, #T_21532_row13_col4 {\n",
       "  color: darkgreen;\n",
       "  background-color: lightgreen;\n",
       "}\n",
       "#T_21532_row0_col7, #T_21532_row1_col0, #T_21532_row2_col7, #T_21532_row3_col7, #T_21532_row4_col7, #T_21532_row5_col7, #T_21532_row6_col7, #T_21532_row7_col0, #T_21532_row8_col7, #T_21532_row9_col7, #T_21532_row10_col7, #T_21532_row11_col7, #T_21532_row12_col7, #T_21532_row13_col7 {\n",
       "  color: darkred;\n",
       "  background-color: salmon;\n",
       "}\n",
       "</style>\n",
       "<table id=\"T_21532\">\n",
       "  <caption>SUMMARY - Area Under PR Curve</caption>\n",
       "  <thead>\n",
       "    <tr>\n",
       "      <th class=\"index_name level0\" >File</th>\n",
       "      <th id=\"T_21532_level0_col0\" class=\"col_heading level0 col0\" >aupr-model-1.csv</th>\n",
       "      <th id=\"T_21532_level0_col1\" class=\"col_heading level0 col1\" >aupr-model-2.csv</th>\n",
       "      <th id=\"T_21532_level0_col2\" class=\"col_heading level0 col2\" >aupr-model-3.csv</th>\n",
       "      <th id=\"T_21532_level0_col3\" class=\"col_heading level0 col3\" >aupr-model-8.csv</th>\n",
       "      <th id=\"T_21532_level0_col4\" class=\"col_heading level0 col4\" >aupr-model-9.csv</th>\n",
       "      <th id=\"T_21532_level0_col5\" class=\"col_heading level0 col5\" >aupr-model-10.csv</th>\n",
       "      <th id=\"T_21532_level0_col6\" class=\"col_heading level0 col6\" >aupr-model-11.csv</th>\n",
       "      <th id=\"T_21532_level0_col7\" class=\"col_heading level0 col7\" >aupr-model-12.csv</th>\n",
       "    </tr>\n",
       "  </thead>\n",
       "  <tbody>\n",
       "    <tr>\n",
       "      <th id=\"T_21532_level0_row0\" class=\"row_heading level0 row0\" >Atelectasis</th>\n",
       "      <td id=\"T_21532_row0_col0\" class=\"data row0 col0\" >0.163996</td>\n",
       "      <td id=\"T_21532_row0_col1\" class=\"data row0 col1\" >0.208453</td>\n",
       "      <td id=\"T_21532_row0_col2\" class=\"data row0 col2\" >0.188021</td>\n",
       "      <td id=\"T_21532_row0_col3\" class=\"data row0 col3\" >0.239890</td>\n",
       "      <td id=\"T_21532_row0_col4\" class=\"data row0 col4\" >0.277921</td>\n",
       "      <td id=\"T_21532_row0_col5\" class=\"data row0 col5\" >0.196540</td>\n",
       "      <td id=\"T_21532_row0_col6\" class=\"data row0 col6\" >0.217253</td>\n",
       "      <td id=\"T_21532_row0_col7\" class=\"data row0 col7\" >0.106303</td>\n",
       "    </tr>\n",
       "    <tr>\n",
       "      <th id=\"T_21532_level0_row1\" class=\"row_heading level0 row1\" >Cardiomegaly</th>\n",
       "      <td id=\"T_21532_row1_col0\" class=\"data row1 col0\" >0.029388</td>\n",
       "      <td id=\"T_21532_row1_col1\" class=\"data row1 col1\" >0.099773</td>\n",
       "      <td id=\"T_21532_row1_col2\" class=\"data row1 col2\" >0.034887</td>\n",
       "      <td id=\"T_21532_row1_col3\" class=\"data row1 col3\" >0.140160</td>\n",
       "      <td id=\"T_21532_row1_col4\" class=\"data row1 col4\" >0.167568</td>\n",
       "      <td id=\"T_21532_row1_col5\" class=\"data row1 col5\" >0.193063</td>\n",
       "      <td id=\"T_21532_row1_col6\" class=\"data row1 col6\" >0.129632</td>\n",
       "      <td id=\"T_21532_row1_col7\" class=\"data row1 col7\" >0.054492</td>\n",
       "    </tr>\n",
       "    <tr>\n",
       "      <th id=\"T_21532_level0_row2\" class=\"row_heading level0 row2\" >Consolidation</th>\n",
       "      <td id=\"T_21532_row2_col0\" class=\"data row2 col0\" >0.133307</td>\n",
       "      <td id=\"T_21532_row2_col1\" class=\"data row2 col1\" >0.116111</td>\n",
       "      <td id=\"T_21532_row2_col2\" class=\"data row2 col2\" >0.121504</td>\n",
       "      <td id=\"T_21532_row2_col3\" class=\"data row2 col3\" >0.087582</td>\n",
       "      <td id=\"T_21532_row2_col4\" class=\"data row2 col4\" >0.116328</td>\n",
       "      <td id=\"T_21532_row2_col5\" class=\"data row2 col5\" >0.099144</td>\n",
       "      <td id=\"T_21532_row2_col6\" class=\"data row2 col6\" >0.110378</td>\n",
       "      <td id=\"T_21532_row2_col7\" class=\"data row2 col7\" >0.070037</td>\n",
       "    </tr>\n",
       "    <tr>\n",
       "      <th id=\"T_21532_level0_row3\" class=\"row_heading level0 row3\" >Edema</th>\n",
       "      <td id=\"T_21532_row3_col0\" class=\"data row3 col0\" >0.066418</td>\n",
       "      <td id=\"T_21532_row3_col1\" class=\"data row3 col1\" >0.154025</td>\n",
       "      <td id=\"T_21532_row3_col2\" class=\"data row3 col2\" >0.107548</td>\n",
       "      <td id=\"T_21532_row3_col3\" class=\"data row3 col3\" >0.141840</td>\n",
       "      <td id=\"T_21532_row3_col4\" class=\"data row3 col4\" >0.158331</td>\n",
       "      <td id=\"T_21532_row3_col5\" class=\"data row3 col5\" >0.197444</td>\n",
       "      <td id=\"T_21532_row3_col6\" class=\"data row3 col6\" >0.094157</td>\n",
       "      <td id=\"T_21532_row3_col7\" class=\"data row3 col7\" >0.063070</td>\n",
       "    </tr>\n",
       "    <tr>\n",
       "      <th id=\"T_21532_level0_row4\" class=\"row_heading level0 row4\" >Effusion</th>\n",
       "      <td id=\"T_21532_row4_col0\" class=\"data row4 col0\" >0.362956</td>\n",
       "      <td id=\"T_21532_row4_col1\" class=\"data row4 col1\" >0.462039</td>\n",
       "      <td id=\"T_21532_row4_col2\" class=\"data row4 col2\" >0.379477</td>\n",
       "      <td id=\"T_21532_row4_col3\" class=\"data row4 col3\" >0.461053</td>\n",
       "      <td id=\"T_21532_row4_col4\" class=\"data row4 col4\" >0.590785</td>\n",
       "      <td id=\"T_21532_row4_col5\" class=\"data row4 col5\" >0.518745</td>\n",
       "      <td id=\"T_21532_row4_col6\" class=\"data row4 col6\" >0.513316</td>\n",
       "      <td id=\"T_21532_row4_col7\" class=\"data row4 col7\" >0.135898</td>\n",
       "    </tr>\n",
       "    <tr>\n",
       "      <th id=\"T_21532_level0_row5\" class=\"row_heading level0 row5\" >Emphysema</th>\n",
       "      <td id=\"T_21532_row5_col0\" class=\"data row5 col0\" >0.039089</td>\n",
       "      <td id=\"T_21532_row5_col1\" class=\"data row5 col1\" >0.022377</td>\n",
       "      <td id=\"T_21532_row5_col2\" class=\"data row5 col2\" >0.075734</td>\n",
       "      <td id=\"T_21532_row5_col3\" class=\"data row5 col3\" >0.232207</td>\n",
       "      <td id=\"T_21532_row5_col4\" class=\"data row5 col4\" >0.285736</td>\n",
       "      <td id=\"T_21532_row5_col5\" class=\"data row5 col5\" >0.230750</td>\n",
       "      <td id=\"T_21532_row5_col6\" class=\"data row5 col6\" >0.041919</td>\n",
       "      <td id=\"T_21532_row5_col7\" class=\"data row5 col7\" >0.018646</td>\n",
       "    </tr>\n",
       "    <tr>\n",
       "      <th id=\"T_21532_level0_row6\" class=\"row_heading level0 row6\" >Fibrosis</th>\n",
       "      <td id=\"T_21532_row6_col0\" class=\"data row6 col0\" >0.026073</td>\n",
       "      <td id=\"T_21532_row6_col1\" class=\"data row6 col1\" >0.027248</td>\n",
       "      <td id=\"T_21532_row6_col2\" class=\"data row6 col2\" >0.028627</td>\n",
       "      <td id=\"T_21532_row6_col3\" class=\"data row6 col3\" >0.147029</td>\n",
       "      <td id=\"T_21532_row6_col4\" class=\"data row6 col4\" >0.054822</td>\n",
       "      <td id=\"T_21532_row6_col5\" class=\"data row6 col5\" >0.053929</td>\n",
       "      <td id=\"T_21532_row6_col6\" class=\"data row6 col6\" >0.070292</td>\n",
       "      <td id=\"T_21532_row6_col7\" class=\"data row6 col7\" >0.022567</td>\n",
       "    </tr>\n",
       "    <tr>\n",
       "      <th id=\"T_21532_level0_row7\" class=\"row_heading level0 row7\" >Hernia</th>\n",
       "      <td id=\"T_21532_row7_col0\" class=\"data row7 col0\" >0.003327</td>\n",
       "      <td id=\"T_21532_row7_col1\" class=\"data row7 col1\" >0.034359</td>\n",
       "      <td id=\"T_21532_row7_col2\" class=\"data row7 col2\" >0.095646</td>\n",
       "      <td id=\"T_21532_row7_col3\" class=\"data row7 col3\" >0.763889</td>\n",
       "      <td id=\"T_21532_row7_col4\" class=\"data row7 col4\" >0.092028</td>\n",
       "      <td id=\"T_21532_row7_col5\" class=\"data row7 col5\" >0.654762</td>\n",
       "      <td id=\"T_21532_row7_col6\" class=\"data row7 col6\" >0.004416</td>\n",
       "      <td id=\"T_21532_row7_col7\" class=\"data row7 col7\" >0.016750</td>\n",
       "    </tr>\n",
       "    <tr>\n",
       "      <th id=\"T_21532_level0_row8\" class=\"row_heading level0 row8\" >Infiltration</th>\n",
       "      <td id=\"T_21532_row8_col0\" class=\"data row8 col0\" >0.245505</td>\n",
       "      <td id=\"T_21532_row8_col1\" class=\"data row8 col1\" >0.264793</td>\n",
       "      <td id=\"T_21532_row8_col2\" class=\"data row8 col2\" >0.244522</td>\n",
       "      <td id=\"T_21532_row8_col3\" class=\"data row8 col3\" >0.271535</td>\n",
       "      <td id=\"T_21532_row8_col4\" class=\"data row8 col4\" >0.306581</td>\n",
       "      <td id=\"T_21532_row8_col5\" class=\"data row8 col5\" >0.276319</td>\n",
       "      <td id=\"T_21532_row8_col6\" class=\"data row8 col6\" >0.288910</td>\n",
       "      <td id=\"T_21532_row8_col7\" class=\"data row8 col7\" >0.206885</td>\n",
       "    </tr>\n",
       "    <tr>\n",
       "      <th id=\"T_21532_level0_row9\" class=\"row_heading level0 row9\" >Mass</th>\n",
       "      <td id=\"T_21532_row9_col0\" class=\"data row9 col0\" >0.096686</td>\n",
       "      <td id=\"T_21532_row9_col1\" class=\"data row9 col1\" >0.130011</td>\n",
       "      <td id=\"T_21532_row9_col2\" class=\"data row9 col2\" >0.078362</td>\n",
       "      <td id=\"T_21532_row9_col3\" class=\"data row9 col3\" >0.174187</td>\n",
       "      <td id=\"T_21532_row9_col4\" class=\"data row9 col4\" >0.319667</td>\n",
       "      <td id=\"T_21532_row9_col5\" class=\"data row9 col5\" >0.226485</td>\n",
       "      <td id=\"T_21532_row9_col6\" class=\"data row9 col6\" >0.159782</td>\n",
       "      <td id=\"T_21532_row9_col7\" class=\"data row9 col7\" >0.042251</td>\n",
       "    </tr>\n",
       "    <tr>\n",
       "      <th id=\"T_21532_level0_row10\" class=\"row_heading level0 row10\" >Nodule</th>\n",
       "      <td id=\"T_21532_row10_col0\" class=\"data row10 col0\" >0.086840</td>\n",
       "      <td id=\"T_21532_row10_col1\" class=\"data row10 col1\" >0.060450</td>\n",
       "      <td id=\"T_21532_row10_col2\" class=\"data row10 col2\" >0.096874</td>\n",
       "      <td id=\"T_21532_row10_col3\" class=\"data row10 col3\" >0.094493</td>\n",
       "      <td id=\"T_21532_row10_col4\" class=\"data row10 col4\" >0.196784</td>\n",
       "      <td id=\"T_21532_row10_col5\" class=\"data row10 col5\" >0.154943</td>\n",
       "      <td id=\"T_21532_row10_col6\" class=\"data row10 col6\" >0.112020</td>\n",
       "      <td id=\"T_21532_row10_col7\" class=\"data row10 col7\" >0.048028</td>\n",
       "    </tr>\n",
       "    <tr>\n",
       "      <th id=\"T_21532_level0_row11\" class=\"row_heading level0 row11\" >Pleural_Thickening</th>\n",
       "      <td id=\"T_21532_row11_col0\" class=\"data row11 col0\" >0.051967</td>\n",
       "      <td id=\"T_21532_row11_col1\" class=\"data row11 col1\" >0.062204</td>\n",
       "      <td id=\"T_21532_row11_col2\" class=\"data row11 col2\" >0.084331</td>\n",
       "      <td id=\"T_21532_row11_col3\" class=\"data row11 col3\" >0.103830</td>\n",
       "      <td id=\"T_21532_row11_col4\" class=\"data row11 col4\" >0.115906</td>\n",
       "      <td id=\"T_21532_row11_col5\" class=\"data row11 col5\" >0.113912</td>\n",
       "      <td id=\"T_21532_row11_col6\" class=\"data row11 col6\" >0.070909</td>\n",
       "      <td id=\"T_21532_row11_col7\" class=\"data row11 col7\" >0.023587</td>\n",
       "    </tr>\n",
       "    <tr>\n",
       "      <th id=\"T_21532_level0_row12\" class=\"row_heading level0 row12\" >Pneumonia</th>\n",
       "      <td id=\"T_21532_row12_col0\" class=\"data row12 col0\" >0.018845</td>\n",
       "      <td id=\"T_21532_row12_col1\" class=\"data row12 col1\" >0.024604</td>\n",
       "      <td id=\"T_21532_row12_col2\" class=\"data row12 col2\" >0.014459</td>\n",
       "      <td id=\"T_21532_row12_col3\" class=\"data row12 col3\" >0.031635</td>\n",
       "      <td id=\"T_21532_row12_col4\" class=\"data row12 col4\" >0.045468</td>\n",
       "      <td id=\"T_21532_row12_col5\" class=\"data row12 col5\" >0.086127</td>\n",
       "      <td id=\"T_21532_row12_col6\" class=\"data row12 col6\" >0.031979</td>\n",
       "      <td id=\"T_21532_row12_col7\" class=\"data row12 col7\" >0.008019</td>\n",
       "    </tr>\n",
       "    <tr>\n",
       "      <th id=\"T_21532_level0_row13\" class=\"row_heading level0 row13\" >Pneumothorax</th>\n",
       "      <td id=\"T_21532_row13_col0\" class=\"data row13 col0\" >0.089329</td>\n",
       "      <td id=\"T_21532_row13_col1\" class=\"data row13 col1\" >0.070073</td>\n",
       "      <td id=\"T_21532_row13_col2\" class=\"data row13 col2\" >0.082689</td>\n",
       "      <td id=\"T_21532_row13_col3\" class=\"data row13 col3\" >0.120385</td>\n",
       "      <td id=\"T_21532_row13_col4\" class=\"data row13 col4\" >0.155205</td>\n",
       "      <td id=\"T_21532_row13_col5\" class=\"data row13 col5\" >0.118494</td>\n",
       "      <td id=\"T_21532_row13_col6\" class=\"data row13 col6\" >0.090775</td>\n",
       "      <td id=\"T_21532_row13_col7\" class=\"data row13 col7\" >0.034808</td>\n",
       "    </tr>\n",
       "  </tbody>\n",
       "</table>\n"
      ],
      "text/plain": [
       "<pandas.io.formats.style.Styler at 0x4588cb190>"
      ]
     },
     "execution_count": 31,
     "metadata": {},
     "output_type": "execute_result"
    }
   ],
   "source": [
    "csv_files = sorted([x for x in os.listdir(results_dir) if 'csv' in x and 'aupr' in x])\n",
    "\n",
    "df_list = [pd.read_csv(results_dir + file).assign(File=file) for file in csv_files]\n",
    "\n",
    "df = pd.concat(df_list, ignore_index=True)\n",
    "df = df.set_index('File')\n",
    "df = df.transpose()\n",
    "df = df[['aupr-model-' + str(x) + '.csv' for x in np.append(np.arange(1, 4), np.arange(8, 13))]]\n",
    "\n",
    "df.style.apply(\n",
    "    highlight_max, props='color:darkgreen;background-color:lightgreen', axis=1\n",
    "        ).apply(\n",
    "    highlight_min, props='color:darkred;background-color:salmon', axis=1\n",
    "        ).set_caption(\"SUMMARY - Area Under PR Curve\")"
   ]
  },
  {
   "cell_type": "code",
   "execution_count": 32,
   "metadata": {},
   "outputs": [
    {
     "name": "stdout",
     "output_type": "stream",
     "text": [
      "Average AUPR:\n",
      "aupr-model-1.csv: 0.100980\n",
      "aupr-model-2.csv: 0.124037\n",
      "aupr-model-3.csv: 0.116620\n",
      "aupr-model-8.csv: 0.214980\n",
      "aupr-model-9.csv: 0.205938\n",
      "aupr-model-10.csv: 0.222904\n",
      "aupr-model-11.csv: 0.138267\n",
      "aupr-model-12.csv: 0.060810\n"
     ]
    }
   ],
   "source": [
    "print('Average AUPR:')\n",
    "for ind, col in df.iteritems():\n",
    "    print('%s: %0.6f' % (ind, col.mean()))"
   ]
  },
  {
   "cell_type": "markdown",
   "metadata": {},
   "source": [
    "# Conclusions"
   ]
  },
  {
   "cell_type": "markdown",
   "metadata": {},
   "source": [
    "* The larger pre-trained networks (Xception and DenseNet169) performed better than the baseline VGG16 models (model-1 to model-3)\n",
    "\n",
    "* Weighted loss function did not perform well, even for a larger model (model-12).\n",
    "\n",
    "* With respects to number of green cells, both AUROC and AUPR point to model-9 (baseline Xception model with random sampling) as the best performing model. \n",
    "\n",
    "* It should also be noted that the models with stratified sampling (model-8 and model-10) perform significantly better on underrepresented labels (Ex: Hernia) when looking at AUPR. This is at the cost of performance on the other labels.\n",
    "\n",
    "* Comparing the baseline models of Xception (model-9) and DenseNet (model-11), Xception out-performs DenseNet both on average and with respects to number of green cells. However, DenseNet is not far behind. It is also important to note that the Xception model has 22.9M parameters whereas the DenseNet169 model has 14.3M parameters.\n",
    "\n",
    "* Based on these results, Xception will be the model used to deploy a prototype deep learning model in the next notebook: scaled-prototype.ipynb (e.g. trained on full set of data instead of subset).\n",
    "\n",
    "The ROC and PR curves for model-9 is shown below."
   ]
  },
  {
   "cell_type": "markdown",
   "metadata": {},
   "source": [
    "![image](./results/roc-model-9.jpg)"
   ]
  },
  {
   "cell_type": "markdown",
   "metadata": {},
   "source": [
    "![image](./results/pr-model-9.jpg)"
   ]
  },
  {
   "cell_type": "markdown",
   "metadata": {},
   "source": []
  }
 ],
 "metadata": {
  "interpreter": {
   "hash": "fa43bd50a20cd5661701f4acb13b172d996ea76a51a0aaa8c34ea9fcb2567a0c"
  },
  "kernelspec": {
   "display_name": "Python 3.10.4 ('tf-gpu')",
   "language": "python",
   "name": "python3"
  },
  "language_info": {
   "codemirror_mode": {
    "name": "ipython",
    "version": 3
   },
   "file_extension": ".py",
   "mimetype": "text/x-python",
   "name": "python",
   "nbconvert_exporter": "python",
   "pygments_lexer": "ipython3",
   "version": "3.9.13"
  },
  "orig_nbformat": 4
 },
 "nbformat": 4,
 "nbformat_minor": 2
}
