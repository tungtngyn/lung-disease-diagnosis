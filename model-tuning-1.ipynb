{
 "cells": [
  {
   "cell_type": "markdown",
   "metadata": {},
   "source": [
    "# Lung Disease Diagnosis - Model Tuning\n",
    "\n",
    "Developer: Tung Nguyen\n",
    "\n",
    "This notebook contains preliminary classification models for the [lung disease diagnosis dataset](https://www.kaggle.com/datasets/nih-chest-xrays/data)."
   ]
  },
  {
   "cell_type": "markdown",
   "metadata": {},
   "source": [
    "## Metric Selection\n",
    "---\n",
    "\n",
    "The perfect classifier will have zero False Negatives (FN) or False Positives (FP). However, in reality, this is extremely hard to achieve. There are always trade-offs. \n",
    "\n",
    "In this case, it is assumed that both False Negatives (FN) and False Positives (FP) have equal weight due to a lack of a use-case for this model. If this were a real deployment, then information about how this model would be used in production could be leveraged to help make modeling and metrics decisions.\n",
    "\n",
    "* For example, one can argue that FN should be more important than FP in this scenario (e.g. Goal: Minimize FNs) because that would exclude a patient from a treatment that they definitely need. They would be sent home thinking they are healthy. \n",
    "\n",
    "* On the other hand, one can argue that FP should be more important than FN because a FP (e.g. Goal: Minimize FPs) because this could potentially cause the patient to purchase and undergo treatment that they did not need. This would waste resources (if the medicine required is rare) as well as cause an undue financial burden on the patient (if the medicine is expensive).\n",
    "\n",
    "Two popular metrics used to evaluate classification models are the Receiver Operating Characteristics (ROC) Curve and the Precision-Recall (PR) Curve.\n",
    "\n",
    "The ROC Curve is a plot of the True Positive Rate vs. False Positive Rate of the model for different classification thresholds. Similarly, the PR Curve is a plot of the Precision vs. Recall of the model for different classification thresholds. The area under these curves provide a convenient summary of the model's performance, and allows us to assess the model without having to make a decision on the classification threshold during the training phase (Area = 1 is a perfect classifier). A classification threshold can be chosen at a later stage of the project and can be selected such that the resulting model meets the business-use case (e.g. For the given target True Positive Rate, can you deal with the associated False Positive Rate?).\n",
    "\n",
    "During the data exploration phase, it was also noted that there is a class imbalance problem present in this dataset. Namely, there are significantly more chest x-ray images with ground truth negative (e.g. no disease present) than there are ground truth positive. This may cause a problem with using the Area Under the ROC Curve (AUROC) as the evaluation metric because calculation of the ROC curve involves True Negatives (e.g. False Positive Rate = FP / (FP + TN)). Since there are large amounts of ground truth negatives in the dataset, AUROC may indicate the model is performing better than it really is. \n",
    "\n",
    "Thus, for this project, the Area under the Precision-Recall curve will be the primary model evaluation metric."
   ]
  },
  {
   "cell_type": "markdown",
   "metadata": {},
   "source": [
    "## Model Architecture\n",
    "---\n",
    "\n"
   ]
  },
  {
   "cell_type": "markdown",
   "metadata": {},
   "source": [
    "The baseline model for this project will be a VGG16 model, pre-trained on ImageNet images, with a  binary cross entropy loss and the first few layers frozen (set to untrainable). \n",
    "\n",
    "Due to time and resource constraints, hyperparameter tuning for this project will be performed on a subset of the dataset.\n",
    "\n",
    "Models 2 - 8 will experiment with different hyperparameters & configurations to see which have the largest impact. The experiments are detailed in the table below & include things such as:\n",
    "\n",
    "* Training from scratch vs. fine-tuning\n",
    "\n",
    "* Data Sampling / Augmentation to combat class imbalance - sample unrepresented classes with transformation (flip, zoom, shifts, etc.)\n",
    "\n",
    "* No blocks frozen vs. blocks frozen\n",
    "\n",
    "* Flattening vs. GlobalAvgPooling\n",
    "\n",
    "* Weighted loss function to combat class imbalance, refer to this [example](https://stackoverflow.com/questions/48485870/multi-label-classification-with-class-weights-in-keras). \n",
    "\n",
    "<br>\n",
    "<br>\n",
    "\n",
    "__MODEL SUMMARY TABLE__\n",
    "|  | 1 - Baseline | 2 | 3 | 4 | 5 | 6 | 7 |\n",
    "| --- | --- | --- | --- | --- | --- | --- | --- |\n",
    "| Loss | BCE | BCE | BCE | BCE | BCE | Weighted BCE | Weighted BCE |\n",
    "| Base Model | VGG16 | VGG16 | VGG16 | VGG16 | VGG16 | VGG16 | VGG16 |\n",
    "| Model Weights | ImageNet | Untrained | ImageNet | ImageNet | ImageNet | ImageNet | ImageNet |\n",
    "| Data Sampling | Random | Random | Stratified Sampling | Random | Random | Random | Random |\n",
    "| Blocks Frozen | 1-3 | None | 1-3 | None | 1-3 | 1-3 | None |\n",
    "| Pooling Operation | Flatten | Flatten | Flatten | Flatten | GlobalAvg2D | Flatten | Flatten |\n",
    "\n",
    "* BCE = Binary Cross Entropy"
   ]
  },
  {
   "cell_type": "markdown",
   "metadata": {},
   "source": [
    "## Data Prep\n",
    "---"
   ]
  },
  {
   "cell_type": "code",
   "execution_count": 1,
   "metadata": {},
   "outputs": [],
   "source": [
    "import pandas as pd\n",
    "import numpy as np\n",
    "import matplotlib.pyplot as plt\n",
    "\n",
    "from sklearn.preprocessing import MultiLabelBinarizer\n",
    "from sklearn.utils.class_weight import compute_class_weight\n",
    "\n",
    "from tensorflow.keras.applications.vgg16 import VGG16, preprocess_input\n",
    "from tensorflow.keras import Sequential\n",
    "from tensorflow.keras.layers import Dense, Flatten, GlobalAveragePooling2D\n",
    "from tensorflow.keras.callbacks import ModelCheckpoint, EarlyStopping, ReduceLROnPlateau\n",
    "from tensorflow.keras.preprocessing.image import ImageDataGenerator\n",
    "from tensorflow.keras.metrics import AUC\n",
    "from tensorflow.keras import backend as K\n",
    "from tensorflow import cast, float32\n",
    "\n",
    "from sklearn.metrics import roc_curve, precision_recall_curve, auc\n",
    "from sklearn.model_selection import train_test_split"
   ]
  },
  {
   "cell_type": "code",
   "execution_count": 2,
   "metadata": {},
   "outputs": [],
   "source": [
    "df = pd.read_csv('../chest-x-ray-data/Data_Entry_2017.csv')\n",
    "df = df.drop(['OriginalImage[Width', 'Height]', 'OriginalImagePixelSpacing[x', 'y]', 'Unnamed: 11'], axis=1, inplace=False)\n",
    "\n",
    "mlb = MultiLabelBinarizer()\n",
    "lbl_bins = mlb.fit_transform(df['Finding Labels'].str.split(\"|\"))\n",
    "df_bin = df.join(pd.DataFrame(lbl_bins, columns=mlb.classes_))\n",
    "\n",
    "with open('../chest-x-ray-data/train_val_list.txt', 'r') as f:\n",
    "    train_list = f.read().split('\\n')\n",
    "\n",
    "with open('../chest-x-ray-data/test_list.txt', 'r') as f:\n",
    "    test_list = f.read().split('\\n')\n",
    "\n",
    "df_train_val = df_bin[df_bin['Image Index'].isin(train_list)]\n",
    "df_test = df_bin[df_bin['Image Index'].isin(test_list)]\n",
    "\n",
    "df_train, df_val = train_test_split(df_train_val, test_size=0.2, random_state=1)"
   ]
  },
  {
   "cell_type": "code",
   "execution_count": 3,
   "metadata": {},
   "outputs": [
    {
     "name": "stdout",
     "output_type": "stream",
     "text": [
      "(86524, 22)\n",
      "(69219, 22)\n",
      "(17305, 22)\n",
      "\n",
      "(25596, 22)\n"
     ]
    }
   ],
   "source": [
    "print(df_train_val.shape)\n",
    "print(df_train.shape)\n",
    "print(df_val.shape)\n",
    "print()\n",
    "print(df_test.shape)"
   ]
  },
  {
   "cell_type": "code",
   "execution_count": 4,
   "metadata": {},
   "outputs": [],
   "source": [
    "def plot_df_freq(df, labels, title=''):\n",
    "    df_pos = df[labels].sum()\n",
    "\n",
    "    ax = df_pos.plot(kind='bar', figsize=(15, 7), rot=20);\n",
    "    ax.set_title(title);\n",
    "    ax.set_xlabel('Labels');\n",
    "    ax.set_ylabel('Frequency');\n",
    "    ax.bar_label(ax.containers[0])\n",
    "    \n",
    "    return df_pos"
   ]
  },
  {
   "cell_type": "markdown",
   "metadata": {},
   "source": [
    "### Data Sampling"
   ]
  },
  {
   "cell_type": "code",
   "execution_count": 5,
   "metadata": {},
   "outputs": [],
   "source": [
    "# Random Sampling\n",
    "sampled_df_train = df_train.sample(20000, random_state=1)\n",
    "\n",
    "sampled_df_val = df_val.sample(2000, random_state=1)"
   ]
  },
  {
   "cell_type": "code",
   "execution_count": 6,
   "metadata": {},
   "outputs": [],
   "source": [
    "# Stratified Sampling for Data Augmentation\n",
    "stratified_sampled_df_train = pd.DataFrame([])\n",
    "\n",
    "n = 1500\n",
    "\n",
    "# Sample each label\n",
    "for lbl in mlb.classes_:\n",
    "    temp = df_train[df_train[lbl] == 1].sample(\n",
    "        n,\n",
    "        replace=True,\n",
    "        random_state=1\n",
    "    )\n",
    "    \n",
    "    stratified_sampled_df_train = pd.concat([stratified_sampled_df_train, temp])"
   ]
  },
  {
   "cell_type": "code",
   "execution_count": 7,
   "metadata": {},
   "outputs": [
    {
     "name": "stderr",
     "output_type": "stream",
     "text": [
      "/var/folders/90/kz_5bmj53wlfsbx400_tzyr80000gn/T/ipykernel_8565/4234301935.py:12: FutureWarning: The frame.append method is deprecated and will be removed from pandas in a future version. Use pandas.concat instead.\n",
      "  oversampled_df_train = oversampled_df_train.append(temp_df, ignore_index=True)\n"
     ]
    },
    {
     "data": {
      "text/plain": [
       "(4189680, 22)"
      ]
     },
     "execution_count": 7,
     "metadata": {},
     "output_type": "execute_result"
    }
   ],
   "source": [
    "# Random Oversampling - Method courtesy of https://medium.com/the-owl/imbalanced-multilabel-image-classification-using-keras-fbd8c60d7a4b\n",
    "oversampled_df_train = sampled_df_train.copy(deep=True)\n",
    "powercount = {}\n",
    "powerlabels = np.unique(oversampled_df_train['Finding Labels'])\n",
    "for p in powerlabels:\n",
    "    powercount[p] = np.count_nonzero(oversampled_df_train['Finding Labels']==p)\n",
    "\n",
    "maxcount = np.max(list(powercount.values()))\n",
    "for p in powerlabels:\n",
    "    gapnum = maxcount - powercount[p]\n",
    "    temp_df = sampled_df_train.iloc[np.random.choice(np.where(sampled_df_train['Finding Labels']==p)[0],size=gapnum)]\n",
    "    oversampled_df_train = oversampled_df_train.append(temp_df, ignore_index=True)\n",
    "\n",
    "oversampled_df_train.shape"
   ]
  },
  {
   "cell_type": "markdown",
   "metadata": {},
   "source": [
    "__Observations__\n",
    "\n",
    "* Due to the amount of unique combinations of labels, random oversampling is not a feasible approach for this dataset."
   ]
  },
  {
   "cell_type": "code",
   "execution_count": 7,
   "metadata": {},
   "outputs": [
    {
     "data": {
      "image/png": "[encoded data removed]",
      "text/plain": [
       "<Figure size 1080x504 with 1 Axes>"
      ]
     },
     "metadata": {
      "needs_background": "light"
     },
     "output_type": "display_data"
    }
   ],
   "source": [
    "plot_df_freq(sampled_df_train, mlb.classes_, title='Label Frequency in Randomly Sampled Training Data');"
   ]
  },
  {
   "cell_type": "code",
   "execution_count": 8,
   "metadata": {},
   "outputs": [
    {
     "data": {
      "image/png": "[encoded data removed]",
      "text/plain": [
       "<Figure size 1080x504 with 1 Axes>"
      ]
     },
     "metadata": {
      "needs_background": "light"
     },
     "output_type": "display_data"
    }
   ],
   "source": [
    "plot_df_freq(stratified_sampled_df_train, mlb.classes_, title='Label Frequency in Stratified Sampled Training Data');"
   ]
  },
  {
   "cell_type": "code",
   "execution_count": 10,
   "metadata": {},
   "outputs": [
    {
     "data": {
      "image/png": "[encoded data removed]",
      "text/plain": [
       "<Figure size 1080x504 with 1 Axes>"
      ]
     },
     "metadata": {
      "needs_background": "light"
     },
     "output_type": "display_data"
    }
   ],
   "source": [
    "plot_df_freq(oversampled_df_train, mlb.classes_, title='Label Frequency in Random Oversampled Training Data');"
   ]
  },
  {
   "cell_type": "markdown",
   "metadata": {},
   "source": [
    "### Weighted Loss"
   ]
  },
  {
   "cell_type": "code",
   "execution_count": 9,
   "metadata": {},
   "outputs": [],
   "source": [
    "labels = [lbl for lbl in mlb.classes_ if lbl != 'No Finding']"
   ]
  },
  {
   "cell_type": "code",
   "execution_count": 10,
   "metadata": {},
   "outputs": [],
   "source": [
    "weights = []\n",
    "for i, lbl in enumerate(labels):\n",
    "    weights.append(dict(enumerate(compute_class_weight(class_weight='balanced', classes=[0., 1.], y=sampled_df_train[lbl]))))\n",
    "    \n",
    "# Class Weights\n",
    "pos = np.array([])\n",
    "neg = np.array([])\n",
    "for d in weights:\n",
    "    pos = np.append(pos, d[1])\n",
    "    neg = np.append(neg, d[0])"
   ]
  },
  {
   "cell_type": "code",
   "execution_count": 11,
   "metadata": {},
   "outputs": [],
   "source": [
    "def get_weighted_loss(pos, neg, eps=1e-7):\n",
    "    def weighted_loss(y_true, y_pred):\n",
    "\n",
    "        # Cast y_true as float for calculations\n",
    "        y_true = cast(y_true, float32)\n",
    "\n",
    "        # Initialize loss\n",
    "        loss = 0.0\n",
    "\n",
    "        # Calculate weighted binary cross entropy loss\n",
    "        for i in range(len(pos)):\n",
    "            loss += -1 * K.mean(pos[i] * y_true[:, i] * K.log(y_pred[:, i] + eps))\n",
    "            loss += -1 * K.mean(neg[i] * (1 - y_true[:, i]) * K.log(1 - y_pred[:, i] + eps))\n",
    "\n",
    "        return loss\n",
    "    return weighted_loss"
   ]
  },
  {
   "cell_type": "markdown",
   "metadata": {},
   "source": [
    "### Helper Functions"
   ]
  },
  {
   "cell_type": "code",
   "execution_count": 12,
   "metadata": {},
   "outputs": [],
   "source": [
    "def plot_losses(model_history, figsize=(15, 10)):\n",
    "    fig, ax = plt.subplots(1, 1, figsize=figsize)\n",
    "    ax.plot(model_history.history['val_loss'], 'r-o')\n",
    "    ax.plot(model_history.history['loss'], 'b-o')\n",
    "    ax.set_title('Training vs. Validation Loss')\n",
    "    ax.legend(['Validation Loss', 'Training Loss'])\n",
    "    ax.set_xlabel('Epoch')\n",
    "    ax.set_ylabel('Loss')"
   ]
  },
  {
   "cell_type": "code",
   "execution_count": 13,
   "metadata": {},
   "outputs": [],
   "source": [
    "def datagen_from_df(df, x_col, y_cols, data_dir, preproc_func=None, target_size=(256, 256), shuffle=False, batch_size=64, color_mode='rgb', random_state=1):\n",
    "\n",
    "    datagen = ImageDataGenerator(\n",
    "        preprocessing_function=preproc_func,\n",
    "        horizontal_flip=True,\n",
    "        vertical_flip=False,\n",
    "        height_shift_range=0.05,\n",
    "        width_shift_range=0.1,\n",
    "        rotation_range=5,\n",
    "        shear_range=0.1,\n",
    "        fill_mode='reflect',\n",
    "        zoom_range=0.15,\n",
    "    )\n",
    "\n",
    "    img_generator = datagen.flow_from_dataframe(\n",
    "        df,\n",
    "        data_dir,\n",
    "        shuffle=shuffle,\n",
    "        batch_size=batch_size,\n",
    "        class_mode='raw',\n",
    "        color_mode=color_mode,\n",
    "        target_size=target_size,\n",
    "        x_col=x_col,\n",
    "        y_col=y_cols,\n",
    "        seed=random_state\n",
    "    )\n",
    "\n",
    "    return img_generator"
   ]
  },
  {
   "cell_type": "code",
   "execution_count": 14,
   "metadata": {},
   "outputs": [
    {
     "name": "stdout",
     "output_type": "stream",
     "text": [
      "Metal device set to: Apple M1 Max\n",
      "\n",
      "systemMemory: 32.00 GB\n",
      "maxCacheSize: 10.67 GB\n",
      "\n"
     ]
    },
    {
     "name": "stderr",
     "output_type": "stream",
     "text": [
      "2022-06-03 21:33:01.419995: I tensorflow/core/common_runtime/pluggable_device/pluggable_device_factory.cc:305] Could not identify NUMA node of platform GPU ID 0, defaulting to 0. Your kernel may not have been built with NUMA support.\n",
      "2022-06-03 21:33:01.420346: I tensorflow/core/common_runtime/pluggable_device/pluggable_device_factory.cc:271] Created TensorFlow device (/job:localhost/replica:0/task:0/device:GPU:0 with 0 MB memory) -> physical PluggableDevice (device: 0, name: METAL, pci bus id: <undefined>)\n"
     ]
    }
   ],
   "source": [
    "# Base Models\n",
    "base_model = VGG16(\n",
    "    include_top=False,\n",
    "    weights=\"imagenet\",\n",
    "    input_shape=(256, 256, 3)\n",
    ")\n",
    "\n",
    "untrained_base_model = VGG16(\n",
    "    include_top=False,\n",
    "    weights=None,\n",
    "    input_shape=(256, 256, 3)\n",
    ")\n",
    "\n",
    "# Callbacks\n",
    "early = EarlyStopping(\n",
    "    monitor=\"val_loss\",\n",
    "    mode=\"min\", \n",
    "    patience=8\n",
    ")\n",
    "\n",
    "reduce_lr = ReduceLROnPlateau(\n",
    "    monitor='val_loss', \n",
    "    factor=0.2,\n",
    "    patience=4, \n",
    "    min_lr=0.0000001\n",
    ")\n",
    "\n",
    "chkpt = {}    \n",
    "base_path = './models/'\n",
    "\n",
    "for i in np.arange(1, 9):\n",
    "\n",
    "    chkpt[i] = ModelCheckpoint(\n",
    "        base_path + 'model-' + str(i) + '.h5', \n",
    "        monitor='val_loss',\n",
    "        verbose=1, \n",
    "        save_best_only=True, \n",
    "        mode='min', \n",
    "    )"
   ]
  },
  {
   "cell_type": "markdown",
   "metadata": {},
   "source": [
    "## Models\n",
    "---"
   ]
  },
  {
   "cell_type": "markdown",
   "metadata": {},
   "source": [
    "### DataGenerators"
   ]
  },
  {
   "cell_type": "code",
   "execution_count": 15,
   "metadata": {},
   "outputs": [],
   "source": [
    "data_dir = '../chest-x-ray-data/imgs/'"
   ]
  },
  {
   "cell_type": "code",
   "execution_count": 16,
   "metadata": {},
   "outputs": [
    {
     "name": "stdout",
     "output_type": "stream",
     "text": [
      "Found 20000 validated image filenames.\n",
      "Found 2000 validated image filenames.\n",
      "Found 20000 validated image filenames.\n",
      "Found 2000 validated image filenames.\n",
      "Found 20000 validated image filenames.\n",
      "Found 2000 validated image filenames.\n",
      "Found 20000 validated image filenames.\n",
      "Found 2000 validated image filenames.\n",
      "Found 20000 validated image filenames.\n",
      "Found 2000 validated image filenames.\n",
      "Found 20000 validated image filenames.\n",
      "Found 2000 validated image filenames.\n",
      "Found 20000 validated image filenames.\n",
      "Found 2000 validated image filenames.\n",
      "Found 22500 validated image filenames.\n"
     ]
    }
   ],
   "source": [
    "train_gen = {}\n",
    "val_gen = {}\n",
    "for i in np.arange(1, 8):\n",
    "    train_gen[i] = datagen_from_df(\n",
    "        sampled_df_train, \n",
    "        x_col = 'Image Index', \n",
    "        y_cols = labels, \n",
    "        data_dir = data_dir, \n",
    "        preproc_func = preprocess_input, \n",
    "        target_size = (256, 256), \n",
    "        shuffle=True,\n",
    "        batch_size = 64, \n",
    "        color_mode = 'rgb', \n",
    "        random_state = 1\n",
    "        )\n",
    "\n",
    "    val_gen[i] = datagen_from_df(\n",
    "        sampled_df_val, \n",
    "        x_col = 'Image Index', \n",
    "        y_cols = labels, \n",
    "        data_dir = data_dir, \n",
    "        preproc_func = preprocess_input, \n",
    "        target_size = (256, 256), \n",
    "        shuffle=False,\n",
    "        batch_size = 64, \n",
    "        color_mode = 'rgb', \n",
    "        random_state = 1\n",
    "        )\n",
    "\n",
    "# Model 3 is the only one which uses stratified sampling df - overwrite\n",
    "train_gen[3] = datagen_from_df(\n",
    "    stratified_sampled_df_train, \n",
    "    x_col = 'Image Index', \n",
    "    y_cols = labels, \n",
    "    data_dir = data_dir, \n",
    "    preproc_func = preprocess_input, \n",
    "    target_size = (256, 256), \n",
    "    shuffle=True, \n",
    "    batch_size = 64, \n",
    "    color_mode = 'rgb', \n",
    "    random_state = 1\n",
    "    )"
   ]
  },
  {
   "cell_type": "code",
   "execution_count": 21,
   "metadata": {},
   "outputs": [],
   "source": [
    "history = {}"
   ]
  },
  {
   "cell_type": "markdown",
   "metadata": {},
   "source": [
    "### Model 1 - Baseline"
   ]
  },
  {
   "cell_type": "code",
   "execution_count": 22,
   "metadata": {},
   "outputs": [
    {
     "name": "stdout",
     "output_type": "stream",
     "text": [
      "Model: \"sequential_1\"\n",
      "_________________________________________________________________\n",
      " Layer (type)                Output Shape              Param #   \n",
      "=================================================================\n",
      " block1_conv1 (Conv2D)       (None, 256, 256, 64)      1792      \n",
      "                                                                 \n",
      " block1_conv2 (Conv2D)       (None, 256, 256, 64)      36928     \n",
      "                                                                 \n",
      " block1_pool (MaxPooling2D)  (None, 128, 128, 64)      0         \n",
      "                                                                 \n",
      " block2_conv1 (Conv2D)       (None, 128, 128, 128)     73856     \n",
      "                                                                 \n",
      " block2_conv2 (Conv2D)       (None, 128, 128, 128)     147584    \n",
      "                                                                 \n",
      " block2_pool (MaxPooling2D)  (None, 64, 64, 128)       0         \n",
      "                                                                 \n",
      " block3_conv1 (Conv2D)       (None, 64, 64, 256)       295168    \n",
      "                                                                 \n",
      " block3_conv2 (Conv2D)       (None, 64, 64, 256)       590080    \n",
      "                                                                 \n",
      " block3_conv3 (Conv2D)       (None, 64, 64, 256)       590080    \n",
      "                                                                 \n",
      " block3_pool (MaxPooling2D)  (None, 32, 32, 256)       0         \n",
      "                                                                 \n",
      " block4_conv1 (Conv2D)       (None, 32, 32, 512)       1180160   \n",
      "                                                                 \n",
      " block4_conv2 (Conv2D)       (None, 32, 32, 512)       2359808   \n",
      "                                                                 \n",
      " block4_conv3 (Conv2D)       (None, 32, 32, 512)       2359808   \n",
      "                                                                 \n",
      " block4_pool (MaxPooling2D)  (None, 16, 16, 512)       0         \n",
      "                                                                 \n",
      " block5_conv1 (Conv2D)       (None, 16, 16, 512)       2359808   \n",
      "                                                                 \n",
      " block5_conv2 (Conv2D)       (None, 16, 16, 512)       2359808   \n",
      "                                                                 \n",
      " block5_conv3 (Conv2D)       (None, 16, 16, 512)       2359808   \n",
      "                                                                 \n",
      " block5_pool (MaxPooling2D)  (None, 8, 8, 512)         0         \n",
      "                                                                 \n",
      " flatten_1 (Flatten)         (None, 32768)             0         \n",
      "                                                                 \n",
      " dense_1 (Dense)             (None, 14)                458766    \n",
      "                                                                 \n",
      "=================================================================\n",
      "Total params: 15,173,454\n",
      "Trainable params: 13,437,966\n",
      "Non-trainable params: 1,735,488\n",
      "_________________________________________________________________\n"
     ]
    }
   ],
   "source": [
    "model = Sequential()\n",
    "\n",
    "for layer in base_model.layers:\n",
    "    model.add(layer)\n",
    "    \n",
    "for layer in model.layers:\n",
    "    if any(x in layer.name for x in ['block1', 'block2', 'block3']):\n",
    "        layer.trainable = False\n",
    "    \n",
    "model.add(Flatten())\n",
    "model.add(Dense(len(labels), activation='sigmoid'))\n",
    "\n",
    "model.summary()"
   ]
  },
  {
   "cell_type": "code",
   "execution_count": 23,
   "metadata": {},
   "outputs": [],
   "source": [
    "model.compile(\n",
    "    optimizer='adam',\n",
    "    loss='binary_crossentropy',\n",
    "    metrics = [\n",
    "        AUC(curve='PR', multi_label=True, num_labels=len(labels)), \n",
    "        AUC(curve='ROC', multi_label=True, num_labels=len(labels))\n",
    "        ]\n",
    ")"
   ]
  },
  {
   "cell_type": "code",
   "execution_count": 24,
   "metadata": {},
   "outputs": [
    {
     "name": "stdout",
     "output_type": "stream",
     "text": [
      "Epoch 1/40\n"
     ]
    },
    {
     "name": "stderr",
     "output_type": "stream",
     "text": [
      "2022-06-03 21:42:47.287901: I tensorflow/core/grappler/optimizers/custom_graph_optimizer_registry.cc:113] Plugin optimizer for device_type GPU is enabled.\n"
     ]
    },
    {
     "name": "stdout",
     "output_type": "stream",
     "text": [
      "313/313 [==============================] - ETA: 0s - loss: 0.1726 - auc_2: 0.0532 - auc_3: 0.5465"
     ]
    },
    {
     "name": "stderr",
     "output_type": "stream",
     "text": [
      "2022-06-03 21:48:09.291249: I tensorflow/core/grappler/optimizers/custom_graph_optimizer_registry.cc:113] Plugin optimizer for device_type GPU is enabled.\n"
     ]
    },
    {
     "name": "stdout",
     "output_type": "stream",
     "text": [
      "\n",
      "Epoch 1: val_loss improved from 0.16242 to 0.16011, saving model to ./models/model-1.h5\n",
      "313/313 [==============================] - 355s 1s/step - loss: 0.1726 - auc_2: 0.0532 - auc_3: 0.5465 - val_loss: 0.1601 - val_auc_2: 0.0614 - val_auc_3: 0.5985 - lr: 0.0010\n",
      "Epoch 2/40\n",
      "313/313 [==============================] - ETA: 0s - loss: 0.1625 - auc_2: 0.0654 - auc_3: 0.5965\n",
      "Epoch 2: val_loss improved from 0.16011 to 0.15697, saving model to ./models/model-1.h5\n",
      "313/313 [==============================] - 356s 1s/step - loss: 0.1625 - auc_2: 0.0654 - auc_3: 0.5965 - val_loss: 0.1570 - val_auc_2: 0.0730 - val_auc_3: 0.6152 - lr: 0.0010\n",
      "Epoch 3/40\n",
      "313/313 [==============================] - ETA: 0s - loss: 0.1587 - auc_2: 0.0738 - auc_3: 0.6284\n",
      "Epoch 3: val_loss improved from 0.15697 to 0.15370, saving model to ./models/model-1.h5\n",
      "313/313 [==============================] - 443s 1s/step - loss: 0.1587 - auc_2: 0.0738 - auc_3: 0.6284 - val_loss: 0.1537 - val_auc_2: 0.0836 - val_auc_3: 0.6511 - lr: 0.0010\n",
      "Epoch 4/40\n",
      "313/313 [==============================] - ETA: 0s - loss: 0.1560 - auc_2: 0.0809 - auc_3: 0.6464\n",
      "Epoch 4: val_loss improved from 0.15370 to 0.15356, saving model to ./models/model-1.h5\n",
      "313/313 [==============================] - 357s 1s/step - loss: 0.1560 - auc_2: 0.0809 - auc_3: 0.6464 - val_loss: 0.1536 - val_auc_2: 0.0859 - val_auc_3: 0.6559 - lr: 0.0010\n",
      "Epoch 5/40\n",
      "313/313 [==============================] - ETA: 0s - loss: 0.1573 - auc_2: 0.0780 - auc_3: 0.6379\n",
      "Epoch 5: val_loss improved from 0.15356 to 0.15314, saving model to ./models/model-1.h5\n",
      "313/313 [==============================] - 496s 2s/step - loss: 0.1573 - auc_2: 0.0780 - auc_3: 0.6379 - val_loss: 0.1531 - val_auc_2: 0.0895 - val_auc_3: 0.6548 - lr: 0.0010\n",
      "Epoch 6/40\n",
      "313/313 [==============================] - ETA: 0s - loss: 0.1542 - auc_2: 0.0841 - auc_3: 0.6579\n",
      "Epoch 6: val_loss did not improve from 0.15314\n",
      "313/313 [==============================] - 1551s 5s/step - loss: 0.1542 - auc_2: 0.0841 - auc_3: 0.6579 - val_loss: 0.1540 - val_auc_2: 0.0880 - val_auc_3: 0.6675 - lr: 0.0010\n",
      "Epoch 7/40\n",
      "313/313 [==============================] - ETA: 0s - loss: 0.1540 - auc_2: 0.0857 - auc_3: 0.6681\n",
      "Epoch 7: val_loss improved from 0.15314 to 0.15106, saving model to ./models/model-1.h5\n",
      "313/313 [==============================] - 1236s 4s/step - loss: 0.1540 - auc_2: 0.0857 - auc_3: 0.6681 - val_loss: 0.1511 - val_auc_2: 0.0949 - val_auc_3: 0.6636 - lr: 0.0010\n",
      "Epoch 8/40\n",
      "313/313 [==============================] - ETA: 0s - loss: 0.1539 - auc_2: 0.0856 - auc_3: 0.6662\n",
      "Epoch 8: val_loss did not improve from 0.15106\n",
      "313/313 [==============================] - 346s 1s/step - loss: 0.1539 - auc_2: 0.0856 - auc_3: 0.6662 - val_loss: 0.1512 - val_auc_2: 0.0973 - val_auc_3: 0.6697 - lr: 0.0010\n",
      "Epoch 9/40\n",
      "313/313 [==============================] - ETA: 0s - loss: 0.1538 - auc_2: 0.0873 - auc_3: 0.6714\n",
      "Epoch 9: val_loss did not improve from 0.15106\n",
      "313/313 [==============================] - 342s 1s/step - loss: 0.1538 - auc_2: 0.0873 - auc_3: 0.6714 - val_loss: 0.1535 - val_auc_2: 0.0943 - val_auc_3: 0.6611 - lr: 0.0010\n",
      "Epoch 10/40\n",
      "313/313 [==============================] - ETA: 0s - loss: 0.1536 - auc_2: 0.0877 - auc_3: 0.6738\n",
      "Epoch 10: val_loss did not improve from 0.15106\n",
      "313/313 [==============================] - 341s 1s/step - loss: 0.1536 - auc_2: 0.0877 - auc_3: 0.6738 - val_loss: 0.1534 - val_auc_2: 0.0972 - val_auc_3: 0.6784 - lr: 0.0010\n",
      "Epoch 11/40\n",
      "313/313 [==============================] - ETA: 0s - loss: 0.1527 - auc_2: 0.0909 - auc_3: 0.6789\n",
      "Epoch 11: val_loss improved from 0.15106 to 0.15091, saving model to ./models/model-1.h5\n",
      "313/313 [==============================] - 342s 1s/step - loss: 0.1527 - auc_2: 0.0909 - auc_3: 0.6789 - val_loss: 0.1509 - val_auc_2: 0.0970 - val_auc_3: 0.6662 - lr: 0.0010\n",
      "Epoch 12/40\n",
      "313/313 [==============================] - ETA: 0s - loss: 0.1526 - auc_2: 0.0921 - auc_3: 0.6803\n",
      "Epoch 12: val_loss improved from 0.15091 to 0.15080, saving model to ./models/model-1.h5\n",
      "313/313 [==============================] - 342s 1s/step - loss: 0.1526 - auc_2: 0.0921 - auc_3: 0.6803 - val_loss: 0.1508 - val_auc_2: 0.0941 - val_auc_3: 0.6788 - lr: 0.0010\n",
      "Epoch 13/40\n",
      "313/313 [==============================] - ETA: 0s - loss: 0.1527 - auc_2: 0.0920 - auc_3: 0.6812\n",
      "Epoch 13: val_loss improved from 0.15080 to 0.14944, saving model to ./models/model-1.h5\n",
      "313/313 [==============================] - 342s 1s/step - loss: 0.1527 - auc_2: 0.0920 - auc_3: 0.6812 - val_loss: 0.1494 - val_auc_2: 0.1000 - val_auc_3: 0.6870 - lr: 0.0010\n",
      "Epoch 14/40\n",
      "313/313 [==============================] - ETA: 0s - loss: 0.1523 - auc_2: 0.0941 - auc_3: 0.6800\n",
      "Epoch 14: val_loss did not improve from 0.14944\n",
      "313/313 [==============================] - 342s 1s/step - loss: 0.1523 - auc_2: 0.0941 - auc_3: 0.6800 - val_loss: 0.1553 - val_auc_2: 0.0970 - val_auc_3: 0.6761 - lr: 0.0010\n",
      "Epoch 15/40\n",
      "313/313 [==============================] - ETA: 0s - loss: 0.1524 - auc_2: 0.0927 - auc_3: 0.6810\n",
      "Epoch 15: val_loss did not improve from 0.14944\n",
      "313/313 [==============================] - 342s 1s/step - loss: 0.1524 - auc_2: 0.0927 - auc_3: 0.6810 - val_loss: 0.1539 - val_auc_2: 0.0933 - val_auc_3: 0.6636 - lr: 0.0010\n",
      "Epoch 16/40\n",
      "313/313 [==============================] - ETA: 0s - loss: 0.1525 - auc_2: 0.0927 - auc_3: 0.6833\n",
      "Epoch 16: val_loss did not improve from 0.14944\n",
      "313/313 [==============================] - 342s 1s/step - loss: 0.1525 - auc_2: 0.0927 - auc_3: 0.6833 - val_loss: 0.1502 - val_auc_2: 0.1039 - val_auc_3: 0.6787 - lr: 0.0010\n",
      "Epoch 17/40\n",
      "313/313 [==============================] - ETA: 0s - loss: 0.1550 - auc_2: 0.0889 - auc_3: 0.6667\n",
      "Epoch 17: val_loss did not improve from 0.14944\n",
      "313/313 [==============================] - 342s 1s/step - loss: 0.1550 - auc_2: 0.0889 - auc_3: 0.6667 - val_loss: 0.1574 - val_auc_2: 0.0804 - val_auc_3: 0.6454 - lr: 0.0010\n",
      "Epoch 18/40\n",
      "313/313 [==============================] - ETA: 0s - loss: 0.1536 - auc_2: 0.0882 - auc_3: 0.6661\n",
      "Epoch 18: val_loss did not improve from 0.14944\n",
      "313/313 [==============================] - 341s 1s/step - loss: 0.1536 - auc_2: 0.0882 - auc_3: 0.6661 - val_loss: 0.1507 - val_auc_2: 0.0910 - val_auc_3: 0.6647 - lr: 2.0000e-04\n",
      "Epoch 19/40\n",
      "313/313 [==============================] - ETA: 0s - loss: 0.1517 - auc_2: 0.0937 - auc_3: 0.6801\n",
      "Epoch 19: val_loss did not improve from 0.14944\n",
      "313/313 [==============================] - 342s 1s/step - loss: 0.1517 - auc_2: 0.0937 - auc_3: 0.6801 - val_loss: 0.1501 - val_auc_2: 0.0949 - val_auc_3: 0.6809 - lr: 2.0000e-04\n",
      "Epoch 20/40\n",
      "313/313 [==============================] - ETA: 0s - loss: 0.1512 - auc_2: 0.0950 - auc_3: 0.6907\n",
      "Epoch 20: val_loss did not improve from 0.14944\n",
      "313/313 [==============================] - 341s 1s/step - loss: 0.1512 - auc_2: 0.0950 - auc_3: 0.6907 - val_loss: 0.1494 - val_auc_2: 0.1017 - val_auc_3: 0.6938 - lr: 2.0000e-04\n",
      "Epoch 21/40\n",
      "313/313 [==============================] - ETA: 0s - loss: 0.1505 - auc_2: 0.0985 - auc_3: 0.6916\n",
      "Epoch 21: val_loss did not improve from 0.14944\n",
      "313/313 [==============================] - 341s 1s/step - loss: 0.1505 - auc_2: 0.0985 - auc_3: 0.6916 - val_loss: 0.1497 - val_auc_2: 0.0991 - val_auc_3: 0.6829 - lr: 2.0000e-04\n"
     ]
    }
   ],
   "source": [
    "m = 1\n",
    "\n",
    "history[m] = model.fit(\n",
    "    train_gen[m], \n",
    "    validation_data=val_gen[m],\n",
    "    epochs = 40,\n",
    "    callbacks = [chkpt[m], early, reduce_lr]\n",
    ")"
   ]
  },
  {
   "cell_type": "code",
   "execution_count": 25,
   "metadata": {},
   "outputs": [
    {
     "data": {
      "image/png": "[encoded data removed]",
      "text/plain": [
       "<Figure size 1080x720 with 1 Axes>"
      ]
     },
     "metadata": {
      "needs_background": "light"
     },
     "output_type": "display_data"
    }
   ],
   "source": [
    "plot_losses(history[1])"
   ]
  },
  {
   "cell_type": "markdown",
   "metadata": {},
   "source": [
    "### Model 2"
   ]
  },
  {
   "cell_type": "code",
   "execution_count": 26,
   "metadata": {},
   "outputs": [
    {
     "name": "stdout",
     "output_type": "stream",
     "text": [
      "Model: \"sequential_2\"\n",
      "_________________________________________________________________\n",
      " Layer (type)                Output Shape              Param #   \n",
      "=================================================================\n",
      " block1_conv1 (Conv2D)       (None, 256, 256, 64)      1792      \n",
      "                                                                 \n",
      " block1_conv2 (Conv2D)       (None, 256, 256, 64)      36928     \n",
      "                                                                 \n",
      " block1_pool (MaxPooling2D)  (None, 128, 128, 64)      0         \n",
      "                                                                 \n",
      " block2_conv1 (Conv2D)       (None, 128, 128, 128)     73856     \n",
      "                                                                 \n",
      " block2_conv2 (Conv2D)       (None, 128, 128, 128)     147584    \n",
      "                                                                 \n",
      " block2_pool (MaxPooling2D)  (None, 64, 64, 128)       0         \n",
      "                                                                 \n",
      " block3_conv1 (Conv2D)       (None, 64, 64, 256)       295168    \n",
      "                                                                 \n",
      " block3_conv2 (Conv2D)       (None, 64, 64, 256)       590080    \n",
      "                                                                 \n",
      " block3_conv3 (Conv2D)       (None, 64, 64, 256)       590080    \n",
      "                                                                 \n",
      " block3_pool (MaxPooling2D)  (None, 32, 32, 256)       0         \n",
      "                                                                 \n",
      " block4_conv1 (Conv2D)       (None, 32, 32, 512)       1180160   \n",
      "                                                                 \n",
      " block4_conv2 (Conv2D)       (None, 32, 32, 512)       2359808   \n",
      "                                                                 \n",
      " block4_conv3 (Conv2D)       (None, 32, 32, 512)       2359808   \n",
      "                                                                 \n",
      " block4_pool (MaxPooling2D)  (None, 16, 16, 512)       0         \n",
      "                                                                 \n",
      " block5_conv1 (Conv2D)       (None, 16, 16, 512)       2359808   \n",
      "                                                                 \n",
      " block5_conv2 (Conv2D)       (None, 16, 16, 512)       2359808   \n",
      "                                                                 \n",
      " block5_conv3 (Conv2D)       (None, 16, 16, 512)       2359808   \n",
      "                                                                 \n",
      " block5_pool (MaxPooling2D)  (None, 8, 8, 512)         0         \n",
      "                                                                 \n",
      " flatten_2 (Flatten)         (None, 32768)             0         \n",
      "                                                                 \n",
      " dense_2 (Dense)             (None, 14)                458766    \n",
      "                                                                 \n",
      "=================================================================\n",
      "Total params: 15,173,454\n",
      "Trainable params: 15,173,454\n",
      "Non-trainable params: 0\n",
      "_________________________________________________________________\n"
     ]
    }
   ],
   "source": [
    "model = Sequential()\n",
    "\n",
    "for layer in untrained_base_model.layers:\n",
    "    model.add(layer)\n",
    "    \n",
    "for layer in model.layers:\n",
    "    layer.trainable = True\n",
    "    \n",
    "model.add(Flatten())\n",
    "model.add(Dense(len(labels), activation='sigmoid'))\n",
    "    \n",
    "model.summary()"
   ]
  },
  {
   "cell_type": "code",
   "execution_count": 27,
   "metadata": {},
   "outputs": [],
   "source": [
    "model.compile(\n",
    "    optimizer='adam',\n",
    "    loss='binary_crossentropy',\n",
    "    metrics = [\n",
    "        AUC(curve='PR', multi_label=True, num_labels=len(labels)), \n",
    "        AUC(curve='ROC', multi_label=True, num_labels=len(labels))\n",
    "        ]\n",
    ")"
   ]
  },
  {
   "cell_type": "code",
   "execution_count": 28,
   "metadata": {},
   "outputs": [
    {
     "name": "stdout",
     "output_type": "stream",
     "text": [
      "Epoch 1/40\n"
     ]
    },
    {
     "name": "stderr",
     "output_type": "stream",
     "text": [
      "2022-06-04 00:23:03.025917: I tensorflow/core/grappler/optimizers/custom_graph_optimizer_registry.cc:113] Plugin optimizer for device_type GPU is enabled.\n"
     ]
    },
    {
     "name": "stdout",
     "output_type": "stream",
     "text": [
      "313/313 [==============================] - ETA: 0s - loss: 0.2521 - auc_4: 0.0465 - auc_5: 0.5086"
     ]
    },
    {
     "name": "stderr",
     "output_type": "stream",
     "text": [
      "2022-06-04 00:30:43.175643: I tensorflow/core/grappler/optimizers/custom_graph_optimizer_registry.cc:113] Plugin optimizer for device_type GPU is enabled.\n"
     ]
    },
    {
     "name": "stdout",
     "output_type": "stream",
     "text": [
      "\n",
      "Epoch 1: val_loss improved from inf to 0.16201, saving model to ./models/model-2.h5\n",
      "313/313 [==============================] - 492s 2s/step - loss: 0.2521 - auc_4: 0.0465 - auc_5: 0.5086 - val_loss: 0.1620 - val_auc_4: 0.0545 - val_auc_5: 0.5421 - lr: 0.0010\n",
      "Epoch 2/40\n",
      "313/313 [==============================] - ETA: 0s - loss: 0.1634 - auc_4: 0.0555 - auc_5: 0.5468\n",
      "Epoch 2: val_loss improved from 0.16201 to 0.15994, saving model to ./models/model-2.h5\n",
      "313/313 [==============================] - 487s 2s/step - loss: 0.1634 - auc_4: 0.0555 - auc_5: 0.5468 - val_loss: 0.1599 - val_auc_4: 0.0617 - val_auc_5: 0.5787 - lr: 0.0010\n",
      "Epoch 3/40\n",
      "313/313 [==============================] - ETA: 0s - loss: 0.1612 - auc_4: 0.0637 - auc_5: 0.5792\n",
      "Epoch 3: val_loss improved from 0.15994 to 0.15814, saving model to ./models/model-2.h5\n",
      "313/313 [==============================] - 487s 2s/step - loss: 0.1612 - auc_4: 0.0637 - auc_5: 0.5792 - val_loss: 0.1581 - val_auc_4: 0.0657 - val_auc_5: 0.5865 - lr: 0.0010\n",
      "Epoch 4/40\n",
      "313/313 [==============================] - ETA: 0s - loss: 0.1597 - auc_4: 0.0675 - auc_5: 0.5974\n",
      "Epoch 4: val_loss improved from 0.15814 to 0.15779, saving model to ./models/model-2.h5\n",
      "313/313 [==============================] - 487s 2s/step - loss: 0.1597 - auc_4: 0.0675 - auc_5: 0.5974 - val_loss: 0.1578 - val_auc_4: 0.0687 - val_auc_5: 0.6028 - lr: 0.0010\n",
      "Epoch 5/40\n",
      "313/313 [==============================] - ETA: 0s - loss: 0.1593 - auc_4: 0.0696 - auc_5: 0.5954\n",
      "Epoch 5: val_loss improved from 0.15779 to 0.15752, saving model to ./models/model-2.h5\n",
      "313/313 [==============================] - 487s 2s/step - loss: 0.1593 - auc_4: 0.0696 - auc_5: 0.5954 - val_loss: 0.1575 - val_auc_4: 0.0706 - val_auc_5: 0.6175 - lr: 0.0010\n",
      "Epoch 6/40\n",
      "313/313 [==============================] - ETA: 0s - loss: 0.1587 - auc_4: 0.0721 - auc_5: 0.6108\n",
      "Epoch 6: val_loss improved from 0.15752 to 0.15582, saving model to ./models/model-2.h5\n",
      "313/313 [==============================] - 487s 2s/step - loss: 0.1587 - auc_4: 0.0721 - auc_5: 0.6108 - val_loss: 0.1558 - val_auc_4: 0.0780 - val_auc_5: 0.6191 - lr: 0.0010\n",
      "Epoch 7/40\n",
      "313/313 [==============================] - ETA: 0s - loss: 0.1584 - auc_4: 0.0719 - auc_5: 0.6124\n",
      "Epoch 7: val_loss did not improve from 0.15582\n",
      "313/313 [==============================] - 487s 2s/step - loss: 0.1584 - auc_4: 0.0719 - auc_5: 0.6124 - val_loss: 0.1578 - val_auc_4: 0.0709 - val_auc_5: 0.6110 - lr: 0.0010\n",
      "Epoch 8/40\n",
      "313/313 [==============================] - ETA: 0s - loss: 0.1578 - auc_4: 0.0742 - auc_5: 0.6176\n",
      "Epoch 8: val_loss did not improve from 0.15582\n",
      "313/313 [==============================] - 487s 2s/step - loss: 0.1578 - auc_4: 0.0742 - auc_5: 0.6176 - val_loss: 0.1565 - val_auc_4: 0.0748 - val_auc_5: 0.6183 - lr: 0.0010\n",
      "Epoch 9/40\n",
      "313/313 [==============================] - ETA: 0s - loss: 0.1573 - auc_4: 0.0764 - auc_5: 0.6227\n",
      "Epoch 9: val_loss improved from 0.15582 to 0.15511, saving model to ./models/model-2.h5\n",
      "313/313 [==============================] - 487s 2s/step - loss: 0.1573 - auc_4: 0.0764 - auc_5: 0.6227 - val_loss: 0.1551 - val_auc_4: 0.0792 - val_auc_5: 0.6419 - lr: 0.0010\n",
      "Epoch 10/40\n",
      "313/313 [==============================] - ETA: 0s - loss: 0.1569 - auc_4: 0.0788 - auc_5: 0.6301\n",
      "Epoch 10: val_loss improved from 0.15511 to 0.15478, saving model to ./models/model-2.h5\n",
      "313/313 [==============================] - 487s 2s/step - loss: 0.1569 - auc_4: 0.0788 - auc_5: 0.6301 - val_loss: 0.1548 - val_auc_4: 0.0829 - val_auc_5: 0.6398 - lr: 0.0010\n",
      "Epoch 11/40\n",
      "313/313 [==============================] - ETA: 0s - loss: 0.1570 - auc_4: 0.0777 - auc_5: 0.6324\n",
      "Epoch 11: val_loss improved from 0.15478 to 0.15327, saving model to ./models/model-2.h5\n",
      "313/313 [==============================] - 487s 2s/step - loss: 0.1570 - auc_4: 0.0777 - auc_5: 0.6324 - val_loss: 0.1533 - val_auc_4: 0.0913 - val_auc_5: 0.6514 - lr: 0.0010\n",
      "Epoch 12/40\n",
      "313/313 [==============================] - ETA: 0s - loss: 0.1556 - auc_4: 0.0845 - auc_5: 0.6412\n",
      "Epoch 12: val_loss improved from 0.15327 to 0.15322, saving model to ./models/model-2.h5\n",
      "313/313 [==============================] - 487s 2s/step - loss: 0.1556 - auc_4: 0.0845 - auc_5: 0.6412 - val_loss: 0.1532 - val_auc_4: 0.0847 - val_auc_5: 0.6460 - lr: 0.0010\n",
      "Epoch 13/40\n",
      "313/313 [==============================] - ETA: 0s - loss: 0.1559 - auc_4: 0.0828 - auc_5: 0.6449\n",
      "Epoch 13: val_loss did not improve from 0.15322\n",
      "313/313 [==============================] - 487s 2s/step - loss: 0.1559 - auc_4: 0.0828 - auc_5: 0.6449 - val_loss: 0.1539 - val_auc_4: 0.0845 - val_auc_5: 0.6524 - lr: 0.0010\n",
      "Epoch 14/40\n",
      "313/313 [==============================] - ETA: 0s - loss: 0.1547 - auc_4: 0.0868 - auc_5: 0.6567\n",
      "Epoch 14: val_loss improved from 0.15322 to 0.15233, saving model to ./models/model-2.h5\n",
      "313/313 [==============================] - 487s 2s/step - loss: 0.1547 - auc_4: 0.0868 - auc_5: 0.6567 - val_loss: 0.1523 - val_auc_4: 0.0891 - val_auc_5: 0.6541 - lr: 0.0010\n",
      "Epoch 15/40\n",
      "313/313 [==============================] - ETA: 0s - loss: 0.1544 - auc_4: 0.0896 - auc_5: 0.6629\n",
      "Epoch 15: val_loss did not improve from 0.15233\n",
      "313/313 [==============================] - 487s 2s/step - loss: 0.1544 - auc_4: 0.0896 - auc_5: 0.6629 - val_loss: 0.1534 - val_auc_4: 0.0856 - val_auc_5: 0.6669 - lr: 0.0010\n",
      "Epoch 16/40\n",
      "313/313 [==============================] - ETA: 0s - loss: 0.1539 - auc_4: 0.0916 - auc_5: 0.6697\n",
      "Epoch 16: val_loss improved from 0.15233 to 0.15230, saving model to ./models/model-2.h5\n",
      "313/313 [==============================] - 487s 2s/step - loss: 0.1539 - auc_4: 0.0916 - auc_5: 0.6697 - val_loss: 0.1523 - val_auc_4: 0.0924 - val_auc_5: 0.6610 - lr: 0.0010\n",
      "Epoch 17/40\n",
      "313/313 [==============================] - ETA: 0s - loss: 0.1533 - auc_4: 0.0932 - auc_5: 0.6742\n",
      "Epoch 17: val_loss did not improve from 0.15230\n",
      "313/313 [==============================] - 487s 2s/step - loss: 0.1533 - auc_4: 0.0932 - auc_5: 0.6742 - val_loss: 0.1532 - val_auc_4: 0.0868 - val_auc_5: 0.6533 - lr: 0.0010\n",
      "Epoch 18/40\n",
      "313/313 [==============================] - ETA: 0s - loss: 0.1524 - auc_4: 0.0968 - auc_5: 0.6794\n",
      "Epoch 18: val_loss did not improve from 0.15230\n",
      "313/313 [==============================] - 487s 2s/step - loss: 0.1524 - auc_4: 0.0968 - auc_5: 0.6794 - val_loss: 0.1541 - val_auc_4: 0.0975 - val_auc_5: 0.6492 - lr: 0.0010\n",
      "Epoch 19/40\n",
      "313/313 [==============================] - ETA: 0s - loss: 0.1499 - auc_4: 0.1078 - auc_5: 0.7085\n",
      "Epoch 19: val_loss improved from 0.15230 to 0.14958, saving model to ./models/model-2.h5\n",
      "313/313 [==============================] - 487s 2s/step - loss: 0.1499 - auc_4: 0.1078 - auc_5: 0.7085 - val_loss: 0.1496 - val_auc_4: 0.1022 - val_auc_5: 0.6670 - lr: 2.0000e-04\n",
      "Epoch 20/40\n",
      "313/313 [==============================] - ETA: 0s - loss: 0.1489 - auc_4: 0.1117 - auc_5: 0.7135\n",
      "Epoch 20: val_loss improved from 0.14958 to 0.14946, saving model to ./models/model-2.h5\n",
      "313/313 [==============================] - 487s 2s/step - loss: 0.1489 - auc_4: 0.1117 - auc_5: 0.7135 - val_loss: 0.1495 - val_auc_4: 0.1042 - val_auc_5: 0.7017 - lr: 2.0000e-04\n",
      "Epoch 21/40\n",
      "313/313 [==============================] - ETA: 0s - loss: 0.1486 - auc_4: 0.1128 - auc_5: 0.7163\n",
      "Epoch 21: val_loss improved from 0.14946 to 0.14797, saving model to ./models/model-2.h5\n",
      "313/313 [==============================] - 487s 2s/step - loss: 0.1486 - auc_4: 0.1128 - auc_5: 0.7163 - val_loss: 0.1480 - val_auc_4: 0.1096 - val_auc_5: 0.6949 - lr: 2.0000e-04\n",
      "Epoch 22/40\n",
      "313/313 [==============================] - ETA: 0s - loss: 0.1482 - auc_4: 0.1153 - auc_5: 0.7246\n",
      "Epoch 22: val_loss improved from 0.14797 to 0.14761, saving model to ./models/model-2.h5\n",
      "313/313 [==============================] - 487s 2s/step - loss: 0.1482 - auc_4: 0.1153 - auc_5: 0.7246 - val_loss: 0.1476 - val_auc_4: 0.1105 - val_auc_5: 0.7285 - lr: 2.0000e-04\n",
      "Epoch 23/40\n",
      "313/313 [==============================] - ETA: 0s - loss: 0.1479 - auc_4: 0.1160 - auc_5: 0.7266\n",
      "Epoch 23: val_loss improved from 0.14761 to 0.14749, saving model to ./models/model-2.h5\n",
      "313/313 [==============================] - 487s 2s/step - loss: 0.1479 - auc_4: 0.1160 - auc_5: 0.7266 - val_loss: 0.1475 - val_auc_4: 0.1158 - val_auc_5: 0.7217 - lr: 2.0000e-04\n",
      "Epoch 24/40\n",
      "313/313 [==============================] - ETA: 0s - loss: 0.1476 - auc_4: 0.1192 - auc_5: 0.7338\n",
      "Epoch 24: val_loss improved from 0.14749 to 0.14712, saving model to ./models/model-2.h5\n",
      "313/313 [==============================] - 487s 2s/step - loss: 0.1476 - auc_4: 0.1192 - auc_5: 0.7338 - val_loss: 0.1471 - val_auc_4: 0.1199 - val_auc_5: 0.7041 - lr: 2.0000e-04\n",
      "Epoch 25/40\n",
      "313/313 [==============================] - ETA: 0s - loss: 0.1471 - auc_4: 0.1202 - auc_5: 0.7324\n",
      "Epoch 25: val_loss did not improve from 0.14712\n",
      "313/313 [==============================] - 487s 2s/step - loss: 0.1471 - auc_4: 0.1202 - auc_5: 0.7324 - val_loss: 0.1474 - val_auc_4: 0.1162 - val_auc_5: 0.7300 - lr: 2.0000e-04\n",
      "Epoch 26/40\n",
      "313/313 [==============================] - ETA: 0s - loss: 0.1468 - auc_4: 0.1249 - auc_5: 0.7354\n",
      "Epoch 26: val_loss did not improve from 0.14712\n",
      "313/313 [==============================] - 487s 2s/step - loss: 0.1468 - auc_4: 0.1249 - auc_5: 0.7354 - val_loss: 0.1478 - val_auc_4: 0.1155 - val_auc_5: 0.6989 - lr: 2.0000e-04\n",
      "Epoch 27/40\n",
      "313/313 [==============================] - ETA: 0s - loss: 0.1465 - auc_4: 0.1238 - auc_5: 0.7342\n",
      "Epoch 27: val_loss did not improve from 0.14712\n",
      "313/313 [==============================] - 487s 2s/step - loss: 0.1465 - auc_4: 0.1238 - auc_5: 0.7342 - val_loss: 0.1476 - val_auc_4: 0.1127 - val_auc_5: 0.7102 - lr: 2.0000e-04\n",
      "Epoch 28/40\n",
      "313/313 [==============================] - ETA: 0s - loss: 0.1460 - auc_4: 0.1264 - auc_5: 0.7382\n",
      "Epoch 28: val_loss improved from 0.14712 to 0.14678, saving model to ./models/model-2.h5\n",
      "313/313 [==============================] - 487s 2s/step - loss: 0.1460 - auc_4: 0.1264 - auc_5: 0.7382 - val_loss: 0.1468 - val_auc_4: 0.1177 - val_auc_5: 0.7064 - lr: 2.0000e-04\n",
      "Epoch 29/40\n",
      "313/313 [==============================] - ETA: 0s - loss: 0.1457 - auc_4: 0.1295 - auc_5: 0.7480\n",
      "Epoch 29: val_loss did not improve from 0.14678\n",
      "313/313 [==============================] - 487s 2s/step - loss: 0.1457 - auc_4: 0.1295 - auc_5: 0.7480 - val_loss: 0.1471 - val_auc_4: 0.1233 - val_auc_5: 0.6907 - lr: 2.0000e-04\n",
      "Epoch 30/40\n",
      "313/313 [==============================] - ETA: 0s - loss: 0.1453 - auc_4: 0.1314 - auc_5: 0.7463\n",
      "Epoch 30: val_loss did not improve from 0.14678\n",
      "313/313 [==============================] - 487s 2s/step - loss: 0.1453 - auc_4: 0.1314 - auc_5: 0.7463 - val_loss: 0.1474 - val_auc_4: 0.1131 - val_auc_5: 0.7232 - lr: 2.0000e-04\n",
      "Epoch 31/40\n",
      "313/313 [==============================] - ETA: 0s - loss: 0.1450 - auc_4: 0.1325 - auc_5: 0.7497\n",
      "Epoch 31: val_loss did not improve from 0.14678\n",
      "313/313 [==============================] - 487s 2s/step - loss: 0.1450 - auc_4: 0.1325 - auc_5: 0.7497 - val_loss: 0.1472 - val_auc_4: 0.1270 - val_auc_5: 0.7182 - lr: 2.0000e-04\n",
      "Epoch 32/40\n",
      "313/313 [==============================] - ETA: 0s - loss: 0.1449 - auc_4: 0.1348 - auc_5: 0.7490\n",
      "Epoch 32: val_loss did not improve from 0.14678\n",
      "313/313 [==============================] - 487s 2s/step - loss: 0.1449 - auc_4: 0.1348 - auc_5: 0.7490 - val_loss: 0.1472 - val_auc_4: 0.1144 - val_auc_5: 0.7223 - lr: 2.0000e-04\n",
      "Epoch 33/40\n",
      "313/313 [==============================] - ETA: 0s - loss: 0.1435 - auc_4: 0.1437 - auc_5: 0.7644\n",
      "Epoch 33: val_loss improved from 0.14678 to 0.14664, saving model to ./models/model-2.h5\n",
      "313/313 [==============================] - 487s 2s/step - loss: 0.1435 - auc_4: 0.1437 - auc_5: 0.7644 - val_loss: 0.1466 - val_auc_4: 0.1307 - val_auc_5: 0.7194 - lr: 4.0000e-05\n",
      "Epoch 34/40\n",
      "313/313 [==============================] - ETA: 0s - loss: 0.1432 - auc_4: 0.1455 - auc_5: 0.7584\n",
      "Epoch 34: val_loss improved from 0.14664 to 0.14498, saving model to ./models/model-2.h5\n",
      "313/313 [==============================] - 487s 2s/step - loss: 0.1432 - auc_4: 0.1455 - auc_5: 0.7584 - val_loss: 0.1450 - val_auc_4: 0.1250 - val_auc_5: 0.7400 - lr: 4.0000e-05\n",
      "Epoch 35/40\n",
      "313/313 [==============================] - ETA: 0s - loss: 0.1428 - auc_4: 0.1492 - auc_5: 0.7662\n",
      "Epoch 35: val_loss did not improve from 0.14498\n",
      "313/313 [==============================] - 487s 2s/step - loss: 0.1428 - auc_4: 0.1492 - auc_5: 0.7662 - val_loss: 0.1464 - val_auc_4: 0.1174 - val_auc_5: 0.7384 - lr: 4.0000e-05\n",
      "Epoch 36/40\n",
      "313/313 [==============================] - ETA: 0s - loss: 0.1426 - auc_4: 0.1523 - auc_5: 0.7702\n",
      "Epoch 36: val_loss did not improve from 0.14498\n",
      "313/313 [==============================] - 487s 2s/step - loss: 0.1426 - auc_4: 0.1523 - auc_5: 0.7702 - val_loss: 0.1467 - val_auc_4: 0.1448 - val_auc_5: 0.7328 - lr: 4.0000e-05\n",
      "Epoch 37/40\n",
      "313/313 [==============================] - ETA: 0s - loss: 0.1427 - auc_4: 0.1479 - auc_5: 0.7666\n",
      "Epoch 37: val_loss did not improve from 0.14498\n",
      "313/313 [==============================] - 487s 2s/step - loss: 0.1427 - auc_4: 0.1479 - auc_5: 0.7666 - val_loss: 0.1456 - val_auc_4: 0.1255 - val_auc_5: 0.7336 - lr: 4.0000e-05\n",
      "Epoch 38/40\n",
      "313/313 [==============================] - ETA: 0s - loss: 0.1424 - auc_4: 0.1483 - auc_5: 0.7707\n",
      "Epoch 38: val_loss did not improve from 0.14498\n",
      "313/313 [==============================] - 487s 2s/step - loss: 0.1424 - auc_4: 0.1483 - auc_5: 0.7707 - val_loss: 0.1464 - val_auc_4: 0.1257 - val_auc_5: 0.7259 - lr: 4.0000e-05\n",
      "Epoch 39/40\n",
      "313/313 [==============================] - ETA: 0s - loss: 0.1418 - auc_4: 0.1515 - auc_5: 0.7757\n",
      "Epoch 39: val_loss did not improve from 0.14498\n",
      "313/313 [==============================] - 487s 2s/step - loss: 0.1418 - auc_4: 0.1515 - auc_5: 0.7757 - val_loss: 0.1459 - val_auc_4: 0.1262 - val_auc_5: 0.7233 - lr: 8.0000e-06\n",
      "Epoch 40/40\n",
      "313/313 [==============================] - ETA: 0s - loss: 0.1419 - auc_4: 0.1540 - auc_5: 0.7762\n",
      "Epoch 40: val_loss did not improve from 0.14498\n",
      "313/313 [==============================] - 487s 2s/step - loss: 0.1419 - auc_4: 0.1540 - auc_5: 0.7762 - val_loss: 0.1454 - val_auc_4: 0.1301 - val_auc_5: 0.7248 - lr: 8.0000e-06\n"
     ]
    }
   ],
   "source": [
    "m = 2\n",
    "\n",
    "history[m] = model.fit(\n",
    "    train_gen[m], \n",
    "    validation_data=val_gen[m],\n",
    "    epochs = 40,\n",
    "    callbacks = [chkpt[m], early, reduce_lr]\n",
    ")"
   ]
  },
  {
   "cell_type": "code",
   "execution_count": 29,
   "metadata": {},
   "outputs": [
    {
     "data": {
      "image/png": "[encoded data removed]",
      "text/plain": [
       "<Figure size 1080x720 with 1 Axes>"
      ]
     },
     "metadata": {
      "needs_background": "light"
     },
     "output_type": "display_data"
    }
   ],
   "source": [
    "plot_losses(history[2])"
   ]
  },
  {
   "cell_type": "markdown",
   "metadata": {},
   "source": [
    "### Model 3"
   ]
  },
  {
   "cell_type": "code",
   "execution_count": 30,
   "metadata": {},
   "outputs": [
    {
     "name": "stdout",
     "output_type": "stream",
     "text": [
      "Model: \"sequential_3\"\n",
      "_________________________________________________________________\n",
      " Layer (type)                Output Shape              Param #   \n",
      "=================================================================\n",
      " block1_conv1 (Conv2D)       (None, 256, 256, 64)      1792      \n",
      "                                                                 \n",
      " block1_conv2 (Conv2D)       (None, 256, 256, 64)      36928     \n",
      "                                                                 \n",
      " block1_pool (MaxPooling2D)  (None, 128, 128, 64)      0         \n",
      "                                                                 \n",
      " block2_conv1 (Conv2D)       (None, 128, 128, 128)     73856     \n",
      "                                                                 \n",
      " block2_conv2 (Conv2D)       (None, 128, 128, 128)     147584    \n",
      "                                                                 \n",
      " block2_pool (MaxPooling2D)  (None, 64, 64, 128)       0         \n",
      "                                                                 \n",
      " block3_conv1 (Conv2D)       (None, 64, 64, 256)       295168    \n",
      "                                                                 \n",
      " block3_conv2 (Conv2D)       (None, 64, 64, 256)       590080    \n",
      "                                                                 \n",
      " block3_conv3 (Conv2D)       (None, 64, 64, 256)       590080    \n",
      "                                                                 \n",
      " block3_pool (MaxPooling2D)  (None, 32, 32, 256)       0         \n",
      "                                                                 \n",
      " block4_conv1 (Conv2D)       (None, 32, 32, 512)       1180160   \n",
      "                                                                 \n",
      " block4_conv2 (Conv2D)       (None, 32, 32, 512)       2359808   \n",
      "                                                                 \n",
      " block4_conv3 (Conv2D)       (None, 32, 32, 512)       2359808   \n",
      "                                                                 \n",
      " block4_pool (MaxPooling2D)  (None, 16, 16, 512)       0         \n",
      "                                                                 \n",
      " block5_conv1 (Conv2D)       (None, 16, 16, 512)       2359808   \n",
      "                                                                 \n",
      " block5_conv2 (Conv2D)       (None, 16, 16, 512)       2359808   \n",
      "                                                                 \n",
      " block5_conv3 (Conv2D)       (None, 16, 16, 512)       2359808   \n",
      "                                                                 \n",
      " block5_pool (MaxPooling2D)  (None, 8, 8, 512)         0         \n",
      "                                                                 \n",
      " flatten_3 (Flatten)         (None, 32768)             0         \n",
      "                                                                 \n",
      " dense_3 (Dense)             (None, 14)                458766    \n",
      "                                                                 \n",
      "=================================================================\n",
      "Total params: 15,173,454\n",
      "Trainable params: 13,437,966\n",
      "Non-trainable params: 1,735,488\n",
      "_________________________________________________________________\n"
     ]
    }
   ],
   "source": [
    "model = Sequential()\n",
    "\n",
    "for layer in base_model.layers:\n",
    "    model.add(layer)\n",
    "    \n",
    "for layer in model.layers:\n",
    "    if any(x in layer.name for x in ['block1', 'block2', 'block3']):\n",
    "        layer.trainable = False\n",
    "    \n",
    "model.add(Flatten())\n",
    "model.add(Dense(len(labels), activation='sigmoid'))\n",
    "    \n",
    "model.summary()"
   ]
  },
  {
   "cell_type": "code",
   "execution_count": 31,
   "metadata": {},
   "outputs": [],
   "source": [
    "model.compile(\n",
    "    optimizer='adam',\n",
    "    loss='binary_crossentropy',\n",
    "    metrics = [\n",
    "        AUC(curve='PR', multi_label=True, num_labels=len(labels)), \n",
    "        AUC(curve='ROC', multi_label=True, num_labels=len(labels))\n",
    "        ]\n",
    ")"
   ]
  },
  {
   "cell_type": "code",
   "execution_count": 32,
   "metadata": {},
   "outputs": [
    {
     "name": "stdout",
     "output_type": "stream",
     "text": [
      "Epoch 1/40\n"
     ]
    },
    {
     "name": "stderr",
     "output_type": "stream",
     "text": [
      "2022-06-04 05:47:48.026733: I tensorflow/core/grappler/optimizers/custom_graph_optimizer_registry.cc:113] Plugin optimizer for device_type GPU is enabled.\n"
     ]
    },
    {
     "name": "stdout",
     "output_type": "stream",
     "text": [
      "352/352 [==============================] - ETA: 0s - loss: 0.3633 - auc_6: 0.1865 - auc_7: 0.6215"
     ]
    },
    {
     "name": "stderr",
     "output_type": "stream",
     "text": [
      "2022-06-04 05:53:43.007112: I tensorflow/core/grappler/optimizers/custom_graph_optimizer_registry.cc:113] Plugin optimizer for device_type GPU is enabled.\n"
     ]
    },
    {
     "name": "stdout",
     "output_type": "stream",
     "text": [
      "\n",
      "Epoch 1: val_loss improved from inf to 0.19070, saving model to ./models/model-3.h5\n",
      "352/352 [==============================] - 387s 1s/step - loss: 0.3633 - auc_6: 0.1865 - auc_7: 0.6215 - val_loss: 0.1907 - val_auc_6: 0.0963 - val_auc_7: 0.6815 - lr: 0.0010\n",
      "Epoch 2/40\n",
      "352/352 [==============================] - ETA: 0s - loss: 0.3524 - auc_6: 0.2191 - auc_7: 0.6605\n",
      "Epoch 2: val_loss improved from 0.19070 to 0.18640, saving model to ./models/model-3.h5\n",
      "352/352 [==============================] - 383s 1s/step - loss: 0.3524 - auc_6: 0.2191 - auc_7: 0.6605 - val_loss: 0.1864 - val_auc_6: 0.0966 - val_auc_7: 0.7007 - lr: 0.0010\n",
      "Epoch 3/40\n",
      "352/352 [==============================] - ETA: 0s - loss: 0.3496 - auc_6: 0.2323 - auc_7: 0.6724\n",
      "Epoch 3: val_loss improved from 0.18640 to 0.18440, saving model to ./models/model-3.h5\n",
      "352/352 [==============================] - 380s 1s/step - loss: 0.3496 - auc_6: 0.2323 - auc_7: 0.6724 - val_loss: 0.1844 - val_auc_6: 0.1007 - val_auc_7: 0.7068 - lr: 0.0010\n",
      "Epoch 4/40\n",
      "352/352 [==============================] - ETA: 0s - loss: 0.3481 - auc_6: 0.2379 - auc_7: 0.6785\n",
      "Epoch 4: val_loss did not improve from 0.18440\n",
      "352/352 [==============================] - 380s 1s/step - loss: 0.3481 - auc_6: 0.2379 - auc_7: 0.6785 - val_loss: 0.1871 - val_auc_6: 0.1264 - val_auc_7: 0.7037 - lr: 0.0010\n",
      "Epoch 5/40\n",
      "352/352 [==============================] - ETA: 0s - loss: 0.3455 - auc_6: 0.2510 - auc_7: 0.6880\n",
      "Epoch 5: val_loss did not improve from 0.18440\n",
      "352/352 [==============================] - 380s 1s/step - loss: 0.3455 - auc_6: 0.2510 - auc_7: 0.6880 - val_loss: 0.1845 - val_auc_6: 0.0997 - val_auc_7: 0.7025 - lr: 0.0010\n",
      "Epoch 6/40\n",
      "352/352 [==============================] - ETA: 0s - loss: 0.3446 - auc_6: 0.2546 - auc_7: 0.6912\n",
      "Epoch 6: val_loss did not improve from 0.18440\n",
      "352/352 [==============================] - 380s 1s/step - loss: 0.3446 - auc_6: 0.2546 - auc_7: 0.6912 - val_loss: 0.1967 - val_auc_6: 0.1062 - val_auc_7: 0.6995 - lr: 0.0010\n",
      "Epoch 7/40\n",
      "352/352 [==============================] - ETA: 0s - loss: 0.3425 - auc_6: 0.2624 - auc_7: 0.6975\n",
      "Epoch 7: val_loss did not improve from 0.18440\n",
      "352/352 [==============================] - 380s 1s/step - loss: 0.3425 - auc_6: 0.2624 - auc_7: 0.6975 - val_loss: 0.1849 - val_auc_6: 0.1058 - val_auc_7: 0.6997 - lr: 0.0010\n",
      "Epoch 8/40\n",
      "352/352 [==============================] - ETA: 0s - loss: 0.3372 - auc_6: 0.2828 - auc_7: 0.7142\n",
      "Epoch 8: val_loss did not improve from 0.18440\n",
      "352/352 [==============================] - 380s 1s/step - loss: 0.3372 - auc_6: 0.2828 - auc_7: 0.7142 - val_loss: 0.1888 - val_auc_6: 0.1085 - val_auc_7: 0.7060 - lr: 2.0000e-04\n",
      "Epoch 9/40\n",
      "352/352 [==============================] - ETA: 0s - loss: 0.3358 - auc_6: 0.2886 - auc_7: 0.7180\n",
      "Epoch 9: val_loss did not improve from 0.18440\n",
      "352/352 [==============================] - 380s 1s/step - loss: 0.3358 - auc_6: 0.2886 - auc_7: 0.7180 - val_loss: 0.1850 - val_auc_6: 0.1181 - val_auc_7: 0.7135 - lr: 2.0000e-04\n",
      "Epoch 10/40\n",
      "352/352 [==============================] - ETA: 0s - loss: 0.3347 - auc_6: 0.2950 - auc_7: 0.7207\n",
      "Epoch 10: val_loss improved from 0.18440 to 0.18375, saving model to ./models/model-3.h5\n",
      "352/352 [==============================] - 380s 1s/step - loss: 0.3347 - auc_6: 0.2950 - auc_7: 0.7207 - val_loss: 0.1837 - val_auc_6: 0.1182 - val_auc_7: 0.7054 - lr: 2.0000e-04\n",
      "Epoch 11/40\n",
      "352/352 [==============================] - ETA: 0s - loss: 0.3343 - auc_6: 0.2953 - auc_7: 0.7215\n",
      "Epoch 11: val_loss did not improve from 0.18375\n",
      "352/352 [==============================] - 379s 1s/step - loss: 0.3343 - auc_6: 0.2953 - auc_7: 0.7215 - val_loss: 0.1884 - val_auc_6: 0.1088 - val_auc_7: 0.7040 - lr: 2.0000e-04\n",
      "Epoch 12/40\n",
      "352/352 [==============================] - ETA: 0s - loss: 0.3335 - auc_6: 0.2998 - auc_7: 0.7231\n",
      "Epoch 12: val_loss improved from 0.18375 to 0.18215, saving model to ./models/model-3.h5\n",
      "352/352 [==============================] - 379s 1s/step - loss: 0.3335 - auc_6: 0.2998 - auc_7: 0.7231 - val_loss: 0.1821 - val_auc_6: 0.1088 - val_auc_7: 0.7109 - lr: 2.0000e-04\n",
      "Epoch 13/40\n",
      "352/352 [==============================] - ETA: 0s - loss: 0.3331 - auc_6: 0.2999 - auc_7: 0.7245\n",
      "Epoch 13: val_loss did not improve from 0.18215\n",
      "352/352 [==============================] - 379s 1s/step - loss: 0.3331 - auc_6: 0.2999 - auc_7: 0.7245 - val_loss: 0.1858 - val_auc_6: 0.1143 - val_auc_7: 0.7139 - lr: 2.0000e-04\n",
      "Epoch 14/40\n",
      "352/352 [==============================] - ETA: 0s - loss: 0.3320 - auc_6: 0.3053 - auc_7: 0.7275\n",
      "Epoch 14: val_loss did not improve from 0.18215\n",
      "352/352 [==============================] - 379s 1s/step - loss: 0.3320 - auc_6: 0.3053 - auc_7: 0.7275 - val_loss: 0.1933 - val_auc_6: 0.1086 - val_auc_7: 0.7084 - lr: 2.0000e-04\n",
      "Epoch 15/40\n",
      "352/352 [==============================] - ETA: 0s - loss: 0.3318 - auc_6: 0.3068 - auc_7: 0.7272\n",
      "Epoch 15: val_loss did not improve from 0.18215\n",
      "352/352 [==============================] - 379s 1s/step - loss: 0.3318 - auc_6: 0.3068 - auc_7: 0.7272 - val_loss: 0.1864 - val_auc_6: 0.1094 - val_auc_7: 0.6972 - lr: 2.0000e-04\n",
      "Epoch 16/40\n",
      "352/352 [==============================] - ETA: 0s - loss: 0.3310 - auc_6: 0.3095 - auc_7: 0.7293\n",
      "Epoch 16: val_loss did not improve from 0.18215\n",
      "352/352 [==============================] - 379s 1s/step - loss: 0.3310 - auc_6: 0.3095 - auc_7: 0.7293 - val_loss: 0.1904 - val_auc_6: 0.1234 - val_auc_7: 0.7100 - lr: 2.0000e-04\n",
      "Epoch 17/40\n",
      "352/352 [==============================] - ETA: 0s - loss: 0.3293 - auc_6: 0.3148 - auc_7: 0.7345\n",
      "Epoch 17: val_loss did not improve from 0.18215\n",
      "352/352 [==============================] - 379s 1s/step - loss: 0.3293 - auc_6: 0.3148 - auc_7: 0.7345 - val_loss: 0.1883 - val_auc_6: 0.1138 - val_auc_7: 0.7049 - lr: 4.0000e-05\n",
      "Epoch 18/40\n",
      "352/352 [==============================] - ETA: 0s - loss: 0.3291 - auc_6: 0.3151 - auc_7: 0.7351\n",
      "Epoch 18: val_loss did not improve from 0.18215\n",
      "352/352 [==============================] - 379s 1s/step - loss: 0.3291 - auc_6: 0.3151 - auc_7: 0.7351 - val_loss: 0.1877 - val_auc_6: 0.1095 - val_auc_7: 0.7120 - lr: 4.0000e-05\n",
      "Epoch 19/40\n",
      "352/352 [==============================] - ETA: 0s - loss: 0.3293 - auc_6: 0.3162 - auc_7: 0.7342\n",
      "Epoch 19: val_loss did not improve from 0.18215\n",
      "352/352 [==============================] - 379s 1s/step - loss: 0.3293 - auc_6: 0.3162 - auc_7: 0.7342 - val_loss: 0.1893 - val_auc_6: 0.1174 - val_auc_7: 0.7034 - lr: 4.0000e-05\n",
      "Epoch 20/40\n",
      "352/352 [==============================] - ETA: 0s - loss: 0.3287 - auc_6: 0.3178 - auc_7: 0.7353\n",
      "Epoch 20: val_loss did not improve from 0.18215\n",
      "352/352 [==============================] - 380s 1s/step - loss: 0.3287 - auc_6: 0.3178 - auc_7: 0.7353 - val_loss: 0.1870 - val_auc_6: 0.1480 - val_auc_7: 0.7199 - lr: 4.0000e-05\n"
     ]
    }
   ],
   "source": [
    "m = 3\n",
    "\n",
    "history[m] = model.fit(\n",
    "    train_gen[m], \n",
    "    validation_data=val_gen[m],\n",
    "    epochs = 40,\n",
    "    callbacks = [chkpt[m], early, reduce_lr]\n",
    ")"
   ]
  },
  {
   "cell_type": "code",
   "execution_count": 33,
   "metadata": {},
   "outputs": [
    {
     "data": {
      "image/png": "[encoded data removed]",
      "text/plain": [
       "<Figure size 1080x720 with 1 Axes>"
      ]
     },
     "metadata": {
      "needs_background": "light"
     },
     "output_type": "display_data"
    }
   ],
   "source": [
    "plot_losses(history[3])"
   ]
  },
  {
   "cell_type": "markdown",
   "metadata": {},
   "source": [
    "### Model 4"
   ]
  },
  {
   "cell_type": "code",
   "execution_count": 34,
   "metadata": {},
   "outputs": [
    {
     "name": "stdout",
     "output_type": "stream",
     "text": [
      "Model: \"sequential_4\"\n",
      "_________________________________________________________________\n",
      " Layer (type)                Output Shape              Param #   \n",
      "=================================================================\n",
      " block1_conv1 (Conv2D)       (None, 256, 256, 64)      1792      \n",
      "                                                                 \n",
      " block1_conv2 (Conv2D)       (None, 256, 256, 64)      36928     \n",
      "                                                                 \n",
      " block1_pool (MaxPooling2D)  (None, 128, 128, 64)      0         \n",
      "                                                                 \n",
      " block2_conv1 (Conv2D)       (None, 128, 128, 128)     73856     \n",
      "                                                                 \n",
      " block2_conv2 (Conv2D)       (None, 128, 128, 128)     147584    \n",
      "                                                                 \n",
      " block2_pool (MaxPooling2D)  (None, 64, 64, 128)       0         \n",
      "                                                                 \n",
      " block3_conv1 (Conv2D)       (None, 64, 64, 256)       295168    \n",
      "                                                                 \n",
      " block3_conv2 (Conv2D)       (None, 64, 64, 256)       590080    \n",
      "                                                                 \n",
      " block3_conv3 (Conv2D)       (None, 64, 64, 256)       590080    \n",
      "                                                                 \n",
      " block3_pool (MaxPooling2D)  (None, 32, 32, 256)       0         \n",
      "                                                                 \n",
      " block4_conv1 (Conv2D)       (None, 32, 32, 512)       1180160   \n",
      "                                                                 \n",
      " block4_conv2 (Conv2D)       (None, 32, 32, 512)       2359808   \n",
      "                                                                 \n",
      " block4_conv3 (Conv2D)       (None, 32, 32, 512)       2359808   \n",
      "                                                                 \n",
      " block4_pool (MaxPooling2D)  (None, 16, 16, 512)       0         \n",
      "                                                                 \n",
      " block5_conv1 (Conv2D)       (None, 16, 16, 512)       2359808   \n",
      "                                                                 \n",
      " block5_conv2 (Conv2D)       (None, 16, 16, 512)       2359808   \n",
      "                                                                 \n",
      " block5_conv3 (Conv2D)       (None, 16, 16, 512)       2359808   \n",
      "                                                                 \n",
      " block5_pool (MaxPooling2D)  (None, 8, 8, 512)         0         \n",
      "                                                                 \n",
      " flatten_4 (Flatten)         (None, 32768)             0         \n",
      "                                                                 \n",
      " dense_4 (Dense)             (None, 14)                458766    \n",
      "                                                                 \n",
      "=================================================================\n",
      "Total params: 15,173,454\n",
      "Trainable params: 15,173,454\n",
      "Non-trainable params: 0\n",
      "_________________________________________________________________\n"
     ]
    }
   ],
   "source": [
    "model = Sequential()\n",
    "\n",
    "for layer in base_model.layers:\n",
    "    model.add(layer)\n",
    "    \n",
    "for layer in model.layers:\n",
    "    layer.trainable = True\n",
    "    \n",
    "model.add(Flatten())\n",
    "model.add(Dense(len(labels), activation='sigmoid'))\n",
    "    \n",
    "model.summary()"
   ]
  },
  {
   "cell_type": "code",
   "execution_count": 35,
   "metadata": {},
   "outputs": [],
   "source": [
    "model.compile(\n",
    "    optimizer='adam',\n",
    "    loss='binary_crossentropy',\n",
    "    metrics = [\n",
    "        AUC(curve='PR', multi_label=True, num_labels=len(labels)), \n",
    "        AUC(curve='ROC', multi_label=True, num_labels=len(labels))\n",
    "        ]\n",
    ")"
   ]
  },
  {
   "cell_type": "code",
   "execution_count": 36,
   "metadata": {},
   "outputs": [
    {
     "name": "stdout",
     "output_type": "stream",
     "text": [
      "Epoch 1/40\n"
     ]
    },
    {
     "name": "stderr",
     "output_type": "stream",
     "text": [
      "2022-06-04 07:55:03.733538: I tensorflow/core/grappler/optimizers/custom_graph_optimizer_registry.cc:113] Plugin optimizer for device_type GPU is enabled.\n"
     ]
    },
    {
     "name": "stdout",
     "output_type": "stream",
     "text": [
      "313/313 [==============================] - ETA: 0s - loss: 0.1805 - auc_8: 0.0465 - auc_9: 0.5061"
     ]
    },
    {
     "name": "stderr",
     "output_type": "stream",
     "text": [
      "2022-06-04 08:02:45.380534: I tensorflow/core/grappler/optimizers/custom_graph_optimizer_registry.cc:113] Plugin optimizer for device_type GPU is enabled.\n"
     ]
    },
    {
     "name": "stdout",
     "output_type": "stream",
     "text": [
      "\n",
      "Epoch 1: val_loss improved from inf to 0.16292, saving model to ./models/model-4.h5\n",
      "313/313 [==============================] - 494s 2s/step - loss: 0.1805 - auc_8: 0.0465 - auc_9: 0.5061 - val_loss: 0.1629 - val_auc_8: 0.0499 - val_auc_9: 0.5269 - lr: 0.0010\n",
      "Epoch 2/40\n",
      "313/313 [==============================] - ETA: 0s - loss: 0.1657 - auc_8: 0.0477 - auc_9: 0.5082\n",
      "Epoch 2: val_loss improved from 0.16292 to 0.16193, saving model to ./models/model-4.h5\n",
      "313/313 [==============================] - 487s 2s/step - loss: 0.1657 - auc_8: 0.0477 - auc_9: 0.5082 - val_loss: 0.1619 - val_auc_8: 0.0520 - val_auc_9: 0.5349 - lr: 0.0010\n",
      "Epoch 3/40\n",
      "313/313 [==============================] - ETA: 0s - loss: 0.1631 - auc_8: 0.0538 - auc_9: 0.5495\n",
      "Epoch 3: val_loss improved from 0.16193 to 0.16100, saving model to ./models/model-4.h5\n",
      "313/313 [==============================] - 487s 2s/step - loss: 0.1631 - auc_8: 0.0538 - auc_9: 0.5495 - val_loss: 0.1610 - val_auc_8: 0.0576 - val_auc_9: 0.5570 - lr: 0.0010\n",
      "Epoch 4/40\n",
      "313/313 [==============================] - ETA: 0s - loss: 0.1626 - auc_8: 0.0559 - auc_9: 0.5570\n",
      "Epoch 4: val_loss improved from 0.16100 to 0.16068, saving model to ./models/model-4.h5\n",
      "313/313 [==============================] - 487s 2s/step - loss: 0.1626 - auc_8: 0.0559 - auc_9: 0.5570 - val_loss: 0.1607 - val_auc_8: 0.0581 - val_auc_9: 0.5792 - lr: 0.0010\n",
      "Epoch 5/40\n",
      "313/313 [==============================] - ETA: 0s - loss: 0.1622 - auc_8: 0.0577 - auc_9: 0.5632\n",
      "Epoch 5: val_loss improved from 0.16068 to 0.15945, saving model to ./models/model-4.h5\n",
      "313/313 [==============================] - 487s 2s/step - loss: 0.1622 - auc_8: 0.0577 - auc_9: 0.5632 - val_loss: 0.1594 - val_auc_8: 0.0606 - val_auc_9: 0.5647 - lr: 0.0010\n",
      "Epoch 6/40\n",
      "313/313 [==============================] - ETA: 0s - loss: 0.1607 - auc_8: 0.0636 - auc_9: 0.5800\n",
      "Epoch 6: val_loss improved from 0.15945 to 0.15918, saving model to ./models/model-4.h5\n",
      "313/313 [==============================] - 487s 2s/step - loss: 0.1607 - auc_8: 0.0636 - auc_9: 0.5800 - val_loss: 0.1592 - val_auc_8: 0.0691 - val_auc_9: 0.5958 - lr: 0.0010\n",
      "Epoch 7/40\n",
      "313/313 [==============================] - ETA: 0s - loss: 0.1601 - auc_8: 0.0671 - auc_9: 0.5908\n",
      "Epoch 7: val_loss improved from 0.15918 to 0.15734, saving model to ./models/model-4.h5\n",
      "313/313 [==============================] - 487s 2s/step - loss: 0.1601 - auc_8: 0.0671 - auc_9: 0.5908 - val_loss: 0.1573 - val_auc_8: 0.0706 - val_auc_9: 0.6072 - lr: 0.0010\n",
      "Epoch 8/40\n",
      "313/313 [==============================] - ETA: 0s - loss: 0.1597 - auc_8: 0.0680 - auc_9: 0.5967\n",
      "Epoch 8: val_loss did not improve from 0.15734\n",
      "313/313 [==============================] - 490s 2s/step - loss: 0.1597 - auc_8: 0.0680 - auc_9: 0.5967 - val_loss: 0.1585 - val_auc_8: 0.0695 - val_auc_9: 0.6092 - lr: 0.0010\n",
      "Epoch 9/40\n",
      "313/313 [==============================] - ETA: 0s - loss: 0.1586 - auc_8: 0.0717 - auc_9: 0.6083\n",
      "Epoch 9: val_loss improved from 0.15734 to 0.15704, saving model to ./models/model-4.h5\n",
      "313/313 [==============================] - 491s 2s/step - loss: 0.1586 - auc_8: 0.0717 - auc_9: 0.6083 - val_loss: 0.1570 - val_auc_8: 0.0740 - val_auc_9: 0.6165 - lr: 0.0010\n",
      "Epoch 10/40\n",
      "313/313 [==============================] - ETA: 0s - loss: 0.1578 - auc_8: 0.0746 - auc_9: 0.6194\n",
      "Epoch 10: val_loss improved from 0.15704 to 0.15555, saving model to ./models/model-4.h5\n",
      "313/313 [==============================] - 493s 2s/step - loss: 0.1578 - auc_8: 0.0746 - auc_9: 0.6194 - val_loss: 0.1556 - val_auc_8: 0.0798 - val_auc_9: 0.6338 - lr: 0.0010\n",
      "Epoch 11/40\n",
      "313/313 [==============================] - ETA: 0s - loss: 0.1569 - auc_8: 0.0784 - auc_9: 0.6232\n",
      "Epoch 11: val_loss did not improve from 0.15555\n",
      "313/313 [==============================] - 487s 2s/step - loss: 0.1569 - auc_8: 0.0784 - auc_9: 0.6232 - val_loss: 0.1571 - val_auc_8: 0.0773 - val_auc_9: 0.6582 - lr: 0.0010\n",
      "Epoch 12/40\n",
      "313/313 [==============================] - ETA: 0s - loss: 0.1558 - auc_8: 0.0806 - auc_9: 0.6330\n",
      "Epoch 12: val_loss improved from 0.15555 to 0.15387, saving model to ./models/model-4.h5\n",
      "313/313 [==============================] - 487s 2s/step - loss: 0.1558 - auc_8: 0.0806 - auc_9: 0.6330 - val_loss: 0.1539 - val_auc_8: 0.0864 - val_auc_9: 0.6400 - lr: 0.0010\n",
      "Epoch 13/40\n",
      "313/313 [==============================] - ETA: 0s - loss: 0.1552 - auc_8: 0.0826 - auc_9: 0.6429\n",
      "Epoch 13: val_loss improved from 0.15387 to 0.15182, saving model to ./models/model-4.h5\n",
      "313/313 [==============================] - 492s 2s/step - loss: 0.1552 - auc_8: 0.0826 - auc_9: 0.6429 - val_loss: 0.1518 - val_auc_8: 0.0960 - val_auc_9: 0.6671 - lr: 0.0010\n",
      "Epoch 14/40\n",
      "313/313 [==============================] - ETA: 0s - loss: 0.1555 - auc_8: 0.0826 - auc_9: 0.6374\n",
      "Epoch 14: val_loss did not improve from 0.15182\n",
      "313/313 [==============================] - 489s 2s/step - loss: 0.1555 - auc_8: 0.0826 - auc_9: 0.6374 - val_loss: 0.1526 - val_auc_8: 0.0875 - val_auc_9: 0.6516 - lr: 0.0010\n",
      "Epoch 15/40\n",
      "313/313 [==============================] - ETA: 0s - loss: 0.1550 - auc_8: 0.0848 - auc_9: 0.6450\n",
      "Epoch 15: val_loss did not improve from 0.15182\n",
      "313/313 [==============================] - 488s 2s/step - loss: 0.1550 - auc_8: 0.0848 - auc_9: 0.6450 - val_loss: 0.1551 - val_auc_8: 0.0863 - val_auc_9: 0.6450 - lr: 0.0010\n",
      "Epoch 16/40\n",
      "313/313 [==============================] - ETA: 0s - loss: 0.1546 - auc_8: 0.0866 - auc_9: 0.6511\n",
      "Epoch 16: val_loss did not improve from 0.15182\n",
      "313/313 [==============================] - 503s 2s/step - loss: 0.1546 - auc_8: 0.0866 - auc_9: 0.6511 - val_loss: 0.1528 - val_auc_8: 0.0865 - val_auc_9: 0.6691 - lr: 0.0010\n",
      "Epoch 17/40\n",
      "313/313 [==============================] - ETA: 0s - loss: 0.1544 - auc_8: 0.0862 - auc_9: 0.6509\n",
      "Epoch 17: val_loss improved from 0.15182 to 0.15155, saving model to ./models/model-4.h5\n",
      "313/313 [==============================] - 497s 2s/step - loss: 0.1544 - auc_8: 0.0862 - auc_9: 0.6509 - val_loss: 0.1515 - val_auc_8: 0.0905 - val_auc_9: 0.6715 - lr: 0.0010\n",
      "Epoch 18/40\n",
      "313/313 [==============================] - ETA: 0s - loss: 0.1704 - auc_8: 0.0555 - auc_9: 0.5357\n",
      "Epoch 18: val_loss did not improve from 0.15155\n",
      "313/313 [==============================] - 496s 2s/step - loss: 0.1704 - auc_8: 0.0555 - auc_9: 0.5357 - val_loss: 0.1619 - val_auc_8: 0.0437 - val_auc_9: 0.4984 - lr: 0.0010\n",
      "Epoch 19/40\n",
      "313/313 [==============================] - ETA: 0s - loss: 0.1644 - auc_8: 0.0445 - auc_9: 0.4929\n",
      "Epoch 19: val_loss did not improve from 0.15155\n",
      "313/313 [==============================] - 494s 2s/step - loss: 0.1644 - auc_8: 0.0445 - auc_9: 0.4929 - val_loss: 0.1622 - val_auc_8: 0.0458 - val_auc_9: 0.5029 - lr: 0.0010\n",
      "Epoch 20/40\n",
      "313/313 [==============================] - ETA: 0s - loss: 0.1641 - auc_8: 0.0472 - auc_9: 0.5101\n",
      "Epoch 20: val_loss did not improve from 0.15155\n",
      "313/313 [==============================] - 498s 2s/step - loss: 0.1641 - auc_8: 0.0472 - auc_9: 0.5101 - val_loss: 0.1636 - val_auc_8: 0.0497 - val_auc_9: 0.5296 - lr: 0.0010\n",
      "Epoch 21/40\n",
      "313/313 [==============================] - ETA: 0s - loss: 0.1661 - auc_8: 0.0472 - auc_9: 0.5157\n",
      "Epoch 21: val_loss did not improve from 0.15155\n",
      "313/313 [==============================] - 491s 2s/step - loss: 0.1661 - auc_8: 0.0472 - auc_9: 0.5157 - val_loss: 0.1633 - val_auc_8: 0.0501 - val_auc_9: 0.5297 - lr: 0.0010\n",
      "Epoch 22/40\n",
      "313/313 [==============================] - ETA: 0s - loss: 0.1628 - auc_8: 0.0530 - auc_9: 0.5491\n",
      "Epoch 22: val_loss did not improve from 0.15155\n",
      "313/313 [==============================] - 487s 2s/step - loss: 0.1628 - auc_8: 0.0530 - auc_9: 0.5491 - val_loss: 0.1607 - val_auc_8: 0.0541 - val_auc_9: 0.5527 - lr: 2.0000e-04\n",
      "Epoch 23/40\n",
      "313/313 [==============================] - ETA: 0s - loss: 0.1624 - auc_8: 0.0553 - auc_9: 0.5543\n",
      "Epoch 23: val_loss did not improve from 0.15155\n",
      "313/313 [==============================] - 487s 2s/step - loss: 0.1624 - auc_8: 0.0553 - auc_9: 0.5543 - val_loss: 0.1609 - val_auc_8: 0.0544 - val_auc_9: 0.5604 - lr: 2.0000e-04\n",
      "Epoch 24/40\n",
      "313/313 [==============================] - ETA: 0s - loss: 0.1620 - auc_8: 0.0567 - auc_9: 0.5639\n",
      "Epoch 24: val_loss did not improve from 0.15155\n",
      "313/313 [==============================] - 487s 2s/step - loss: 0.1620 - auc_8: 0.0567 - auc_9: 0.5639 - val_loss: 0.1605 - val_auc_8: 0.0562 - val_auc_9: 0.5641 - lr: 2.0000e-04\n",
      "Epoch 25/40\n",
      "313/313 [==============================] - ETA: 0s - loss: 0.1617 - auc_8: 0.0581 - auc_9: 0.5695\n",
      "Epoch 25: val_loss did not improve from 0.15155\n",
      "313/313 [==============================] - 487s 2s/step - loss: 0.1617 - auc_8: 0.0581 - auc_9: 0.5695 - val_loss: 0.1603 - val_auc_8: 0.0589 - val_auc_9: 0.5630 - lr: 2.0000e-04\n"
     ]
    }
   ],
   "source": [
    "m = 4\n",
    "\n",
    "history[m] = model.fit(\n",
    "    train_gen[m], \n",
    "    validation_data=val_gen[m],\n",
    "    epochs = 40,\n",
    "    callbacks = [chkpt[m], early, reduce_lr]\n",
    ")"
   ]
  },
  {
   "cell_type": "code",
   "execution_count": 37,
   "metadata": {},
   "outputs": [
    {
     "data": {
      "image/png": "[encoded data removed]",
      "text/plain": [
       "<Figure size 1080x720 with 1 Axes>"
      ]
     },
     "metadata": {
      "needs_background": "light"
     },
     "output_type": "display_data"
    }
   ],
   "source": [
    "plot_losses(history[4])"
   ]
  },
  {
   "cell_type": "markdown",
   "metadata": {},
   "source": [
    "### Model 5"
   ]
  },
  {
   "cell_type": "code",
   "execution_count": 38,
   "metadata": {},
   "outputs": [
    {
     "name": "stdout",
     "output_type": "stream",
     "text": [
      "Model: \"sequential_5\"\n",
      "_________________________________________________________________\n",
      " Layer (type)                Output Shape              Param #   \n",
      "=================================================================\n",
      " block1_conv1 (Conv2D)       (None, 256, 256, 64)      1792      \n",
      "                                                                 \n",
      " block1_conv2 (Conv2D)       (None, 256, 256, 64)      36928     \n",
      "                                                                 \n",
      " block1_pool (MaxPooling2D)  (None, 128, 128, 64)      0         \n",
      "                                                                 \n",
      " block2_conv1 (Conv2D)       (None, 128, 128, 128)     73856     \n",
      "                                                                 \n",
      " block2_conv2 (Conv2D)       (None, 128, 128, 128)     147584    \n",
      "                                                                 \n",
      " block2_pool (MaxPooling2D)  (None, 64, 64, 128)       0         \n",
      "                                                                 \n",
      " block3_conv1 (Conv2D)       (None, 64, 64, 256)       295168    \n",
      "                                                                 \n",
      " block3_conv2 (Conv2D)       (None, 64, 64, 256)       590080    \n",
      "                                                                 \n",
      " block3_conv3 (Conv2D)       (None, 64, 64, 256)       590080    \n",
      "                                                                 \n",
      " block3_pool (MaxPooling2D)  (None, 32, 32, 256)       0         \n",
      "                                                                 \n",
      " block4_conv1 (Conv2D)       (None, 32, 32, 512)       1180160   \n",
      "                                                                 \n",
      " block4_conv2 (Conv2D)       (None, 32, 32, 512)       2359808   \n",
      "                                                                 \n",
      " block4_conv3 (Conv2D)       (None, 32, 32, 512)       2359808   \n",
      "                                                                 \n",
      " block4_pool (MaxPooling2D)  (None, 16, 16, 512)       0         \n",
      "                                                                 \n",
      " block5_conv1 (Conv2D)       (None, 16, 16, 512)       2359808   \n",
      "                                                                 \n",
      " block5_conv2 (Conv2D)       (None, 16, 16, 512)       2359808   \n",
      "                                                                 \n",
      " block5_conv3 (Conv2D)       (None, 16, 16, 512)       2359808   \n",
      "                                                                 \n",
      " block5_pool (MaxPooling2D)  (None, 8, 8, 512)         0         \n",
      "                                                                 \n",
      " global_average_pooling2d (G  (None, 512)              0         \n",
      " lobalAveragePooling2D)                                          \n",
      "                                                                 \n",
      " dense_5 (Dense)             (None, 14)                7182      \n",
      "                                                                 \n",
      "=================================================================\n",
      "Total params: 14,721,870\n",
      "Trainable params: 12,986,382\n",
      "Non-trainable params: 1,735,488\n",
      "_________________________________________________________________\n"
     ]
    }
   ],
   "source": [
    "model = Sequential()\n",
    "\n",
    "for layer in base_model.layers:\n",
    "    model.add(layer)\n",
    "    \n",
    "for layer in model.layers:\n",
    "    if any(x in layer.name for x in ['block1', 'block2', 'block3']):\n",
    "        layer.trainable = False\n",
    "    \n",
    "model.add(GlobalAveragePooling2D())\n",
    "model.add(Dense(len(labels), activation='sigmoid'))\n",
    "    \n",
    "model.summary()"
   ]
  },
  {
   "cell_type": "code",
   "execution_count": 39,
   "metadata": {},
   "outputs": [],
   "source": [
    "model.compile(\n",
    "    optimizer='adam',\n",
    "    loss='binary_crossentropy',\n",
    "    metrics = [\n",
    "        AUC(curve='PR', multi_label=True, num_labels=len(labels)), \n",
    "        AUC(curve='ROC', multi_label=True, num_labels=len(labels))\n",
    "        ]\n",
    ")"
   ]
  },
  {
   "cell_type": "code",
   "execution_count": 40,
   "metadata": {},
   "outputs": [
    {
     "name": "stdout",
     "output_type": "stream",
     "text": [
      "Epoch 1/40\n"
     ]
    },
    {
     "name": "stderr",
     "output_type": "stream",
     "text": [
      "2022-06-04 11:19:24.899289: I tensorflow/core/grappler/optimizers/custom_graph_optimizer_registry.cc:113] Plugin optimizer for device_type GPU is enabled.\n"
     ]
    },
    {
     "name": "stdout",
     "output_type": "stream",
     "text": [
      "313/313 [==============================] - ETA: 0s - loss: 0.2065 - auc_10: 0.0505 - auc_11: 0.5399"
     ]
    },
    {
     "name": "stderr",
     "output_type": "stream",
     "text": [
      "2022-06-04 11:24:39.800055: I tensorflow/core/grappler/optimizers/custom_graph_optimizer_registry.cc:113] Plugin optimizer for device_type GPU is enabled.\n"
     ]
    },
    {
     "name": "stdout",
     "output_type": "stream",
     "text": [
      "\n",
      "Epoch 1: val_loss improved from inf to 0.16652, saving model to ./models/model-5.h5\n",
      "313/313 [==============================] - 347s 1s/step - loss: 0.2065 - auc_10: 0.0505 - auc_11: 0.5399 - val_loss: 0.1665 - val_auc_10: 0.0572 - val_auc_11: 0.5434 - lr: 0.0010\n",
      "Epoch 2/40\n",
      "313/313 [==============================] - ETA: 0s - loss: 0.1651 - auc_10: 0.0565 - auc_11: 0.5621\n",
      "Epoch 2: val_loss improved from 0.16652 to 0.16248, saving model to ./models/model-5.h5\n",
      "313/313 [==============================] - 343s 1s/step - loss: 0.1651 - auc_10: 0.0565 - auc_11: 0.5621 - val_loss: 0.1625 - val_auc_10: 0.0596 - val_auc_11: 0.5494 - lr: 0.0010\n",
      "Epoch 3/40\n",
      "313/313 [==============================] - ETA: 0s - loss: 0.1628 - auc_10: 0.0598 - auc_11: 0.5697\n",
      "Epoch 3: val_loss improved from 0.16248 to 0.16084, saving model to ./models/model-5.h5\n",
      "313/313 [==============================] - 343s 1s/step - loss: 0.1628 - auc_10: 0.0598 - auc_11: 0.5697 - val_loss: 0.1608 - val_auc_10: 0.0597 - val_auc_11: 0.5558 - lr: 0.0010\n",
      "Epoch 4/40\n",
      "313/313 [==============================] - ETA: 0s - loss: 0.1619 - auc_10: 0.0631 - auc_11: 0.5760\n",
      "Epoch 4: val_loss improved from 0.16084 to 0.16042, saving model to ./models/model-5.h5\n",
      "313/313 [==============================] - 343s 1s/step - loss: 0.1619 - auc_10: 0.0631 - auc_11: 0.5760 - val_loss: 0.1604 - val_auc_10: 0.0628 - val_auc_11: 0.5716 - lr: 0.0010\n",
      "Epoch 5/40\n",
      "313/313 [==============================] - ETA: 0s - loss: 0.1607 - auc_10: 0.0660 - auc_11: 0.5912\n",
      "Epoch 5: val_loss improved from 0.16042 to 0.15902, saving model to ./models/model-5.h5\n",
      "313/313 [==============================] - 343s 1s/step - loss: 0.1607 - auc_10: 0.0660 - auc_11: 0.5912 - val_loss: 0.1590 - val_auc_10: 0.0656 - val_auc_11: 0.5733 - lr: 0.0010\n",
      "Epoch 6/40\n",
      "313/313 [==============================] - ETA: 0s - loss: 0.1598 - auc_10: 0.0686 - auc_11: 0.5991\n",
      "Epoch 6: val_loss improved from 0.15902 to 0.15862, saving model to ./models/model-5.h5\n",
      "313/313 [==============================] - 343s 1s/step - loss: 0.1598 - auc_10: 0.0686 - auc_11: 0.5991 - val_loss: 0.1586 - val_auc_10: 0.0673 - val_auc_11: 0.5838 - lr: 0.0010\n",
      "Epoch 7/40\n",
      "313/313 [==============================] - ETA: 0s - loss: 0.1590 - auc_10: 0.0709 - auc_11: 0.6076\n",
      "Epoch 7: val_loss improved from 0.15862 to 0.15738, saving model to ./models/model-5.h5\n",
      "313/313 [==============================] - 342s 1s/step - loss: 0.1590 - auc_10: 0.0709 - auc_11: 0.6076 - val_loss: 0.1574 - val_auc_10: 0.0686 - val_auc_11: 0.5904 - lr: 0.0010\n",
      "Epoch 8/40\n",
      "313/313 [==============================] - ETA: 0s - loss: 0.1581 - auc_10: 0.0737 - auc_11: 0.6171\n",
      "Epoch 8: val_loss did not improve from 0.15738\n",
      "313/313 [==============================] - 343s 1s/step - loss: 0.1581 - auc_10: 0.0737 - auc_11: 0.6171 - val_loss: 0.1578 - val_auc_10: 0.0737 - val_auc_11: 0.6067 - lr: 0.0010\n",
      "Epoch 9/40\n",
      "313/313 [==============================] - ETA: 0s - loss: 0.1579 - auc_10: 0.0745 - auc_11: 0.6161\n",
      "Epoch 9: val_loss improved from 0.15738 to 0.15621, saving model to ./models/model-5.h5\n",
      "313/313 [==============================] - 342s 1s/step - loss: 0.1579 - auc_10: 0.0745 - auc_11: 0.6161 - val_loss: 0.1562 - val_auc_10: 0.0807 - val_auc_11: 0.6231 - lr: 0.0010\n",
      "Epoch 10/40\n",
      "313/313 [==============================] - ETA: 0s - loss: 0.1573 - auc_10: 0.0764 - auc_11: 0.6325\n",
      "Epoch 10: val_loss improved from 0.15621 to 0.15579, saving model to ./models/model-5.h5\n",
      "313/313 [==============================] - 342s 1s/step - loss: 0.1573 - auc_10: 0.0764 - auc_11: 0.6325 - val_loss: 0.1558 - val_auc_10: 0.0813 - val_auc_11: 0.6139 - lr: 0.0010\n",
      "Epoch 11/40\n",
      "313/313 [==============================] - ETA: 0s - loss: 0.1569 - auc_10: 0.0780 - auc_11: 0.6309\n",
      "Epoch 11: val_loss did not improve from 0.15579\n",
      "313/313 [==============================] - 342s 1s/step - loss: 0.1569 - auc_10: 0.0780 - auc_11: 0.6309 - val_loss: 0.1567 - val_auc_10: 0.0782 - val_auc_11: 0.6105 - lr: 0.0010\n",
      "Epoch 12/40\n",
      "313/313 [==============================] - ETA: 0s - loss: 0.1568 - auc_10: 0.0784 - auc_11: 0.6261\n",
      "Epoch 12: val_loss did not improve from 0.15579\n",
      "313/313 [==============================] - 342s 1s/step - loss: 0.1568 - auc_10: 0.0784 - auc_11: 0.6261 - val_loss: 0.1567 - val_auc_10: 0.0802 - val_auc_11: 0.6128 - lr: 0.0010\n",
      "Epoch 13/40\n",
      "313/313 [==============================] - ETA: 0s - loss: 0.1566 - auc_10: 0.0793 - auc_11: 0.6293\n",
      "Epoch 13: val_loss improved from 0.15579 to 0.15545, saving model to ./models/model-5.h5\n",
      "313/313 [==============================] - 342s 1s/step - loss: 0.1566 - auc_10: 0.0793 - auc_11: 0.6293 - val_loss: 0.1555 - val_auc_10: 0.0763 - val_auc_11: 0.6040 - lr: 0.0010\n",
      "Epoch 14/40\n",
      "313/313 [==============================] - ETA: 0s - loss: 0.1563 - auc_10: 0.0796 - auc_11: 0.6367\n",
      "Epoch 14: val_loss improved from 0.15545 to 0.15499, saving model to ./models/model-5.h5\n",
      "313/313 [==============================] - 343s 1s/step - loss: 0.1563 - auc_10: 0.0796 - auc_11: 0.6367 - val_loss: 0.1550 - val_auc_10: 0.0798 - val_auc_11: 0.6278 - lr: 0.0010\n",
      "Epoch 15/40\n",
      "313/313 [==============================] - ETA: 0s - loss: 0.1561 - auc_10: 0.0798 - auc_11: 0.6408\n",
      "Epoch 15: val_loss improved from 0.15499 to 0.15465, saving model to ./models/model-5.h5\n",
      "313/313 [==============================] - 342s 1s/step - loss: 0.1561 - auc_10: 0.0798 - auc_11: 0.6408 - val_loss: 0.1547 - val_auc_10: 0.0794 - val_auc_11: 0.6233 - lr: 0.0010\n",
      "Epoch 16/40\n",
      "313/313 [==============================] - ETA: 0s - loss: 0.1554 - auc_10: 0.0830 - auc_11: 0.6463\n",
      "Epoch 16: val_loss improved from 0.15465 to 0.15423, saving model to ./models/model-5.h5\n",
      "313/313 [==============================] - 342s 1s/step - loss: 0.1554 - auc_10: 0.0830 - auc_11: 0.6463 - val_loss: 0.1542 - val_auc_10: 0.0810 - val_auc_11: 0.6427 - lr: 0.0010\n",
      "Epoch 17/40\n",
      "313/313 [==============================] - ETA: 0s - loss: 0.1558 - auc_10: 0.0824 - auc_11: 0.6443\n",
      "Epoch 17: val_loss did not improve from 0.15423\n",
      "313/313 [==============================] - 343s 1s/step - loss: 0.1558 - auc_10: 0.0824 - auc_11: 0.6443 - val_loss: 0.1547 - val_auc_10: 0.0788 - val_auc_11: 0.6231 - lr: 0.0010\n",
      "Epoch 18/40\n",
      "313/313 [==============================] - ETA: 0s - loss: 0.1558 - auc_10: 0.0815 - auc_11: 0.6409\n",
      "Epoch 18: val_loss did not improve from 0.15423\n",
      "313/313 [==============================] - 343s 1s/step - loss: 0.1558 - auc_10: 0.0815 - auc_11: 0.6409 - val_loss: 0.1549 - val_auc_10: 0.0769 - val_auc_11: 0.6259 - lr: 0.0010\n",
      "Epoch 19/40\n",
      "313/313 [==============================] - ETA: 0s - loss: 0.1556 - auc_10: 0.0813 - auc_11: 0.6469\n",
      "Epoch 19: val_loss did not improve from 0.15423\n",
      "313/313 [==============================] - 343s 1s/step - loss: 0.1556 - auc_10: 0.0813 - auc_11: 0.6469 - val_loss: 0.1547 - val_auc_10: 0.0839 - val_auc_11: 0.6275 - lr: 0.0010\n",
      "Epoch 20/40\n",
      "313/313 [==============================] - ETA: 0s - loss: 0.1552 - auc_10: 0.0844 - auc_11: 0.6500\n",
      "Epoch 20: val_loss did not improve from 0.15423\n",
      "313/313 [==============================] - 343s 1s/step - loss: 0.1552 - auc_10: 0.0844 - auc_11: 0.6500 - val_loss: 0.1550 - val_auc_10: 0.0814 - val_auc_11: 0.6176 - lr: 0.0010\n",
      "Epoch 21/40\n",
      "313/313 [==============================] - ETA: 0s - loss: 0.1539 - auc_10: 0.0887 - auc_11: 0.6635\n",
      "Epoch 21: val_loss improved from 0.15423 to 0.15297, saving model to ./models/model-5.h5\n",
      "313/313 [==============================] - 342s 1s/step - loss: 0.1539 - auc_10: 0.0887 - auc_11: 0.6635 - val_loss: 0.1530 - val_auc_10: 0.0880 - val_auc_11: 0.6313 - lr: 2.0000e-04\n",
      "Epoch 22/40\n",
      "313/313 [==============================] - ETA: 0s - loss: 0.1535 - auc_10: 0.0899 - auc_11: 0.6658\n",
      "Epoch 22: val_loss did not improve from 0.15297\n",
      "313/313 [==============================] - 343s 1s/step - loss: 0.1535 - auc_10: 0.0899 - auc_11: 0.6658 - val_loss: 0.1537 - val_auc_10: 0.0833 - val_auc_11: 0.6291 - lr: 2.0000e-04\n",
      "Epoch 23/40\n",
      "313/313 [==============================] - ETA: 0s - loss: 0.1534 - auc_10: 0.0904 - auc_11: 0.6688\n",
      "Epoch 23: val_loss improved from 0.15297 to 0.15296, saving model to ./models/model-5.h5\n",
      "313/313 [==============================] - 343s 1s/step - loss: 0.1534 - auc_10: 0.0904 - auc_11: 0.6688 - val_loss: 0.1530 - val_auc_10: 0.0905 - val_auc_11: 0.6351 - lr: 2.0000e-04\n",
      "Epoch 24/40\n",
      "313/313 [==============================] - ETA: 0s - loss: 0.1535 - auc_10: 0.0902 - auc_11: 0.6714\n",
      "Epoch 24: val_loss improved from 0.15296 to 0.15233, saving model to ./models/model-5.h5\n",
      "313/313 [==============================] - 343s 1s/step - loss: 0.1535 - auc_10: 0.0902 - auc_11: 0.6714 - val_loss: 0.1523 - val_auc_10: 0.0908 - val_auc_11: 0.6439 - lr: 2.0000e-04\n",
      "Epoch 25/40\n",
      "313/313 [==============================] - ETA: 0s - loss: 0.1533 - auc_10: 0.0904 - auc_11: 0.6699\n",
      "Epoch 25: val_loss did not improve from 0.15233\n",
      "313/313 [==============================] - 343s 1s/step - loss: 0.1533 - auc_10: 0.0904 - auc_11: 0.6699 - val_loss: 0.1532 - val_auc_10: 0.0874 - val_auc_11: 0.6390 - lr: 2.0000e-04\n",
      "Epoch 26/40\n",
      "313/313 [==============================] - ETA: 0s - loss: 0.1532 - auc_10: 0.0915 - auc_11: 0.6754\n",
      "Epoch 26: val_loss did not improve from 0.15233\n",
      "313/313 [==============================] - 343s 1s/step - loss: 0.1532 - auc_10: 0.0915 - auc_11: 0.6754 - val_loss: 0.1530 - val_auc_10: 0.0896 - val_auc_11: 0.6362 - lr: 2.0000e-04\n",
      "Epoch 27/40\n",
      "313/313 [==============================] - ETA: 0s - loss: 0.1532 - auc_10: 0.0921 - auc_11: 0.6703\n",
      "Epoch 27: val_loss did not improve from 0.15233\n",
      "313/313 [==============================] - 343s 1s/step - loss: 0.1532 - auc_10: 0.0921 - auc_11: 0.6703 - val_loss: 0.1532 - val_auc_10: 0.0867 - val_auc_11: 0.6384 - lr: 2.0000e-04\n",
      "Epoch 28/40\n",
      "313/313 [==============================] - ETA: 0s - loss: 0.1534 - auc_10: 0.0904 - auc_11: 0.6724\n",
      "Epoch 28: val_loss did not improve from 0.15233\n",
      "313/313 [==============================] - 343s 1s/step - loss: 0.1534 - auc_10: 0.0904 - auc_11: 0.6724 - val_loss: 0.1530 - val_auc_10: 0.0890 - val_auc_11: 0.6379 - lr: 2.0000e-04\n",
      "Epoch 29/40\n",
      "313/313 [==============================] - ETA: 0s - loss: 0.1526 - auc_10: 0.0940 - auc_11: 0.6789\n",
      "Epoch 29: val_loss improved from 0.15233 to 0.15217, saving model to ./models/model-5.h5\n",
      "313/313 [==============================] - 343s 1s/step - loss: 0.1526 - auc_10: 0.0940 - auc_11: 0.6789 - val_loss: 0.1522 - val_auc_10: 0.0935 - val_auc_11: 0.6532 - lr: 4.0000e-05\n",
      "Epoch 30/40\n",
      "313/313 [==============================] - ETA: 0s - loss: 0.1526 - auc_10: 0.0931 - auc_11: 0.6770\n",
      "Epoch 30: val_loss did not improve from 0.15217\n",
      "313/313 [==============================] - 343s 1s/step - loss: 0.1526 - auc_10: 0.0931 - auc_11: 0.6770 - val_loss: 0.1526 - val_auc_10: 0.0886 - val_auc_11: 0.6454 - lr: 4.0000e-05\n",
      "Epoch 31/40\n",
      "313/313 [==============================] - ETA: 0s - loss: 0.1527 - auc_10: 0.0933 - auc_11: 0.6804\n",
      "Epoch 31: val_loss did not improve from 0.15217\n",
      "313/313 [==============================] - 343s 1s/step - loss: 0.1527 - auc_10: 0.0933 - auc_11: 0.6804 - val_loss: 0.1528 - val_auc_10: 0.0895 - val_auc_11: 0.6567 - lr: 4.0000e-05\n",
      "Epoch 32/40\n",
      "313/313 [==============================] - ETA: 0s - loss: 0.1525 - auc_10: 0.0954 - auc_11: 0.6809\n",
      "Epoch 32: val_loss did not improve from 0.15217\n",
      "313/313 [==============================] - 343s 1s/step - loss: 0.1525 - auc_10: 0.0954 - auc_11: 0.6809 - val_loss: 0.1523 - val_auc_10: 0.0904 - val_auc_11: 0.6396 - lr: 4.0000e-05\n",
      "Epoch 33/40\n",
      "313/313 [==============================] - ETA: 0s - loss: 0.1523 - auc_10: 0.0957 - auc_11: 0.6846\n",
      "Epoch 33: val_loss improved from 0.15217 to 0.15210, saving model to ./models/model-5.h5\n",
      "313/313 [==============================] - 343s 1s/step - loss: 0.1523 - auc_10: 0.0957 - auc_11: 0.6846 - val_loss: 0.1521 - val_auc_10: 0.0904 - val_auc_11: 0.6446 - lr: 4.0000e-05\n",
      "Epoch 34/40\n",
      "313/313 [==============================] - ETA: 0s - loss: 0.1526 - auc_10: 0.0930 - auc_11: 0.6832\n",
      "Epoch 34: val_loss improved from 0.15210 to 0.15193, saving model to ./models/model-5.h5\n",
      "313/313 [==============================] - 343s 1s/step - loss: 0.1526 - auc_10: 0.0930 - auc_11: 0.6832 - val_loss: 0.1519 - val_auc_10: 0.0895 - val_auc_11: 0.6401 - lr: 8.0000e-06\n",
      "Epoch 35/40\n",
      "313/313 [==============================] - ETA: 0s - loss: 0.1522 - auc_10: 0.0966 - auc_11: 0.6825\n",
      "Epoch 35: val_loss improved from 0.15193 to 0.15192, saving model to ./models/model-5.h5\n",
      "313/313 [==============================] - 343s 1s/step - loss: 0.1522 - auc_10: 0.0966 - auc_11: 0.6825 - val_loss: 0.1519 - val_auc_10: 0.0897 - val_auc_11: 0.6534 - lr: 8.0000e-06\n",
      "Epoch 36/40\n",
      "313/313 [==============================] - ETA: 0s - loss: 0.1524 - auc_10: 0.0951 - auc_11: 0.6839\n",
      "Epoch 36: val_loss did not improve from 0.15192\n",
      "313/313 [==============================] - 343s 1s/step - loss: 0.1524 - auc_10: 0.0951 - auc_11: 0.6839 - val_loss: 0.1523 - val_auc_10: 0.0903 - val_auc_11: 0.6585 - lr: 8.0000e-06\n",
      "Epoch 37/40\n",
      "313/313 [==============================] - ETA: 0s - loss: 0.1524 - auc_10: 0.0962 - auc_11: 0.6860\n",
      "Epoch 37: val_loss did not improve from 0.15192\n",
      "313/313 [==============================] - 343s 1s/step - loss: 0.1524 - auc_10: 0.0962 - auc_11: 0.6860 - val_loss: 0.1520 - val_auc_10: 0.0945 - val_auc_11: 0.6573 - lr: 8.0000e-06\n",
      "Epoch 38/40\n",
      "313/313 [==============================] - ETA: 0s - loss: 0.1527 - auc_10: 0.0943 - auc_11: 0.6780\n",
      "Epoch 38: val_loss did not improve from 0.15192\n",
      "313/313 [==============================] - 343s 1s/step - loss: 0.1527 - auc_10: 0.0943 - auc_11: 0.6780 - val_loss: 0.1521 - val_auc_10: 0.0882 - val_auc_11: 0.6571 - lr: 8.0000e-06\n",
      "Epoch 39/40\n",
      "313/313 [==============================] - ETA: 0s - loss: 0.1524 - auc_10: 0.0949 - auc_11: 0.6855\n",
      "Epoch 39: val_loss did not improve from 0.15192\n",
      "313/313 [==============================] - 343s 1s/step - loss: 0.1524 - auc_10: 0.0949 - auc_11: 0.6855 - val_loss: 0.1525 - val_auc_10: 0.0926 - val_auc_11: 0.6412 - lr: 1.6000e-06\n",
      "Epoch 40/40\n",
      "313/313 [==============================] - ETA: 0s - loss: 0.1523 - auc_10: 0.0956 - auc_11: 0.6880\n",
      "Epoch 40: val_loss did not improve from 0.15192\n",
      "313/313 [==============================] - 343s 1s/step - loss: 0.1523 - auc_10: 0.0956 - auc_11: 0.6880 - val_loss: 0.1523 - val_auc_10: 0.0886 - val_auc_11: 0.6494 - lr: 1.6000e-06\n"
     ]
    }
   ],
   "source": [
    "m = 5\n",
    "\n",
    "history[m] = model.fit(\n",
    "    train_gen[m], \n",
    "    validation_data=val_gen[m],\n",
    "    epochs = 40,\n",
    "    callbacks = [chkpt[m], early, reduce_lr]\n",
    ")"
   ]
  },
  {
   "cell_type": "code",
   "execution_count": 41,
   "metadata": {},
   "outputs": [
    {
     "data": {
      "image/png": "[encoded data removed]",
      "text/plain": [
       "<Figure size 1080x720 with 1 Axes>"
      ]
     },
     "metadata": {
      "needs_background": "light"
     },
     "output_type": "display_data"
    }
   ],
   "source": [
    "plot_losses(history[5])"
   ]
  },
  {
   "cell_type": "markdown",
   "metadata": {},
   "source": [
    "### Model 6"
   ]
  },
  {
   "cell_type": "code",
   "execution_count": 42,
   "metadata": {},
   "outputs": [
    {
     "name": "stdout",
     "output_type": "stream",
     "text": [
      "Model: \"sequential_6\"\n",
      "_________________________________________________________________\n",
      " Layer (type)                Output Shape              Param #   \n",
      "=================================================================\n",
      " block1_conv1 (Conv2D)       (None, 256, 256, 64)      1792      \n",
      "                                                                 \n",
      " block1_conv2 (Conv2D)       (None, 256, 256, 64)      36928     \n",
      "                                                                 \n",
      " block1_pool (MaxPooling2D)  (None, 128, 128, 64)      0         \n",
      "                                                                 \n",
      " block2_conv1 (Conv2D)       (None, 128, 128, 128)     73856     \n",
      "                                                                 \n",
      " block2_conv2 (Conv2D)       (None, 128, 128, 128)     147584    \n",
      "                                                                 \n",
      " block2_pool (MaxPooling2D)  (None, 64, 64, 128)       0         \n",
      "                                                                 \n",
      " block3_conv1 (Conv2D)       (None, 64, 64, 256)       295168    \n",
      "                                                                 \n",
      " block3_conv2 (Conv2D)       (None, 64, 64, 256)       590080    \n",
      "                                                                 \n",
      " block3_conv3 (Conv2D)       (None, 64, 64, 256)       590080    \n",
      "                                                                 \n",
      " block3_pool (MaxPooling2D)  (None, 32, 32, 256)       0         \n",
      "                                                                 \n",
      " block4_conv1 (Conv2D)       (None, 32, 32, 512)       1180160   \n",
      "                                                                 \n",
      " block4_conv2 (Conv2D)       (None, 32, 32, 512)       2359808   \n",
      "                                                                 \n",
      " block4_conv3 (Conv2D)       (None, 32, 32, 512)       2359808   \n",
      "                                                                 \n",
      " block4_pool (MaxPooling2D)  (None, 16, 16, 512)       0         \n",
      "                                                                 \n",
      " block5_conv1 (Conv2D)       (None, 16, 16, 512)       2359808   \n",
      "                                                                 \n",
      " block5_conv2 (Conv2D)       (None, 16, 16, 512)       2359808   \n",
      "                                                                 \n",
      " block5_conv3 (Conv2D)       (None, 16, 16, 512)       2359808   \n",
      "                                                                 \n",
      " block5_pool (MaxPooling2D)  (None, 8, 8, 512)         0         \n",
      "                                                                 \n",
      " flatten_5 (Flatten)         (None, 32768)             0         \n",
      "                                                                 \n",
      " dense_6 (Dense)             (None, 14)                458766    \n",
      "                                                                 \n",
      "=================================================================\n",
      "Total params: 15,173,454\n",
      "Trainable params: 13,437,966\n",
      "Non-trainable params: 1,735,488\n",
      "_________________________________________________________________\n"
     ]
    }
   ],
   "source": [
    "model = Sequential()\n",
    "\n",
    "for layer in base_model.layers:\n",
    "    model.add(layer)\n",
    "    \n",
    "for layer in model.layers:\n",
    "    if any(x in layer.name for x in ['block1', 'block2', 'block3']):\n",
    "        layer.trainable = False\n",
    "    \n",
    "model.add(Flatten())\n",
    "model.add(Dense(len(labels), activation='sigmoid'))\n",
    "    \n",
    "model.summary()"
   ]
  },
  {
   "cell_type": "code",
   "execution_count": 43,
   "metadata": {},
   "outputs": [],
   "source": [
    "model.compile(\n",
    "    optimizer='adam',\n",
    "    loss=get_weighted_loss(pos, neg),\n",
    "    metrics = [\n",
    "        AUC(curve='PR', multi_label=True, num_labels=len(labels)), \n",
    "        AUC(curve='ROC', multi_label=True, num_labels=len(labels))\n",
    "        ]\n",
    ")"
   ]
  },
  {
   "cell_type": "code",
   "execution_count": 44,
   "metadata": {},
   "outputs": [
    {
     "name": "stdout",
     "output_type": "stream",
     "text": [
      "Epoch 1/40\n"
     ]
    },
    {
     "name": "stderr",
     "output_type": "stream",
     "text": [
      "2022-06-04 15:08:00.583628: I tensorflow/core/grappler/optimizers/custom_graph_optimizer_registry.cc:113] Plugin optimizer for device_type GPU is enabled.\n"
     ]
    },
    {
     "name": "stdout",
     "output_type": "stream",
     "text": [
      "313/313 [==============================] - ETA: 0s - loss: 9.8656 - auc_12: 0.0556 - auc_13: 0.5634"
     ]
    },
    {
     "name": "stderr",
     "output_type": "stream",
     "text": [
      "2022-06-04 15:13:16.083194: I tensorflow/core/grappler/optimizers/custom_graph_optimizer_registry.cc:113] Plugin optimizer for device_type GPU is enabled.\n"
     ]
    },
    {
     "name": "stdout",
     "output_type": "stream",
     "text": [
      "\n",
      "Epoch 1: val_loss improved from inf to 9.47988, saving model to ./models/model-6.h5\n",
      "313/313 [==============================] - 349s 1s/step - loss: 9.8656 - auc_12: 0.0556 - auc_13: 0.5634 - val_loss: 9.4799 - val_auc_12: 0.0586 - val_auc_13: 0.5943 - lr: 0.0010\n",
      "Epoch 2/40\n",
      "313/313 [==============================] - ETA: 0s - loss: 9.6978 - auc_12: 0.0572 - auc_13: 0.5649\n",
      "Epoch 2: val_loss did not improve from 9.47988\n",
      "313/313 [==============================] - 346s 1s/step - loss: 9.6978 - auc_12: 0.0572 - auc_13: 0.5649 - val_loss: 9.6242 - val_auc_12: 0.0441 - val_auc_13: 0.4941 - lr: 0.0010\n",
      "Epoch 3/40\n",
      "313/313 [==============================] - ETA: 0s - loss: 9.7170 - auc_12: 0.0446 - auc_13: 0.4975\n",
      "Epoch 3: val_loss did not improve from 9.47988\n",
      "313/313 [==============================] - 345s 1s/step - loss: 9.7170 - auc_12: 0.0446 - auc_13: 0.4975 - val_loss: 9.6017 - val_auc_12: 0.0487 - val_auc_13: 0.5204 - lr: 0.0010\n",
      "Epoch 4/40\n",
      "313/313 [==============================] - ETA: 0s - loss: 9.5842 - auc_12: 0.0561 - auc_13: 0.5589\n",
      "Epoch 4: val_loss did not improve from 9.47988\n",
      "313/313 [==============================] - 344s 1s/step - loss: 9.5842 - auc_12: 0.0561 - auc_13: 0.5589 - val_loss: 9.7148 - val_auc_12: 0.0611 - val_auc_13: 0.5676 - lr: 0.0010\n",
      "Epoch 5/40\n",
      "313/313 [==============================] - ETA: 0s - loss: 9.5539 - auc_12: 0.0600 - auc_13: 0.5720\n",
      "Epoch 5: val_loss did not improve from 9.47988\n",
      "313/313 [==============================] - 345s 1s/step - loss: 9.5539 - auc_12: 0.0600 - auc_13: 0.5720 - val_loss: 9.5598 - val_auc_12: 0.0548 - val_auc_13: 0.5480 - lr: 0.0010\n",
      "Epoch 6/40\n",
      "313/313 [==============================] - ETA: 0s - loss: 9.4619 - auc_12: 0.0624 - auc_13: 0.5875\n",
      "Epoch 6: val_loss improved from 9.47988 to 9.45780, saving model to ./models/model-6.h5\n",
      "313/313 [==============================] - 345s 1s/step - loss: 9.4619 - auc_12: 0.0624 - auc_13: 0.5875 - val_loss: 9.4578 - val_auc_12: 0.0571 - val_auc_13: 0.5685 - lr: 2.0000e-04\n",
      "Epoch 7/40\n",
      "313/313 [==============================] - ETA: 0s - loss: 9.4390 - auc_12: 0.0638 - auc_13: 0.5916\n",
      "Epoch 7: val_loss improved from 9.45780 to 9.45311, saving model to ./models/model-6.h5\n",
      "313/313 [==============================] - 346s 1s/step - loss: 9.4390 - auc_12: 0.0638 - auc_13: 0.5916 - val_loss: 9.4531 - val_auc_12: 0.0608 - val_auc_13: 0.5834 - lr: 2.0000e-04\n",
      "Epoch 8/40\n",
      "313/313 [==============================] - ETA: 0s - loss: 9.4312 - auc_12: 0.0631 - auc_13: 0.5955\n",
      "Epoch 8: val_loss improved from 9.45311 to 9.41431, saving model to ./models/model-6.h5\n",
      "313/313 [==============================] - 346s 1s/step - loss: 9.4312 - auc_12: 0.0631 - auc_13: 0.5955 - val_loss: 9.4143 - val_auc_12: 0.0608 - val_auc_13: 0.5794 - lr: 2.0000e-04\n",
      "Epoch 9/40\n",
      "313/313 [==============================] - ETA: 0s - loss: 9.4154 - auc_12: 0.0644 - auc_13: 0.6007\n",
      "Epoch 9: val_loss did not improve from 9.41431\n",
      "313/313 [==============================] - 346s 1s/step - loss: 9.4154 - auc_12: 0.0644 - auc_13: 0.6007 - val_loss: 9.4207 - val_auc_12: 0.0591 - val_auc_13: 0.5827 - lr: 2.0000e-04\n",
      "Epoch 10/40\n",
      "313/313 [==============================] - ETA: 0s - loss: 9.4029 - auc_12: 0.0642 - auc_13: 0.6029\n",
      "Epoch 10: val_loss did not improve from 9.41431\n",
      "313/313 [==============================] - 346s 1s/step - loss: 9.4029 - auc_12: 0.0642 - auc_13: 0.6029 - val_loss: 9.4163 - val_auc_12: 0.0615 - val_auc_13: 0.5785 - lr: 2.0000e-04\n",
      "Epoch 11/40\n",
      "313/313 [==============================] - ETA: 0s - loss: 9.4029 - auc_12: 0.0642 - auc_13: 0.6013\n",
      "Epoch 11: val_loss did not improve from 9.41431\n",
      "313/313 [==============================] - 346s 1s/step - loss: 9.4029 - auc_12: 0.0642 - auc_13: 0.6013 - val_loss: 9.4866 - val_auc_12: 0.0610 - val_auc_13: 0.5849 - lr: 2.0000e-04\n",
      "Epoch 12/40\n",
      "313/313 [==============================] - ETA: 0s - loss: 9.3864 - auc_12: 0.0644 - auc_13: 0.6052\n",
      "Epoch 12: val_loss did not improve from 9.41431\n",
      "313/313 [==============================] - 346s 1s/step - loss: 9.3864 - auc_12: 0.0644 - auc_13: 0.6052 - val_loss: 9.4615 - val_auc_12: 0.0623 - val_auc_13: 0.5752 - lr: 2.0000e-04\n",
      "Epoch 13/40\n",
      "313/313 [==============================] - ETA: 0s - loss: 9.3633 - auc_12: 0.0665 - auc_13: 0.6087\n",
      "Epoch 13: val_loss did not improve from 9.41431\n",
      "313/313 [==============================] - 346s 1s/step - loss: 9.3633 - auc_12: 0.0665 - auc_13: 0.6087 - val_loss: 9.5461 - val_auc_12: 0.0605 - val_auc_13: 0.5467 - lr: 4.0000e-05\n",
      "Epoch 14/40\n",
      "313/313 [==============================] - ETA: 0s - loss: 9.3565 - auc_12: 0.0665 - auc_13: 0.6118\n",
      "Epoch 14: val_loss did not improve from 9.41431\n",
      "313/313 [==============================] - 346s 1s/step - loss: 9.3565 - auc_12: 0.0665 - auc_13: 0.6118 - val_loss: 9.4313 - val_auc_12: 0.0636 - val_auc_13: 0.5732 - lr: 4.0000e-05\n",
      "Epoch 15/40\n",
      "313/313 [==============================] - ETA: 0s - loss: 9.3200 - auc_12: 0.0662 - auc_13: 0.6174\n",
      "Epoch 15: val_loss improved from 9.41431 to 9.41149, saving model to ./models/model-6.h5\n",
      "313/313 [==============================] - 346s 1s/step - loss: 9.3200 - auc_12: 0.0662 - auc_13: 0.6174 - val_loss: 9.4115 - val_auc_12: 0.0609 - val_auc_13: 0.5973 - lr: 4.0000e-05\n",
      "Epoch 16/40\n",
      "313/313 [==============================] - ETA: 0s - loss: 9.3193 - auc_12: 0.0668 - auc_13: 0.6181\n",
      "Epoch 16: val_loss did not improve from 9.41149\n",
      "313/313 [==============================] - 346s 1s/step - loss: 9.3193 - auc_12: 0.0668 - auc_13: 0.6181 - val_loss: 9.4389 - val_auc_12: 0.0640 - val_auc_13: 0.5918 - lr: 4.0000e-05\n",
      "Epoch 17/40\n",
      "313/313 [==============================] - ETA: 0s - loss: 9.3140 - auc_12: 0.0671 - auc_13: 0.6184\n",
      "Epoch 17: val_loss did not improve from 9.41149\n",
      "313/313 [==============================] - 346s 1s/step - loss: 9.3140 - auc_12: 0.0671 - auc_13: 0.6184 - val_loss: 9.4368 - val_auc_12: 0.0637 - val_auc_13: 0.5873 - lr: 4.0000e-05\n",
      "Epoch 18/40\n",
      "313/313 [==============================] - ETA: 0s - loss: 9.3108 - auc_12: 0.0665 - auc_13: 0.6197\n",
      "Epoch 18: val_loss did not improve from 9.41149\n",
      "313/313 [==============================] - 346s 1s/step - loss: 9.3108 - auc_12: 0.0665 - auc_13: 0.6197 - val_loss: 9.4700 - val_auc_12: 0.0621 - val_auc_13: 0.5771 - lr: 4.0000e-05\n",
      "Epoch 19/40\n",
      "313/313 [==============================] - ETA: 0s - loss: 9.3049 - auc_12: 0.0670 - auc_13: 0.6198\n",
      "Epoch 19: val_loss improved from 9.41149 to 9.39841, saving model to ./models/model-6.h5\n",
      "313/313 [==============================] - 346s 1s/step - loss: 9.3049 - auc_12: 0.0670 - auc_13: 0.6198 - val_loss: 9.3984 - val_auc_12: 0.0644 - val_auc_13: 0.5880 - lr: 4.0000e-05\n",
      "Epoch 20/40\n",
      "313/313 [==============================] - ETA: 0s - loss: 9.3006 - auc_12: 0.0670 - auc_13: 0.6197\n",
      "Epoch 20: val_loss did not improve from 9.39841\n",
      "313/313 [==============================] - 346s 1s/step - loss: 9.3006 - auc_12: 0.0670 - auc_13: 0.6197 - val_loss: 9.4485 - val_auc_12: 0.0590 - val_auc_13: 0.5791 - lr: 4.0000e-05\n",
      "Epoch 21/40\n",
      "313/313 [==============================] - ETA: 0s - loss: 9.2925 - auc_12: 0.0680 - auc_13: 0.6250\n",
      "Epoch 21: val_loss did not improve from 9.39841\n",
      "313/313 [==============================] - 346s 1s/step - loss: 9.2925 - auc_12: 0.0680 - auc_13: 0.6250 - val_loss: 9.4843 - val_auc_12: 0.0624 - val_auc_13: 0.5735 - lr: 4.0000e-05\n",
      "Epoch 22/40\n",
      "313/313 [==============================] - ETA: 0s - loss: 9.3254 - auc_12: 0.0672 - auc_13: 0.6174\n",
      "Epoch 22: val_loss did not improve from 9.39841\n",
      "313/313 [==============================] - 346s 1s/step - loss: 9.3254 - auc_12: 0.0672 - auc_13: 0.6174 - val_loss: 9.4199 - val_auc_12: 0.0628 - val_auc_13: 0.5812 - lr: 4.0000e-05\n",
      "Epoch 23/40\n",
      "313/313 [==============================] - ETA: 0s - loss: 9.3248 - auc_12: 0.0666 - auc_13: 0.6169\n",
      "Epoch 23: val_loss improved from 9.39841 to 9.29719, saving model to ./models/model-6.h5\n",
      "313/313 [==============================] - 346s 1s/step - loss: 9.3248 - auc_12: 0.0666 - auc_13: 0.6169 - val_loss: 9.2972 - val_auc_12: 0.0656 - val_auc_13: 0.6018 - lr: 4.0000e-05\n",
      "Epoch 24/40\n",
      "313/313 [==============================] - ETA: 0s - loss: 9.2898 - auc_12: 0.0682 - auc_13: 0.6240\n",
      "Epoch 24: val_loss did not improve from 9.29719\n",
      "313/313 [==============================] - 346s 1s/step - loss: 9.2898 - auc_12: 0.0682 - auc_13: 0.6240 - val_loss: 9.3594 - val_auc_12: 0.0636 - val_auc_13: 0.5918 - lr: 4.0000e-05\n",
      "Epoch 25/40\n",
      "313/313 [==============================] - ETA: 0s - loss: 9.2687 - auc_12: 0.0690 - auc_13: 0.6239\n",
      "Epoch 25: val_loss did not improve from 9.29719\n",
      "313/313 [==============================] - 346s 1s/step - loss: 9.2687 - auc_12: 0.0690 - auc_13: 0.6239 - val_loss: 9.3519 - val_auc_12: 0.0623 - val_auc_13: 0.5944 - lr: 4.0000e-05\n",
      "Epoch 26/40\n",
      "313/313 [==============================] - ETA: 0s - loss: 9.2843 - auc_12: 0.0678 - auc_13: 0.6225\n",
      "Epoch 26: val_loss did not improve from 9.29719\n",
      "313/313 [==============================] - 346s 1s/step - loss: 9.2843 - auc_12: 0.0678 - auc_13: 0.6225 - val_loss: 9.3503 - val_auc_12: 0.0642 - val_auc_13: 0.5903 - lr: 4.0000e-05\n",
      "Epoch 27/40\n",
      "313/313 [==============================] - ETA: 0s - loss: 9.2837 - auc_12: 0.0684 - auc_13: 0.6234\n",
      "Epoch 27: val_loss did not improve from 9.29719\n",
      "313/313 [==============================] - 346s 1s/step - loss: 9.2837 - auc_12: 0.0684 - auc_13: 0.6234 - val_loss: 9.3420 - val_auc_12: 0.0646 - val_auc_13: 0.5894 - lr: 4.0000e-05\n",
      "Epoch 28/40\n",
      "313/313 [==============================] - ETA: 0s - loss: 9.2806 - auc_12: 0.0695 - auc_13: 0.6223\n",
      "Epoch 28: val_loss did not improve from 9.29719\n",
      "313/313 [==============================] - 346s 1s/step - loss: 9.2806 - auc_12: 0.0695 - auc_13: 0.6223 - val_loss: 9.3567 - val_auc_12: 0.0630 - val_auc_13: 0.5944 - lr: 8.0000e-06\n",
      "Epoch 29/40\n",
      "313/313 [==============================] - ETA: 0s - loss: 9.2804 - auc_12: 0.0673 - auc_13: 0.6236\n",
      "Epoch 29: val_loss did not improve from 9.29719\n",
      "313/313 [==============================] - 346s 1s/step - loss: 9.2804 - auc_12: 0.0673 - auc_13: 0.6236 - val_loss: 9.3727 - val_auc_12: 0.0619 - val_auc_13: 0.5982 - lr: 8.0000e-06\n",
      "Epoch 30/40\n",
      "313/313 [==============================] - ETA: 0s - loss: 9.2622 - auc_12: 0.0688 - auc_13: 0.6262\n",
      "Epoch 30: val_loss did not improve from 9.29719\n",
      "313/313 [==============================] - 347s 1s/step - loss: 9.2622 - auc_12: 0.0688 - auc_13: 0.6262 - val_loss: 9.3361 - val_auc_12: 0.0662 - val_auc_13: 0.5969 - lr: 8.0000e-06\n",
      "Epoch 31/40\n",
      "313/313 [==============================] - ETA: 0s - loss: 9.2822 - auc_12: 0.0690 - auc_13: 0.6226\n",
      "Epoch 31: val_loss did not improve from 9.29719\n",
      "313/313 [==============================] - 346s 1s/step - loss: 9.2822 - auc_12: 0.0690 - auc_13: 0.6226 - val_loss: 9.3551 - val_auc_12: 0.0646 - val_auc_13: 0.6031 - lr: 8.0000e-06\n"
     ]
    }
   ],
   "source": [
    "m = 6\n",
    "\n",
    "history[m] = model.fit(\n",
    "    train_gen[m], \n",
    "    validation_data=val_gen[m],\n",
    "    epochs = 40,\n",
    "    callbacks = [chkpt[m], early, reduce_lr]\n",
    ")"
   ]
  },
  {
   "cell_type": "code",
   "execution_count": 45,
   "metadata": {},
   "outputs": [
    {
     "data": {
      "image/png": "[encoded data removed]",
      "text/plain": [
       "<Figure size 1080x720 with 1 Axes>"
      ]
     },
     "metadata": {
      "needs_background": "light"
     },
     "output_type": "display_data"
    }
   ],
   "source": [
    "plot_losses(history[6])"
   ]
  },
  {
   "cell_type": "markdown",
   "metadata": {},
   "source": [
    "### Model 7"
   ]
  },
  {
   "cell_type": "code",
   "execution_count": 46,
   "metadata": {},
   "outputs": [
    {
     "name": "stdout",
     "output_type": "stream",
     "text": [
      "Model: \"sequential_7\"\n",
      "_________________________________________________________________\n",
      " Layer (type)                Output Shape              Param #   \n",
      "=================================================================\n",
      " block1_conv1 (Conv2D)       (None, 256, 256, 64)      1792      \n",
      "                                                                 \n",
      " block1_conv2 (Conv2D)       (None, 256, 256, 64)      36928     \n",
      "                                                                 \n",
      " block1_pool (MaxPooling2D)  (None, 128, 128, 64)      0         \n",
      "                                                                 \n",
      " block2_conv1 (Conv2D)       (None, 128, 128, 128)     73856     \n",
      "                                                                 \n",
      " block2_conv2 (Conv2D)       (None, 128, 128, 128)     147584    \n",
      "                                                                 \n",
      " block2_pool (MaxPooling2D)  (None, 64, 64, 128)       0         \n",
      "                                                                 \n",
      " block3_conv1 (Conv2D)       (None, 64, 64, 256)       295168    \n",
      "                                                                 \n",
      " block3_conv2 (Conv2D)       (None, 64, 64, 256)       590080    \n",
      "                                                                 \n",
      " block3_conv3 (Conv2D)       (None, 64, 64, 256)       590080    \n",
      "                                                                 \n",
      " block3_pool (MaxPooling2D)  (None, 32, 32, 256)       0         \n",
      "                                                                 \n",
      " block4_conv1 (Conv2D)       (None, 32, 32, 512)       1180160   \n",
      "                                                                 \n",
      " block4_conv2 (Conv2D)       (None, 32, 32, 512)       2359808   \n",
      "                                                                 \n",
      " block4_conv3 (Conv2D)       (None, 32, 32, 512)       2359808   \n",
      "                                                                 \n",
      " block4_pool (MaxPooling2D)  (None, 16, 16, 512)       0         \n",
      "                                                                 \n",
      " block5_conv1 (Conv2D)       (None, 16, 16, 512)       2359808   \n",
      "                                                                 \n",
      " block5_conv2 (Conv2D)       (None, 16, 16, 512)       2359808   \n",
      "                                                                 \n",
      " block5_conv3 (Conv2D)       (None, 16, 16, 512)       2359808   \n",
      "                                                                 \n",
      " block5_pool (MaxPooling2D)  (None, 8, 8, 512)         0         \n",
      "                                                                 \n",
      " flatten_6 (Flatten)         (None, 32768)             0         \n",
      "                                                                 \n",
      " dense_7 (Dense)             (None, 14)                458766    \n",
      "                                                                 \n",
      "=================================================================\n",
      "Total params: 15,173,454\n",
      "Trainable params: 15,173,454\n",
      "Non-trainable params: 0\n",
      "_________________________________________________________________\n"
     ]
    }
   ],
   "source": [
    "model = Sequential()\n",
    "\n",
    "for layer in base_model.layers:\n",
    "    model.add(layer)\n",
    "    \n",
    "for layer in model.layers:\n",
    "    layer.trainable = True\n",
    "    \n",
    "model.add(Flatten())\n",
    "model.add(Dense(len(labels), activation='sigmoid'))\n",
    "    \n",
    "model.summary()"
   ]
  },
  {
   "cell_type": "code",
   "execution_count": 47,
   "metadata": {},
   "outputs": [],
   "source": [
    "model.compile(\n",
    "    optimizer='adam',\n",
    "    loss=get_weighted_loss(pos, neg),\n",
    "    metrics = [\n",
    "        AUC(curve='PR', multi_label=True, num_labels=len(labels)), \n",
    "        AUC(curve='ROC', multi_label=True, num_labels=len(labels))\n",
    "        ]\n",
    ")"
   ]
  },
  {
   "cell_type": "code",
   "execution_count": 48,
   "metadata": {},
   "outputs": [
    {
     "name": "stdout",
     "output_type": "stream",
     "text": [
      "Epoch 1/40\n"
     ]
    },
    {
     "name": "stderr",
     "output_type": "stream",
     "text": [
      "2022-06-04 18:06:50.701144: I tensorflow/core/grappler/optimizers/custom_graph_optimizer_registry.cc:113] Plugin optimizer for device_type GPU is enabled.\n"
     ]
    },
    {
     "name": "stdout",
     "output_type": "stream",
     "text": [
      "313/313 [==============================] - ETA: 0s - loss: 9.7243 - auc_14: 0.0458 - auc_15: 0.5011"
     ]
    },
    {
     "name": "stderr",
     "output_type": "stream",
     "text": [
      "2022-06-04 18:14:31.504313: I tensorflow/core/grappler/optimizers/custom_graph_optimizer_registry.cc:113] Plugin optimizer for device_type GPU is enabled.\n"
     ]
    },
    {
     "name": "stdout",
     "output_type": "stream",
     "text": [
      "\n",
      "Epoch 1: val_loss improved from inf to 9.59836, saving model to ./models/model-7.h5\n",
      "313/313 [==============================] - 494s 2s/step - loss: 9.7243 - auc_14: 0.0458 - auc_15: 0.5011 - val_loss: 9.5984 - val_auc_14: 0.0440 - val_auc_15: 0.5000 - lr: 0.0010\n",
      "Epoch 2/40\n",
      "313/313 [==============================] - ETA: 0s - loss: 9.7055 - auc_14: 0.0439 - auc_15: 0.4898\n",
      "Epoch 2: val_loss improved from 9.59836 to 9.59829, saving model to ./models/model-7.h5\n",
      "313/313 [==============================] - 488s 2s/step - loss: 9.7055 - auc_14: 0.0439 - auc_15: 0.4898 - val_loss: 9.5983 - val_auc_14: 0.0440 - val_auc_15: 0.5000 - lr: 0.0010\n",
      "Epoch 3/40\n",
      "313/313 [==============================] - ETA: 0s - loss: 9.7055 - auc_14: 0.0441 - auc_15: 0.4909\n",
      "Epoch 3: val_loss did not improve from 9.59829\n",
      "313/313 [==============================] - 488s 2s/step - loss: 9.7055 - auc_14: 0.0441 - auc_15: 0.4909 - val_loss: 9.5985 - val_auc_14: 0.0440 - val_auc_15: 0.5000 - lr: 0.0010\n",
      "Epoch 4/40\n",
      "313/313 [==============================] - ETA: 0s - loss: 9.7054 - auc_14: 0.0442 - auc_15: 0.4979\n",
      "Epoch 4: val_loss improved from 9.59829 to 9.59820, saving model to ./models/model-7.h5\n",
      "313/313 [==============================] - 489s 2s/step - loss: 9.7054 - auc_14: 0.0442 - auc_15: 0.4979 - val_loss: 9.5982 - val_auc_14: 0.0440 - val_auc_15: 0.5000 - lr: 0.0010\n",
      "Epoch 5/40\n",
      "313/313 [==============================] - ETA: 0s - loss: 9.7054 - auc_14: 0.0441 - auc_15: 0.4932\n",
      "Epoch 5: val_loss improved from 9.59820 to 9.59797, saving model to ./models/model-7.h5\n",
      "313/313 [==============================] - 488s 2s/step - loss: 9.7054 - auc_14: 0.0441 - auc_15: 0.4932 - val_loss: 9.5980 - val_auc_14: 0.0440 - val_auc_15: 0.5000 - lr: 0.0010\n",
      "Epoch 6/40\n",
      "313/313 [==============================] - ETA: 0s - loss: 9.7056 - auc_14: 0.0442 - auc_15: 0.4951\n",
      "Epoch 6: val_loss improved from 9.59797 to 9.59737, saving model to ./models/model-7.h5\n",
      "313/313 [==============================] - 488s 2s/step - loss: 9.7056 - auc_14: 0.0442 - auc_15: 0.4951 - val_loss: 9.5974 - val_auc_14: 0.0440 - val_auc_15: 0.5000 - lr: 0.0010\n",
      "Epoch 7/40\n",
      "313/313 [==============================] - ETA: 0s - loss: 9.7056 - auc_14: 0.0438 - auc_15: 0.4930\n",
      "Epoch 7: val_loss did not improve from 9.59737\n",
      "313/313 [==============================] - 488s 2s/step - loss: 9.7056 - auc_14: 0.0438 - auc_15: 0.4930 - val_loss: 9.5977 - val_auc_14: 0.0440 - val_auc_15: 0.5000 - lr: 0.0010\n",
      "Epoch 8/40\n",
      "313/313 [==============================] - ETA: 0s - loss: 9.7054 - auc_14: 0.0444 - auc_15: 0.4958\n",
      "Epoch 8: val_loss did not improve from 9.59737\n",
      "313/313 [==============================] - 488s 2s/step - loss: 9.7054 - auc_14: 0.0444 - auc_15: 0.4958 - val_loss: 9.5976 - val_auc_14: 0.0440 - val_auc_15: 0.5000 - lr: 0.0010\n",
      "Epoch 9/40\n",
      "313/313 [==============================] - ETA: 0s - loss: 9.7057 - auc_14: 0.0439 - auc_15: 0.4937\n",
      "Epoch 9: val_loss did not improve from 9.59737\n",
      "313/313 [==============================] - 488s 2s/step - loss: 9.7057 - auc_14: 0.0439 - auc_15: 0.4937 - val_loss: 9.5974 - val_auc_14: 0.0440 - val_auc_15: 0.5000 - lr: 0.0010\n",
      "Epoch 10/40\n",
      "313/313 [==============================] - ETA: 0s - loss: 9.7057 - auc_14: 0.0438 - auc_15: 0.4913\n",
      "Epoch 10: val_loss did not improve from 9.59737\n",
      "313/313 [==============================] - 488s 2s/step - loss: 9.7057 - auc_14: 0.0438 - auc_15: 0.4913 - val_loss: 9.5979 - val_auc_14: 0.0440 - val_auc_15: 0.5000 - lr: 0.0010\n",
      "Epoch 11/40\n",
      "313/313 [==============================] - ETA: 0s - loss: 9.7044 - auc_14: 0.0447 - auc_15: 0.5000\n",
      "Epoch 11: val_loss did not improve from 9.59737\n",
      "313/313 [==============================] - 488s 2s/step - loss: 9.7044 - auc_14: 0.0447 - auc_15: 0.5000 - val_loss: 9.5978 - val_auc_14: 0.0440 - val_auc_15: 0.5000 - lr: 2.0000e-04\n",
      "Epoch 12/40\n",
      "313/313 [==============================] - ETA: 0s - loss: 9.7044 - auc_14: 0.0447 - auc_15: 0.5000\n",
      "Epoch 12: val_loss did not improve from 9.59737\n",
      "313/313 [==============================] - 489s 2s/step - loss: 9.7044 - auc_14: 0.0447 - auc_15: 0.5000 - val_loss: 9.5978 - val_auc_14: 0.0440 - val_auc_15: 0.5000 - lr: 2.0000e-04\n",
      "Epoch 13/40\n",
      "313/313 [==============================] - ETA: 0s - loss: 9.7043 - auc_14: 0.0447 - auc_15: 0.5000\n",
      "Epoch 13: val_loss did not improve from 9.59737\n",
      "313/313 [==============================] - 488s 2s/step - loss: 9.7043 - auc_14: 0.0447 - auc_15: 0.5000 - val_loss: 9.5977 - val_auc_14: 0.0440 - val_auc_15: 0.5000 - lr: 2.0000e-04\n",
      "Epoch 14/40\n",
      "313/313 [==============================] - ETA: 0s - loss: 9.7043 - auc_14: 0.0447 - auc_15: 0.5000\n",
      "Epoch 14: val_loss did not improve from 9.59737\n",
      "313/313 [==============================] - 488s 2s/step - loss: 9.7043 - auc_14: 0.0447 - auc_15: 0.5000 - val_loss: 9.5977 - val_auc_14: 0.0440 - val_auc_15: 0.5000 - lr: 2.0000e-04\n"
     ]
    }
   ],
   "source": [
    "m = 7\n",
    "\n",
    "history[m] = model.fit(\n",
    "    train_gen[m], \n",
    "    validation_data=val_gen[m],\n",
    "    epochs = 40,\n",
    "    callbacks = [chkpt[m], early, reduce_lr]\n",
    ")"
   ]
  },
  {
   "cell_type": "code",
   "execution_count": 49,
   "metadata": {},
   "outputs": [
    {
     "data": {
      "image/png": "[encoded data removed]",
      "text/plain": [
       "<Figure size 1080x720 with 1 Axes>"
      ]
     },
     "metadata": {
      "needs_background": "light"
     },
     "output_type": "display_data"
    }
   ],
   "source": [
    "plot_losses(history[7])"
   ]
  },
  {
   "cell_type": "markdown",
   "metadata": {},
   "source": [
    "## Model Evaluation\n",
    "---"
   ]
  },
  {
   "cell_type": "code",
   "execution_count": 50,
   "metadata": {},
   "outputs": [],
   "source": [
    "import csv\n",
    "from tensorflow.keras.models import load_model"
   ]
  },
  {
   "cell_type": "code",
   "execution_count": 51,
   "metadata": {},
   "outputs": [],
   "source": [
    "def plot_roc_auc(y_true, y_pred, labels, model_name, file_path, csv_writer, figsize=(15, 10)):\n",
    "    \n",
    "    csv_writer.writerow(['label', 'fpr', 'tpr', 'threshold'])\n",
    "    areas = {}\n",
    "\n",
    "    fig, ax = plt.subplots(1, 1, figsize=figsize)\n",
    "    for i, lbl in enumerate(labels):\n",
    "        fpr, tpr, thresholds = roc_curve(y_true[:, i], y_pred[:, i])\n",
    "        areas[lbl] = auc(fpr, tpr)\n",
    "        ax.plot(fpr, tpr, label = 'Score = %s (AUC: %0.5f)'  % (lbl, areas[lbl]))\n",
    "        csv_writer.writerows(zip([lbl] * len(fpr), fpr, tpr, thresholds))\n",
    "\n",
    "    ax.legend()\n",
    "    ax.set_title('ROC Curves - ' + model_name);\n",
    "    ax.set_xlabel('False Positive Rate (FPR)');\n",
    "    ax.set_ylabel('True Positive Rate (TPR)');\n",
    "    fig.savefig(file_path)\n",
    "    plt.close(fig)\n",
    "\n",
    "    return areas\n",
    "\n",
    "def plot_precision_recall_auc(y_true, y_pred, labels, model_name, file_path, csv_writer, figsize=(15, 10)):\n",
    "\n",
    "    csv_writer.writerow(['pr', 'rc', 'threshold'])\n",
    "    areas = {}\n",
    "\n",
    "    fig, ax = plt.subplots(1, 1, figsize=figsize)\n",
    "    for i, lbl in enumerate(labels):\n",
    "        pr, rc, thresholds = precision_recall_curve(y_true[:, i], y_pred[:, i])\n",
    "        areas[lbl] = auc(rc, pr)\n",
    "        ax.plot(rc, pr, label = 'Score = %s (AUC: %0.5f)'  % (lbl, areas[lbl]))\n",
    "        csv_writer.writerows(zip([lbl] * len(pr), pr, rc, thresholds))\n",
    "\n",
    "    ax.legend()\n",
    "    ax.set_title('Precision-Recall Curve - ' + model_name);\n",
    "    ax.set_xlabel('Recall');\n",
    "    ax.set_ylabel('Precision');\n",
    "    fig.savefig(file_path)\n",
    "    plt.close(fig)\n",
    "\n",
    "    return areas"
   ]
  },
  {
   "cell_type": "code",
   "execution_count": 52,
   "metadata": {},
   "outputs": [
    {
     "name": "stderr",
     "output_type": "stream",
     "text": [
      "2022-06-05 19:19:34.507208: I tensorflow/core/grappler/optimizers/custom_graph_optimizer_registry.cc:113] Plugin optimizer for device_type GPU is enabled.\n"
     ]
    },
    {
     "name": "stdout",
     "output_type": "stream",
     "text": [
      "32/32 [==============================] - 32s 986ms/step\n"
     ]
    },
    {
     "name": "stderr",
     "output_type": "stream",
     "text": [
      "2022-06-05 19:20:07.653555: I tensorflow/core/grappler/optimizers/custom_graph_optimizer_registry.cc:113] Plugin optimizer for device_type GPU is enabled.\n"
     ]
    },
    {
     "name": "stdout",
     "output_type": "stream",
     "text": [
      "32/32 [==============================] - 31s 965ms/step\n"
     ]
    },
    {
     "name": "stderr",
     "output_type": "stream",
     "text": [
      "2022-06-05 19:20:40.053659: I tensorflow/core/grappler/optimizers/custom_graph_optimizer_registry.cc:113] Plugin optimizer for device_type GPU is enabled.\n"
     ]
    },
    {
     "name": "stdout",
     "output_type": "stream",
     "text": [
      "32/32 [==============================] - 31s 961ms/step\n"
     ]
    },
    {
     "name": "stderr",
     "output_type": "stream",
     "text": [
      "2022-06-05 19:21:12.296161: I tensorflow/core/grappler/optimizers/custom_graph_optimizer_registry.cc:113] Plugin optimizer for device_type GPU is enabled.\n"
     ]
    },
    {
     "name": "stdout",
     "output_type": "stream",
     "text": [
      "32/32 [==============================] - 31s 963ms/step\n"
     ]
    },
    {
     "name": "stderr",
     "output_type": "stream",
     "text": [
      "2022-06-05 19:21:44.689410: I tensorflow/core/grappler/optimizers/custom_graph_optimizer_registry.cc:113] Plugin optimizer for device_type GPU is enabled.\n"
     ]
    },
    {
     "name": "stdout",
     "output_type": "stream",
     "text": [
      "32/32 [==============================] - 31s 962ms/step\n"
     ]
    },
    {
     "name": "stderr",
     "output_type": "stream",
     "text": [
      "2022-06-05 19:22:17.075913: I tensorflow/core/grappler/optimizers/custom_graph_optimizer_registry.cc:113] Plugin optimizer for device_type GPU is enabled.\n"
     ]
    },
    {
     "name": "stdout",
     "output_type": "stream",
     "text": [
      "32/32 [==============================] - 31s 962ms/step\n"
     ]
    },
    {
     "name": "stderr",
     "output_type": "stream",
     "text": [
      "2022-06-05 19:22:49.447056: I tensorflow/core/grappler/optimizers/custom_graph_optimizer_registry.cc:113] Plugin optimizer for device_type GPU is enabled.\n"
     ]
    },
    {
     "name": "stdout",
     "output_type": "stream",
     "text": [
      "32/32 [==============================] - 31s 961ms/step\n"
     ]
    }
   ],
   "source": [
    "for i in np.arange(1, 8):\n",
    "    model_name = 'model-' + str(i)\n",
    "\n",
    "    roc_jpg = './results/roc-' + model_name + '.jpg'\n",
    "    roc_csv = './results/roc-' + model_name + '.csv'\n",
    "    auroc_csv = './results/auroc-' + model_name + '.csv'\n",
    "    pr_jpg = './results/pr-' + model_name + '.jpg'\n",
    "    pr_csv = './results/pr-' + model_name + '.csv'\n",
    "    aupr_csv= './results/aupr-' + model_name + '.csv'\n",
    "    \n",
    "    model = load_model('./models/' + model_name + '.h5', compile=False)\n",
    "\n",
    "    val_gen[i].reset()\n",
    "    y_true = val_gen[i].labels\n",
    "    y_pred = model.predict(val_gen[i], batch_size=64, verbose=True)\n",
    "\n",
    "    with open(roc_csv, 'w') as f:\n",
    "        csv_writer = csv.writer(f)\n",
    "        areas = plot_roc_auc(y_true, y_pred, labels, model_name, roc_jpg, csv_writer, figsize=(15, 10))\n",
    "    \n",
    "    with open(auroc_csv, 'w') as f:\n",
    "        dict_writer = csv.DictWriter(f, fieldnames=labels)\n",
    "        dict_writer.writeheader()\n",
    "        dict_writer.writerow(areas)\n",
    "\n",
    "    with open(pr_csv, 'w') as f:\n",
    "        csv_writer = csv.writer(f)\n",
    "        areas = plot_precision_recall_auc(y_true, y_pred, labels, model_name, pr_jpg, csv_writer, figsize=(15, 10))\n",
    "\n",
    "    with open(aupr_csv, 'w') as f:\n",
    "        dict_writer = csv.DictWriter(f, fieldnames=labels)\n",
    "        dict_writer.writeheader()\n",
    "        dict_writer.writerow(areas)"
   ]
  },
  {
   "cell_type": "markdown",
   "metadata": {},
   "source": [
    "For reference, the model summary table from the beginning of the notebook is copied below.\n",
    "\n",
    "<br>\n",
    "\n",
    "__MODEL SUMMARY TABLE__\n",
    "|  | 1 - Baseline | 2 | 3 | 4 | 5 | 6 | 7 |\n",
    "| --- | --- | --- | --- | --- | --- | --- | --- |\n",
    "| Loss | BCE | BCE | BCE | BCE | BCE | Weighted BCE | Weighted BCE |\n",
    "| Base Model | VGG16 | VGG16 | VGG16 | VGG16 | VGG16 | VGG16 | VGG16 |\n",
    "| Model Weights | ImageNet | Untrained | ImageNet | ImageNet | ImageNet | ImageNet | ImageNet |\n",
    "| Data Sampling | Random | Random | Stratified Sampling | Random | Random | Random | Random |\n",
    "| Blocks Frozen | 1-3 | None | 1-3 | None | 1-3 | 1-3 | None |\n",
    "| Pooling Operation | Flatten | Flatten | Flatten | Flatten | GlobalAvg2D | Flatten | Flatten |\n",
    "\n",
    "* BCE = Binary Cross Entropy"
   ]
  },
  {
   "cell_type": "markdown",
   "metadata": {},
   "source": [
    "### Area Under ROC Curve"
   ]
  },
  {
   "cell_type": "code",
   "execution_count": 53,
   "metadata": {},
   "outputs": [
    {
     "data": {
      "text/html": [
       "<style type=\"text/css\">\n",
       "#T_ec3d6_row0_col1, #T_ec3d6_row1_col1, #T_ec3d6_row2_col2, #T_ec3d6_row3_col1, #T_ec3d6_row4_col2, #T_ec3d6_row5_col2, #T_ec3d6_row6_col3, #T_ec3d6_row7_col1, #T_ec3d6_row8_col1, #T_ec3d6_row9_col1, #T_ec3d6_row10_col1, #T_ec3d6_row11_col1, #T_ec3d6_row12_col1, #T_ec3d6_row13_col0 {\n",
       "  color: darkgreen;\n",
       "  background-color: lightgreen;\n",
       "}\n",
       "#T_ec3d6_row0_col6, #T_ec3d6_row1_col6, #T_ec3d6_row2_col6, #T_ec3d6_row3_col6, #T_ec3d6_row4_col6, #T_ec3d6_row5_col5, #T_ec3d6_row6_col6, #T_ec3d6_row7_col6, #T_ec3d6_row8_col6, #T_ec3d6_row9_col5, #T_ec3d6_row10_col5, #T_ec3d6_row11_col6, #T_ec3d6_row12_col6, #T_ec3d6_row13_col6 {\n",
       "  color: darkred;\n",
       "  background-color: salmon;\n",
       "}\n",
       "</style>\n",
       "<table id=\"T_ec3d6\">\n",
       "  <caption>SUMMARY - Area Under ROC Curve</caption>\n",
       "  <thead>\n",
       "    <tr>\n",
       "      <th class=\"index_name level0\" >File</th>\n",
       "      <th id=\"T_ec3d6_level0_col0\" class=\"col_heading level0 col0\" >auroc-model-1.csv</th>\n",
       "      <th id=\"T_ec3d6_level0_col1\" class=\"col_heading level0 col1\" >auroc-model-2.csv</th>\n",
       "      <th id=\"T_ec3d6_level0_col2\" class=\"col_heading level0 col2\" >auroc-model-3.csv</th>\n",
       "      <th id=\"T_ec3d6_level0_col3\" class=\"col_heading level0 col3\" >auroc-model-4.csv</th>\n",
       "      <th id=\"T_ec3d6_level0_col4\" class=\"col_heading level0 col4\" >auroc-model-5.csv</th>\n",
       "      <th id=\"T_ec3d6_level0_col5\" class=\"col_heading level0 col5\" >auroc-model-6.csv</th>\n",
       "      <th id=\"T_ec3d6_level0_col6\" class=\"col_heading level0 col6\" >auroc-model-7.csv</th>\n",
       "    </tr>\n",
       "  </thead>\n",
       "  <tbody>\n",
       "    <tr>\n",
       "      <th id=\"T_ec3d6_level0_row0\" class=\"row_heading level0 row0\" >Atelectasis</th>\n",
       "      <td id=\"T_ec3d6_row0_col0\" class=\"data row0 col0\" >0.702118</td>\n",
       "      <td id=\"T_ec3d6_row0_col1\" class=\"data row0 col1\" >0.723808</td>\n",
       "      <td id=\"T_ec3d6_row0_col2\" class=\"data row0 col2\" >0.701123</td>\n",
       "      <td id=\"T_ec3d6_row0_col3\" class=\"data row0 col3\" >0.696858</td>\n",
       "      <td id=\"T_ec3d6_row0_col4\" class=\"data row0 col4\" >0.709432</td>\n",
       "      <td id=\"T_ec3d6_row0_col5\" class=\"data row0 col5\" >0.637684</td>\n",
       "      <td id=\"T_ec3d6_row0_col6\" class=\"data row0 col6\" >0.500000</td>\n",
       "    </tr>\n",
       "    <tr>\n",
       "      <th id=\"T_ec3d6_level0_row1\" class=\"row_heading level0 row1\" >Cardiomegaly</th>\n",
       "      <td id=\"T_ec3d6_row1_col0\" class=\"data row1 col0\" >0.598420</td>\n",
       "      <td id=\"T_ec3d6_row1_col1\" class=\"data row1 col1\" >0.784200</td>\n",
       "      <td id=\"T_ec3d6_row1_col2\" class=\"data row1 col2\" >0.627678</td>\n",
       "      <td id=\"T_ec3d6_row1_col3\" class=\"data row1 col3\" >0.607695</td>\n",
       "      <td id=\"T_ec3d6_row1_col4\" class=\"data row1 col4\" >0.573174</td>\n",
       "      <td id=\"T_ec3d6_row1_col5\" class=\"data row1 col5\" >0.602637</td>\n",
       "      <td id=\"T_ec3d6_row1_col6\" class=\"data row1 col6\" >0.500000</td>\n",
       "    </tr>\n",
       "    <tr>\n",
       "      <th id=\"T_ec3d6_level0_row2\" class=\"row_heading level0 row2\" >Consolidation</th>\n",
       "      <td id=\"T_ec3d6_row2_col0\" class=\"data row2 col0\" >0.773982</td>\n",
       "      <td id=\"T_ec3d6_row2_col1\" class=\"data row2 col1\" >0.764722</td>\n",
       "      <td id=\"T_ec3d6_row2_col2\" class=\"data row2 col2\" >0.798216</td>\n",
       "      <td id=\"T_ec3d6_row2_col3\" class=\"data row2 col3\" >0.746203</td>\n",
       "      <td id=\"T_ec3d6_row2_col4\" class=\"data row2 col4\" >0.741791</td>\n",
       "      <td id=\"T_ec3d6_row2_col5\" class=\"data row2 col5\" >0.658838</td>\n",
       "      <td id=\"T_ec3d6_row2_col6\" class=\"data row2 col6\" >0.500000</td>\n",
       "    </tr>\n",
       "    <tr>\n",
       "      <th id=\"T_ec3d6_level0_row3\" class=\"row_heading level0 row3\" >Edema</th>\n",
       "      <td id=\"T_ec3d6_row3_col0\" class=\"data row3 col0\" >0.814848</td>\n",
       "      <td id=\"T_ec3d6_row3_col1\" class=\"data row3 col1\" >0.883571</td>\n",
       "      <td id=\"T_ec3d6_row3_col2\" class=\"data row3 col2\" >0.866344</td>\n",
       "      <td id=\"T_ec3d6_row3_col3\" class=\"data row3 col3\" >0.824819</td>\n",
       "      <td id=\"T_ec3d6_row3_col4\" class=\"data row3 col4\" >0.820307</td>\n",
       "      <td id=\"T_ec3d6_row3_col5\" class=\"data row3 col5\" >0.674177</td>\n",
       "      <td id=\"T_ec3d6_row3_col6\" class=\"data row3 col6\" >0.500000</td>\n",
       "    </tr>\n",
       "    <tr>\n",
       "      <th id=\"T_ec3d6_level0_row4\" class=\"row_heading level0 row4\" >Effusion</th>\n",
       "      <td id=\"T_ec3d6_row4_col0\" class=\"data row4 col0\" >0.842635</td>\n",
       "      <td id=\"T_ec3d6_row4_col1\" class=\"data row4 col1\" >0.839346</td>\n",
       "      <td id=\"T_ec3d6_row4_col2\" class=\"data row4 col2\" >0.842761</td>\n",
       "      <td id=\"T_ec3d6_row4_col3\" class=\"data row4 col3\" >0.814995</td>\n",
       "      <td id=\"T_ec3d6_row4_col4\" class=\"data row4 col4\" >0.795491</td>\n",
       "      <td id=\"T_ec3d6_row4_col5\" class=\"data row4 col5\" >0.655274</td>\n",
       "      <td id=\"T_ec3d6_row4_col6\" class=\"data row4 col6\" >0.500000</td>\n",
       "    </tr>\n",
       "    <tr>\n",
       "      <th id=\"T_ec3d6_level0_row5\" class=\"row_heading level0 row5\" >Emphysema</th>\n",
       "      <td id=\"T_ec3d6_row5_col0\" class=\"data row5 col0\" >0.711032</td>\n",
       "      <td id=\"T_ec3d6_row5_col1\" class=\"data row5 col1\" >0.598359</td>\n",
       "      <td id=\"T_ec3d6_row5_col2\" class=\"data row5 col2\" >0.753283</td>\n",
       "      <td id=\"T_ec3d6_row5_col3\" class=\"data row5 col3\" >0.633503</td>\n",
       "      <td id=\"T_ec3d6_row5_col4\" class=\"data row5 col4\" >0.660897</td>\n",
       "      <td id=\"T_ec3d6_row5_col5\" class=\"data row5 col5\" >0.492538</td>\n",
       "      <td id=\"T_ec3d6_row5_col6\" class=\"data row5 col6\" >0.500000</td>\n",
       "    </tr>\n",
       "    <tr>\n",
       "      <th id=\"T_ec3d6_level0_row6\" class=\"row_heading level0 row6\" >Fibrosis</th>\n",
       "      <td id=\"T_ec3d6_row6_col0\" class=\"data row6 col0\" >0.686561</td>\n",
       "      <td id=\"T_ec3d6_row6_col1\" class=\"data row6 col1\" >0.679107</td>\n",
       "      <td id=\"T_ec3d6_row6_col2\" class=\"data row6 col2\" >0.669490</td>\n",
       "      <td id=\"T_ec3d6_row6_col3\" class=\"data row6 col3\" >0.690034</td>\n",
       "      <td id=\"T_ec3d6_row6_col4\" class=\"data row6 col4\" >0.622602</td>\n",
       "      <td id=\"T_ec3d6_row6_col5\" class=\"data row6 col5\" >0.582349</td>\n",
       "      <td id=\"T_ec3d6_row6_col6\" class=\"data row6 col6\" >0.500000</td>\n",
       "    </tr>\n",
       "    <tr>\n",
       "      <th id=\"T_ec3d6_level0_row7\" class=\"row_heading level0 row7\" >Hernia</th>\n",
       "      <td id=\"T_ec3d6_row7_col0\" class=\"data row7 col0\" >0.791354</td>\n",
       "      <td id=\"T_ec3d6_row7_col1\" class=\"data row7 col1\" >0.945752</td>\n",
       "      <td id=\"T_ec3d6_row7_col2\" class=\"data row7 col2\" >0.905692</td>\n",
       "      <td id=\"T_ec3d6_row7_col3\" class=\"data row7 col3\" >0.533801</td>\n",
       "      <td id=\"T_ec3d6_row7_col4\" class=\"data row7 col4\" >0.908029</td>\n",
       "      <td id=\"T_ec3d6_row7_col5\" class=\"data row7 col5\" >0.766984</td>\n",
       "      <td id=\"T_ec3d6_row7_col6\" class=\"data row7 col6\" >0.500000</td>\n",
       "    </tr>\n",
       "    <tr>\n",
       "      <th id=\"T_ec3d6_level0_row8\" class=\"row_heading level0 row8\" >Infiltration</th>\n",
       "      <td id=\"T_ec3d6_row8_col0\" class=\"data row8 col0\" >0.634464</td>\n",
       "      <td id=\"T_ec3d6_row8_col1\" class=\"data row8 col1\" >0.670350</td>\n",
       "      <td id=\"T_ec3d6_row8_col2\" class=\"data row8 col2\" >0.615125</td>\n",
       "      <td id=\"T_ec3d6_row8_col3\" class=\"data row8 col3\" >0.632026</td>\n",
       "      <td id=\"T_ec3d6_row8_col4\" class=\"data row8 col4\" >0.634433</td>\n",
       "      <td id=\"T_ec3d6_row8_col5\" class=\"data row8 col5\" >0.600558</td>\n",
       "      <td id=\"T_ec3d6_row8_col6\" class=\"data row8 col6\" >0.500000</td>\n",
       "    </tr>\n",
       "    <tr>\n",
       "      <th id=\"T_ec3d6_level0_row9\" class=\"row_heading level0 row9\" >Mass</th>\n",
       "      <td id=\"T_ec3d6_row9_col0\" class=\"data row9 col0\" >0.648182</td>\n",
       "      <td id=\"T_ec3d6_row9_col1\" class=\"data row9 col1\" >0.732572</td>\n",
       "      <td id=\"T_ec3d6_row9_col2\" class=\"data row9 col2\" >0.635370</td>\n",
       "      <td id=\"T_ec3d6_row9_col3\" class=\"data row9 col3\" >0.594927</td>\n",
       "      <td id=\"T_ec3d6_row9_col4\" class=\"data row9 col4\" >0.615972</td>\n",
       "      <td id=\"T_ec3d6_row9_col5\" class=\"data row9 col5\" >0.438827</td>\n",
       "      <td id=\"T_ec3d6_row9_col6\" class=\"data row9 col6\" >0.500000</td>\n",
       "    </tr>\n",
       "    <tr>\n",
       "      <th id=\"T_ec3d6_level0_row10\" class=\"row_heading level0 row10\" >Nodule</th>\n",
       "      <td id=\"T_ec3d6_row10_col0\" class=\"data row10 col0\" >0.574052</td>\n",
       "      <td id=\"T_ec3d6_row10_col1\" class=\"data row10 col1\" >0.598381</td>\n",
       "      <td id=\"T_ec3d6_row10_col2\" class=\"data row10 col2\" >0.584197</td>\n",
       "      <td id=\"T_ec3d6_row10_col3\" class=\"data row10 col3\" >0.504374</td>\n",
       "      <td id=\"T_ec3d6_row10_col4\" class=\"data row10 col4\" >0.533344</td>\n",
       "      <td id=\"T_ec3d6_row10_col5\" class=\"data row10 col5\" >0.487344</td>\n",
       "      <td id=\"T_ec3d6_row10_col6\" class=\"data row10 col6\" >0.500000</td>\n",
       "    </tr>\n",
       "    <tr>\n",
       "      <th id=\"T_ec3d6_level0_row11\" class=\"row_heading level0 row11\" >Pleural_Thickening</th>\n",
       "      <td id=\"T_ec3d6_row11_col0\" class=\"data row11 col0\" >0.711114</td>\n",
       "      <td id=\"T_ec3d6_row11_col1\" class=\"data row11 col1\" >0.741617</td>\n",
       "      <td id=\"T_ec3d6_row11_col2\" class=\"data row11 col2\" >0.710882</td>\n",
       "      <td id=\"T_ec3d6_row11_col3\" class=\"data row11 col3\" >0.669826</td>\n",
       "      <td id=\"T_ec3d6_row11_col4\" class=\"data row11 col4\" >0.578245</td>\n",
       "      <td id=\"T_ec3d6_row11_col5\" class=\"data row11 col5\" >0.518748</td>\n",
       "      <td id=\"T_ec3d6_row11_col6\" class=\"data row11 col6\" >0.500000</td>\n",
       "    </tr>\n",
       "    <tr>\n",
       "      <th id=\"T_ec3d6_level0_row12\" class=\"row_heading level0 row12\" >Pneumonia</th>\n",
       "      <td id=\"T_ec3d6_row12_col0\" class=\"data row12 col0\" >0.692566</td>\n",
       "      <td id=\"T_ec3d6_row12_col1\" class=\"data row12 col1\" >0.719503</td>\n",
       "      <td id=\"T_ec3d6_row12_col2\" class=\"data row12 col2\" >0.603711</td>\n",
       "      <td id=\"T_ec3d6_row12_col3\" class=\"data row12 col3\" >0.619688</td>\n",
       "      <td id=\"T_ec3d6_row12_col4\" class=\"data row12 col4\" >0.581035</td>\n",
       "      <td id=\"T_ec3d6_row12_col5\" class=\"data row12 col5\" >0.526769</td>\n",
       "      <td id=\"T_ec3d6_row12_col6\" class=\"data row12 col6\" >0.500000</td>\n",
       "    </tr>\n",
       "    <tr>\n",
       "      <th id=\"T_ec3d6_level0_row13\" class=\"row_heading level0 row13\" >Pneumothorax</th>\n",
       "      <td id=\"T_ec3d6_row13_col0\" class=\"data row13 col0\" >0.737191</td>\n",
       "      <td id=\"T_ec3d6_row13_col1\" class=\"data row13 col1\" >0.737070</td>\n",
       "      <td id=\"T_ec3d6_row13_col2\" class=\"data row13 col2\" >0.703136</td>\n",
       "      <td id=\"T_ec3d6_row13_col3\" class=\"data row13 col3\" >0.677414</td>\n",
       "      <td id=\"T_ec3d6_row13_col4\" class=\"data row13 col4\" >0.668935</td>\n",
       "      <td id=\"T_ec3d6_row13_col5\" class=\"data row13 col5\" >0.578308</td>\n",
       "      <td id=\"T_ec3d6_row13_col6\" class=\"data row13 col6\" >0.500000</td>\n",
       "    </tr>\n",
       "  </tbody>\n",
       "</table>\n"
      ],
      "text/plain": [
       "<pandas.io.formats.style.Styler at 0x105d57b80>"
      ]
     },
     "execution_count": 53,
     "metadata": {},
     "output_type": "execute_result"
    }
   ],
   "source": [
    "import os\n",
    "\n",
    "def highlight_max(s, props=''):\n",
    "    return np.where(s == np.max(s.values), props, '')\n",
    "\n",
    "def highlight_min(s, props=''):\n",
    "    return np.where(s == np.min(s.values), props, '')\n",
    "\n",
    "results_dir = r'./results/'\n",
    "csv_files = sorted([x for x in os.listdir(results_dir) if 'csv' in x and 'auroc' in x])\n",
    "\n",
    "df_list = [pd.read_csv(results_dir + file).assign(File=file) for file in csv_files]\n",
    "\n",
    "df = pd.concat(df_list, ignore_index=True)\n",
    "df = df.set_index('File')\n",
    "df = df.transpose()\n",
    "\n",
    "df.style.apply(\n",
    "    highlight_max, props='color:darkgreen;background-color:lightgreen', axis=1\n",
    "        ).apply(\n",
    "    highlight_min, props='color:darkred;background-color:salmon', axis=1\n",
    "        ).set_caption('SUMMARY - Area Under ROC Curve')"
   ]
  },
  {
   "cell_type": "markdown",
   "metadata": {},
   "source": [
    "__Observations__\n",
    "\n",
    "* Green-colored cell = best performing model for the given label\n",
    "\n",
    "* Red-colored cell = worst performing model for the given label\n",
    "\n",
    "* As shown in the dataframe above, all models (6 & 7) with the weighted loss did not perform very well. In model-7, the model does not seem to be learning."
   ]
  },
  {
   "cell_type": "code",
   "execution_count": 55,
   "metadata": {},
   "outputs": [
    {
     "name": "stdout",
     "output_type": "stream",
     "text": [
      "Average AUROC:\n",
      "auroc-model-1.csv: 0.708466\n",
      "auroc-model-2.csv: 0.744168\n",
      "auroc-model-3.csv: 0.715501\n",
      "auroc-model-4.csv: 0.660440\n",
      "auroc-model-5.csv: 0.674549\n"
     ]
    }
   ],
   "source": [
    "print('Average AUROC:')\n",
    "for ind, col in df_drop.iteritems():\n",
    "    print('%s: %0.6f' % (ind, col.mean()))"
   ]
  },
  {
   "cell_type": "markdown",
   "metadata": {},
   "source": [
    "__Observations__\n",
    "\n",
    "* All models were able to achieve an AUROC of around ~0.7. However, as discussed above, AUROC is overly optimistic for the problem at hand due to the inclusion of FNs in the calculation.\n",
    "\n",
    "* model-2 performed the best (both on average & in terms of number of green cells). model-1 and model-3 are not far behind.\n",
    "\n",
    "* The ROC Curves for model 1 (baseline model) is shown below."
   ]
  },
  {
   "cell_type": "markdown",
   "metadata": {},
   "source": [
    "![image](./results/roc-model-1.jpg)"
   ]
  },
  {
   "cell_type": "markdown",
   "metadata": {},
   "source": [
    "### Area Under PR Curve"
   ]
  },
  {
   "cell_type": "code",
   "execution_count": 66,
   "metadata": {},
   "outputs": [
    {
     "data": {
      "text/html": [
       "<style type=\"text/css\">\n",
       "#T_05509_row0_col1, #T_05509_row1_col1, #T_05509_row2_col0, #T_05509_row3_col1, #T_05509_row4_col1, #T_05509_row5_col2, #T_05509_row6_col5, #T_05509_row7_col2, #T_05509_row8_col4, #T_05509_row9_col1, #T_05509_row10_col2, #T_05509_row11_col2, #T_05509_row12_col1, #T_05509_row13_col0 {\n",
       "  color: darkgreen;\n",
       "  background-color: lightgreen;\n",
       "}\n",
       "#T_05509_row0_col5, #T_05509_row1_col4, #T_05509_row2_col5, #T_05509_row3_col5, #T_05509_row4_col5, #T_05509_row5_col5, #T_05509_row6_col0, #T_05509_row7_col3, #T_05509_row8_col5, #T_05509_row9_col5, #T_05509_row10_col5, #T_05509_row11_col4, #T_05509_row12_col4, #T_05509_row13_col5 {\n",
       "  color: darkred;\n",
       "  background-color: salmon;\n",
       "}\n",
       "</style>\n",
       "<table id=\"T_05509\">\n",
       "  <caption>SUMMARY - Area Under PR Curve</caption>\n",
       "  <thead>\n",
       "    <tr>\n",
       "      <th class=\"index_name level0\" >File</th>\n",
       "      <th id=\"T_05509_level0_col0\" class=\"col_heading level0 col0\" >aupr-model-1.csv</th>\n",
       "      <th id=\"T_05509_level0_col1\" class=\"col_heading level0 col1\" >aupr-model-2.csv</th>\n",
       "      <th id=\"T_05509_level0_col2\" class=\"col_heading level0 col2\" >aupr-model-3.csv</th>\n",
       "      <th id=\"T_05509_level0_col3\" class=\"col_heading level0 col3\" >aupr-model-4.csv</th>\n",
       "      <th id=\"T_05509_level0_col4\" class=\"col_heading level0 col4\" >aupr-model-5.csv</th>\n",
       "      <th id=\"T_05509_level0_col5\" class=\"col_heading level0 col5\" >aupr-model-6.csv</th>\n",
       "    </tr>\n",
       "  </thead>\n",
       "  <tbody>\n",
       "    <tr>\n",
       "      <th id=\"T_05509_level0_row0\" class=\"row_heading level0 row0\" >Atelectasis</th>\n",
       "      <td id=\"T_05509_row0_col0\" class=\"data row0 col0\" >0.163996</td>\n",
       "      <td id=\"T_05509_row0_col1\" class=\"data row0 col1\" >0.208453</td>\n",
       "      <td id=\"T_05509_row0_col2\" class=\"data row0 col2\" >0.188021</td>\n",
       "      <td id=\"T_05509_row0_col3\" class=\"data row0 col3\" >0.190985</td>\n",
       "      <td id=\"T_05509_row0_col4\" class=\"data row0 col4\" >0.181487</td>\n",
       "      <td id=\"T_05509_row0_col5\" class=\"data row0 col5\" >0.124074</td>\n",
       "    </tr>\n",
       "    <tr>\n",
       "      <th id=\"T_05509_level0_row1\" class=\"row_heading level0 row1\" >Cardiomegaly</th>\n",
       "      <td id=\"T_05509_row1_col0\" class=\"data row1 col0\" >0.029388</td>\n",
       "      <td id=\"T_05509_row1_col1\" class=\"data row1 col1\" >0.099773</td>\n",
       "      <td id=\"T_05509_row1_col2\" class=\"data row1 col2\" >0.034887</td>\n",
       "      <td id=\"T_05509_row1_col3\" class=\"data row1 col3\" >0.034422</td>\n",
       "      <td id=\"T_05509_row1_col4\" class=\"data row1 col4\" >0.026664</td>\n",
       "      <td id=\"T_05509_row1_col5\" class=\"data row1 col5\" >0.035608</td>\n",
       "    </tr>\n",
       "    <tr>\n",
       "      <th id=\"T_05509_level0_row2\" class=\"row_heading level0 row2\" >Consolidation</th>\n",
       "      <td id=\"T_05509_row2_col0\" class=\"data row2 col0\" >0.133307</td>\n",
       "      <td id=\"T_05509_row2_col1\" class=\"data row2 col1\" >0.116111</td>\n",
       "      <td id=\"T_05509_row2_col2\" class=\"data row2 col2\" >0.121504</td>\n",
       "      <td id=\"T_05509_row2_col3\" class=\"data row2 col3\" >0.087189</td>\n",
       "      <td id=\"T_05509_row2_col4\" class=\"data row2 col4\" >0.092257</td>\n",
       "      <td id=\"T_05509_row2_col5\" class=\"data row2 col5\" >0.059008</td>\n",
       "    </tr>\n",
       "    <tr>\n",
       "      <th id=\"T_05509_level0_row3\" class=\"row_heading level0 row3\" >Edema</th>\n",
       "      <td id=\"T_05509_row3_col0\" class=\"data row3 col0\" >0.066418</td>\n",
       "      <td id=\"T_05509_row3_col1\" class=\"data row3 col1\" >0.154025</td>\n",
       "      <td id=\"T_05509_row3_col2\" class=\"data row3 col2\" >0.107548</td>\n",
       "      <td id=\"T_05509_row3_col3\" class=\"data row3 col3\" >0.081605</td>\n",
       "      <td id=\"T_05509_row3_col4\" class=\"data row3 col4\" >0.092446</td>\n",
       "      <td id=\"T_05509_row3_col5\" class=\"data row3 col5\" >0.032207</td>\n",
       "    </tr>\n",
       "    <tr>\n",
       "      <th id=\"T_05509_level0_row4\" class=\"row_heading level0 row4\" >Effusion</th>\n",
       "      <td id=\"T_05509_row4_col0\" class=\"data row4 col0\" >0.362956</td>\n",
       "      <td id=\"T_05509_row4_col1\" class=\"data row4 col1\" >0.462039</td>\n",
       "      <td id=\"T_05509_row4_col2\" class=\"data row4 col2\" >0.379477</td>\n",
       "      <td id=\"T_05509_row4_col3\" class=\"data row4 col3\" >0.315252</td>\n",
       "      <td id=\"T_05509_row4_col4\" class=\"data row4 col4\" >0.307007</td>\n",
       "      <td id=\"T_05509_row4_col5\" class=\"data row4 col5\" >0.161078</td>\n",
       "    </tr>\n",
       "    <tr>\n",
       "      <th id=\"T_05509_level0_row5\" class=\"row_heading level0 row5\" >Emphysema</th>\n",
       "      <td id=\"T_05509_row5_col0\" class=\"data row5 col0\" >0.039089</td>\n",
       "      <td id=\"T_05509_row5_col1\" class=\"data row5 col1\" >0.022377</td>\n",
       "      <td id=\"T_05509_row5_col2\" class=\"data row5 col2\" >0.075734</td>\n",
       "      <td id=\"T_05509_row5_col3\" class=\"data row5 col3\" >0.023995</td>\n",
       "      <td id=\"T_05509_row5_col4\" class=\"data row5 col4\" >0.024209</td>\n",
       "      <td id=\"T_05509_row5_col5\" class=\"data row5 col5\" >0.013646</td>\n",
       "    </tr>\n",
       "    <tr>\n",
       "      <th id=\"T_05509_level0_row6\" class=\"row_heading level0 row6\" >Fibrosis</th>\n",
       "      <td id=\"T_05509_row6_col0\" class=\"data row6 col0\" >0.026073</td>\n",
       "      <td id=\"T_05509_row6_col1\" class=\"data row6 col1\" >0.027248</td>\n",
       "      <td id=\"T_05509_row6_col2\" class=\"data row6 col2\" >0.028627</td>\n",
       "      <td id=\"T_05509_row6_col3\" class=\"data row6 col3\" >0.050686</td>\n",
       "      <td id=\"T_05509_row6_col4\" class=\"data row6 col4\" >0.028503</td>\n",
       "      <td id=\"T_05509_row6_col5\" class=\"data row6 col5\" >0.053506</td>\n",
       "    </tr>\n",
       "    <tr>\n",
       "      <th id=\"T_05509_level0_row7\" class=\"row_heading level0 row7\" >Hernia</th>\n",
       "      <td id=\"T_05509_row7_col0\" class=\"data row7 col0\" >0.003327</td>\n",
       "      <td id=\"T_05509_row7_col1\" class=\"data row7 col1\" >0.034359</td>\n",
       "      <td id=\"T_05509_row7_col2\" class=\"data row7 col2\" >0.095646</td>\n",
       "      <td id=\"T_05509_row7_col3\" class=\"data row7 col3\" >0.001482</td>\n",
       "      <td id=\"T_05509_row7_col4\" class=\"data row7 col4\" >0.007516</td>\n",
       "      <td id=\"T_05509_row7_col5\" class=\"data row7 col5\" >0.003624</td>\n",
       "    </tr>\n",
       "    <tr>\n",
       "      <th id=\"T_05509_level0_row8\" class=\"row_heading level0 row8\" >Infiltration</th>\n",
       "      <td id=\"T_05509_row8_col0\" class=\"data row8 col0\" >0.245505</td>\n",
       "      <td id=\"T_05509_row8_col1\" class=\"data row8 col1\" >0.264793</td>\n",
       "      <td id=\"T_05509_row8_col2\" class=\"data row8 col2\" >0.244522</td>\n",
       "      <td id=\"T_05509_row8_col3\" class=\"data row8 col3\" >0.245339</td>\n",
       "      <td id=\"T_05509_row8_col4\" class=\"data row8 col4\" >0.265377</td>\n",
       "      <td id=\"T_05509_row8_col5\" class=\"data row8 col5\" >0.234943</td>\n",
       "    </tr>\n",
       "    <tr>\n",
       "      <th id=\"T_05509_level0_row9\" class=\"row_heading level0 row9\" >Mass</th>\n",
       "      <td id=\"T_05509_row9_col0\" class=\"data row9 col0\" >0.096686</td>\n",
       "      <td id=\"T_05509_row9_col1\" class=\"data row9 col1\" >0.130011</td>\n",
       "      <td id=\"T_05509_row9_col2\" class=\"data row9 col2\" >0.078362</td>\n",
       "      <td id=\"T_05509_row9_col3\" class=\"data row9 col3\" >0.081518</td>\n",
       "      <td id=\"T_05509_row9_col4\" class=\"data row9 col4\" >0.088850</td>\n",
       "      <td id=\"T_05509_row9_col5\" class=\"data row9 col5\" >0.034478</td>\n",
       "    </tr>\n",
       "    <tr>\n",
       "      <th id=\"T_05509_level0_row10\" class=\"row_heading level0 row10\" >Nodule</th>\n",
       "      <td id=\"T_05509_row10_col0\" class=\"data row10 col0\" >0.086840</td>\n",
       "      <td id=\"T_05509_row10_col1\" class=\"data row10 col1\" >0.060450</td>\n",
       "      <td id=\"T_05509_row10_col2\" class=\"data row10 col2\" >0.096874</td>\n",
       "      <td id=\"T_05509_row10_col3\" class=\"data row10 col3\" >0.048797</td>\n",
       "      <td id=\"T_05509_row10_col4\" class=\"data row10 col4\" >0.050891</td>\n",
       "      <td id=\"T_05509_row10_col5\" class=\"data row10 col5\" >0.045528</td>\n",
       "    </tr>\n",
       "    <tr>\n",
       "      <th id=\"T_05509_level0_row11\" class=\"row_heading level0 row11\" >Pleural_Thickening</th>\n",
       "      <td id=\"T_05509_row11_col0\" class=\"data row11 col0\" >0.051967</td>\n",
       "      <td id=\"T_05509_row11_col1\" class=\"data row11 col1\" >0.062204</td>\n",
       "      <td id=\"T_05509_row11_col2\" class=\"data row11 col2\" >0.084331</td>\n",
       "      <td id=\"T_05509_row11_col3\" class=\"data row11 col3\" >0.047472</td>\n",
       "      <td id=\"T_05509_row11_col4\" class=\"data row11 col4\" >0.032793</td>\n",
       "      <td id=\"T_05509_row11_col5\" class=\"data row11 col5\" >0.036866</td>\n",
       "    </tr>\n",
       "    <tr>\n",
       "      <th id=\"T_05509_level0_row12\" class=\"row_heading level0 row12\" >Pneumonia</th>\n",
       "      <td id=\"T_05509_row12_col0\" class=\"data row12 col0\" >0.018845</td>\n",
       "      <td id=\"T_05509_row12_col1\" class=\"data row12 col1\" >0.024604</td>\n",
       "      <td id=\"T_05509_row12_col2\" class=\"data row12 col2\" >0.014459</td>\n",
       "      <td id=\"T_05509_row12_col3\" class=\"data row12 col3\" >0.015023</td>\n",
       "      <td id=\"T_05509_row12_col4\" class=\"data row12 col4\" >0.010360</td>\n",
       "      <td id=\"T_05509_row12_col5\" class=\"data row12 col5\" >0.020659</td>\n",
       "    </tr>\n",
       "    <tr>\n",
       "      <th id=\"T_05509_level0_row13\" class=\"row_heading level0 row13\" >Pneumothorax</th>\n",
       "      <td id=\"T_05509_row13_col0\" class=\"data row13 col0\" >0.089329</td>\n",
       "      <td id=\"T_05509_row13_col1\" class=\"data row13 col1\" >0.070073</td>\n",
       "      <td id=\"T_05509_row13_col2\" class=\"data row13 col2\" >0.082689</td>\n",
       "      <td id=\"T_05509_row13_col3\" class=\"data row13 col3\" >0.053082</td>\n",
       "      <td id=\"T_05509_row13_col4\" class=\"data row13 col4\" >0.045804</td>\n",
       "      <td id=\"T_05509_row13_col5\" class=\"data row13 col5\" >0.035993</td>\n",
       "    </tr>\n",
       "  </tbody>\n",
       "</table>\n"
      ],
      "text/plain": [
       "<pandas.io.formats.style.Styler at 0x284fa47f0>"
      ]
     },
     "execution_count": 66,
     "metadata": {},
     "output_type": "execute_result"
    }
   ],
   "source": [
    "csv_files = sorted([x for x in os.listdir(results_dir) if 'csv' in x and 'aupr' in x])\n",
    "\n",
    "df_list = [pd.read_csv(results_dir + file).assign(File=file) for file in csv_files]\n",
    "\n",
    "df = pd.concat(df_list, ignore_index=True)\n",
    "df = df.set_index('File')\n",
    "df = df.transpose()\n",
    "\n",
    "# model-7 is erroneous, thus, is removed from this assessment.\n",
    "df_drop = df.drop('aupr-model-7.csv', axis=1)\n",
    "\n",
    "df_drop.style.apply(\n",
    "    highlight_max, props='color:darkgreen;background-color:lightgreen', axis=1\n",
    "        ).apply(\n",
    "    highlight_min, props='color:darkred;background-color:salmon', axis=1\n",
    "        ).set_caption(\"SUMMARY - Area Under PR Curve\")"
   ]
  },
  {
   "cell_type": "code",
   "execution_count": 68,
   "metadata": {},
   "outputs": [
    {
     "name": "stdout",
     "output_type": "stream",
     "text": [
      "Average AUPR:\n",
      "aupr-model-1.csv: 0.100980\n",
      "aupr-model-2.csv: 0.124037\n",
      "aupr-model-3.csv: 0.116620\n",
      "aupr-model-4.csv: 0.091203\n",
      "aupr-model-5.csv: 0.089583\n",
      "aupr-model-6.csv: 0.063659\n"
     ]
    }
   ],
   "source": [
    "print('Average AUPR:')\n",
    "for ind, col in df_drop.iteritems():\n",
    "    print('%s: %0.6f' % (ind, col.mean()))"
   ]
  },
  {
   "cell_type": "markdown",
   "metadata": {},
   "source": [
    "__Observations__\n",
    "\n",
    "* The AUPR is a much less optimistic evaluation of the models, with most models hovering around an average AUPR = 0.1\n",
    "\n",
    "* The conclusions from AUPR is the same for AUROC: model 1, 2, 3 are the best performing models, whereas model 4-7 do not perform that well.\n",
    "\n",
    "* Insights gained from model-4 and model-5:\n",
    "\n",
    "    * model-4: Baseline VGG16 + Initial Layers Unfrozen. It is generally known that the initial layers of a DNN contain lower-order features learned by the model. When unfreezing these layers from a pretrained model, it alters these lower-end features and diminishes the benefit of the pre-training step. \n",
    "\n",
    "    * model-5: Baseline VGG16 + GlobalAvg2D. A Flatten layer results in more parameters. While a GlobalAvg2D layer is more computationallly efficient, model-5 may be losing information.\n",
    "\n",
    "The PR curve for model-1 is shown below."
   ]
  },
  {
   "cell_type": "markdown",
   "metadata": {},
   "source": [
    "![image](./results/pr-model-1.jpg)"
   ]
  },
  {
   "cell_type": "markdown",
   "metadata": {},
   "source": []
  }
 ],
 "metadata": {
  "interpreter": {
   "hash": "fa43bd50a20cd5661701f4acb13b172d996ea76a51a0aaa8c34ea9fcb2567a0c"
  },
  "kernelspec": {
   "display_name": "Python 3.9.13 ('tf-gpu')",
   "language": "python",
   "name": "python3"
  },
  "language_info": {
   "codemirror_mode": {
    "name": "ipython",
    "version": 3
   },
   "file_extension": ".py",
   "mimetype": "text/x-python",
   "name": "python",
   "nbconvert_exporter": "python",
   "pygments_lexer": "ipython3",
   "version": "3.9.13"
  },
  "orig_nbformat": 4
 },
 "nbformat": 4,
 "nbformat_minor": 2
}
